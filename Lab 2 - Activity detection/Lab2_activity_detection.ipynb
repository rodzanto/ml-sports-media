{
 "cells": [
  {
   "cell_type": "markdown",
   "metadata": {},
   "source": [
    "## Lab #2 - Activity Detection"
   ]
  },
  {
   "cell_type": "markdown",
   "metadata": {},
   "source": [
    "In this lab, we will run an activity detection example on small videos extracted from a main video. For this purpose we will:\n",
    "- Pre-process the main video for splitting it in multiple small videos\n",
    "- Create a video classification labeling job with Amazon SageMaker GroundTruth for going through the small videos set\n",
    "- Train an actvitiy detection model on the labeled data with an Amazon SageMaker estimator, applying transfer learning with a pre-trained model from a model zoo\n",
    "- Deploy the trained model to an Amazon SageMaker endpoint for performing some real-time inferences with sample videos"
   ]
  },
  {
   "cell_type": "markdown",
   "metadata": {},
   "source": [
    "## Setup"
   ]
  },
  {
   "cell_type": "markdown",
   "metadata": {},
   "source": [
    "#### Libraries"
   ]
  },
  {
   "cell_type": "code",
   "execution_count": 26,
   "metadata": {},
   "outputs": [],
   "source": [
    "import sagemaker\n",
    "from sagemaker import get_execution_role\n",
    "import boto3\n",
    "import os\n",
    "import json\n",
    "import matplotlib.pyplot as plt\n",
    "import time"
   ]
  },
  {
   "cell_type": "markdown",
   "metadata": {},
   "source": [
    "#### Variables"
   ]
  },
  {
   "cell_type": "code",
   "execution_count": 5,
   "metadata": {
    "scrolled": true
   },
   "outputs": [
    {
     "name": "stdout",
     "output_type": "stream",
     "text": [
      "Execution_role: arn:aws:iam::889960878219:role/service-role/AmazonSageMaker-ExecutionRole-20180920T165537\n",
      "S3_bucket: rodzanto2020ml\n",
      "Ground-truth_labeling task: football4\n",
      "S3_images_prefix: sports/football4\n",
      "S3_label_prefix: sports/football4/football4\n",
      "Labeling_classes: ['highlight', 'not-highlight']\n",
      "S3_inference_prefix: sports/football4/validation_sample\n",
      "S3_main_video: s3://rodzanto2020ml/sports/football1/full-match-real-madrid-vs-atletico-de-madrid-laliga-20172018.mp4\n"
     ]
    }
   ],
   "source": [
    "sagemaker_session = sagemaker.Session()\n",
    "role = sagemaker.get_execution_role()\n",
    "bucket = 'rodzanto2020ml'\n",
    "#bucket = sagemaker_session.default_bucket()\n",
    "task = 'football4'\n",
    "videos_prefix = 'sports/football4'\n",
    "label_prefix = 'sports/football4/{}'.format(task)\n",
    "classes = ['highlight', 'not-highlight']\n",
    "inf_prefix = '{}/validation_sample'.format(videos_prefix)\n",
    "main_video = 's3://{}/sports/football1/full-match-real-madrid-vs-atletico-de-madrid-laliga-20172018.mp4'.format(bucket)\n",
    "\n",
    "print('Execution_role:',role)\n",
    "print('S3_bucket:',bucket)\n",
    "print('Ground-truth_labeling task:',task)\n",
    "print('S3_images_prefix:',videos_prefix)\n",
    "print('S3_label_prefix:',label_prefix)\n",
    "print('Labeling_classes:',classes)\n",
    "print('S3_inference_prefix:',inf_prefix)\n",
    "print('S3_main_video:',main_video)"
   ]
  },
  {
   "cell_type": "markdown",
   "metadata": {},
   "source": [
    "## Pre-processing"
   ]
  },
  {
   "cell_type": "markdown",
   "metadata": {},
   "source": [
    "Download the main video to be used for this lab.\n",
    "\n",
    "`- Warning: This file' size is around 1.9GB -`"
   ]
  },
  {
   "cell_type": "code",
   "execution_count": null,
   "metadata": {},
   "outputs": [],
   "source": [
    "s3 = boto3.resource('s3')\n",
    "s3.Bucket(bucket).download_file(main_video, 'main_video.mp4')    "
   ]
  },
  {
   "cell_type": "markdown",
   "metadata": {},
   "source": [
    "Split the main video into smaller chunks of video for easing the labeling and classification.\n",
    "\n",
    "`- Warning: The following command could take a lot of time to complete depending on the size of the main video. -`"
   ]
  },
  {
   "cell_type": "code",
   "execution_count": null,
   "metadata": {},
   "outputs": [],
   "source": [
    "!ffmpeg -i main_video.mp4 -c:v libx264 -crf 22 \\\n",
    "    -map 0 -segment_time 20 -reset_timestamps 1 -sc_threshold 0 -force_key_frames \"expr:gte(t,n_forced*5)\" \\\n",
    "    -f segment video_%03d.mp4"
   ]
  },
  {
   "cell_type": "markdown",
   "metadata": {},
   "source": [
    "## Labeling"
   ]
  },
  {
   "cell_type": "markdown",
   "metadata": {},
   "source": [
    "Create a labeling job using SageMaker Ground Truth for the sample videos. For simplicity, we will configure it such that it will only consider 2 classes."
   ]
  },
  {
   "cell_type": "code",
   "execution_count": 1,
   "metadata": {},
   "outputs": [],
   "source": [
    "#TO BE DONE...\n"
   ]
  },
  {
   "cell_type": "markdown",
   "metadata": {},
   "source": [
    "#### Inspect labels\n",
    "\n",
    "The \"manifest file\" was created after completing the labeling job using SageMaker Ground Truth. It contains metadata about the images and the associated labels."
   ]
  },
  {
   "cell_type": "code",
   "execution_count": 8,
   "metadata": {},
   "outputs": [],
   "source": [
    "# Download output.manifest from the S3 bucket to the local notebook, if it doesn't exist locally already\n",
    "if not os.path.isfile('output.manifest'):\n",
    "    import boto3\n",
    "    s3 = boto3.resource('s3')\n",
    "    s3.Bucket(bucket).download_file('{}/manifests/output/output.manifest'.format(label_prefix), 'output.manifest')    "
   ]
  },
  {
   "cell_type": "markdown",
   "metadata": {},
   "source": [
    "Each video has a class assigned. We can read this information from the `output.manifest` file."
   ]
  },
  {
   "cell_type": "code",
   "execution_count": 24,
   "metadata": {},
   "outputs": [
    {
     "name": "stdout",
     "output_type": "stream",
     "text": [
      "Total number of videos: 358\n",
      "Ground Truth labeling for sample videos:\n"
     ]
    },
    {
     "data": {
      "text/plain": [
       "{'source-ref': 's3://rodzanto2020ml/sports/football4/Football4_000.mp4',\n",
       " 'football4': 1,\n",
       " 'football4-metadata': {'class-name': 'not_highlight',\n",
       "  'job-name': 'labeling-job/football4',\n",
       "  'confidence': 0,\n",
       "  'type': 'groundtruth/video-classification',\n",
       "  'human-annotated': 'yes',\n",
       "  'creation-date': '2021-02-04T10:44:06.690503'}}"
      ]
     },
     "execution_count": 24,
     "metadata": {},
     "output_type": "execute_result"
    }
   ],
   "source": [
    "image_info = []\n",
    "total0 = 0\n",
    "total1 = 0\n",
    "with open('output.manifest') as f:\n",
    "    lines = f.readlines()\n",
    "    for line in lines:\n",
    "        image_info.append(json.loads(line[:-1]))\n",
    "        if json.loads(line[:-1])['{}-metadata'.format(task)]['class-name'] == 'highlight':\n",
    "            total1+=1\n",
    "        elif json.loads(line[:-1])['{}-metadata'.format(task)]['class-name'] == 'not_highlight':\n",
    "            total0+=1\n",
    "\n",
    "info = image_info[0]\n",
    "print(\"Total number of videos: {}\".format(len(image_info)))\n",
    "print(\"Ground Truth labeling for sample videos:\")\n",
    "info"
   ]
  },
  {
   "cell_type": "markdown",
   "metadata": {},
   "source": [
    "Let's check the labels distribution in the sample videos."
   ]
  },
  {
   "cell_type": "code",
   "execution_count": 36,
   "metadata": {},
   "outputs": [
    {
     "data": {
      "image/png": "[encoded data removed]",
      "text/plain": [
       "<Figure size 432x288 with 1 Axes>"
      ]
     },
     "metadata": {
      "needs_background": "light"
     },
     "output_type": "display_data"
    }
   ],
   "source": [
    "fig = plt.figure()\n",
    "ax = fig.add_axes([0,0,1,1])\n",
    "labels = [total1, total0]\n",
    "ax.bar(classes,labels)\n",
    "rects = ax.patches\n",
    "for rect, label in zip(rects, labels):\n",
    "    height = rect.get_height()\n",
    "    ax.text(rect.get_x() + rect.get_width() / 2, height + 5, label, ha='center', va='bottom')\n",
    "plt.show()"
   ]
  },
  {
   "cell_type": "markdown",
   "metadata": {},
   "source": [
    "## Training using transfer learning"
   ]
  },
  {
   "cell_type": "code",
   "execution_count": null,
   "metadata": {},
   "outputs": [],
   "source": []
  },
  {
   "cell_type": "code",
   "execution_count": null,
   "metadata": {},
   "outputs": [],
   "source": []
  },
  {
   "cell_type": "markdown",
   "metadata": {},
   "source": [
    "## Deployment and inference"
   ]
  },
  {
   "cell_type": "markdown",
   "metadata": {},
   "source": [
    "#### Real-time inference\n",
    "\n",
    "Here we deploy our model as a SageMaker endpoint for generating predictions on new sample videos."
   ]
  },
  {
   "cell_type": "code",
   "execution_count": 48,
   "metadata": {},
   "outputs": [
    {
     "name": "stdout",
     "output_type": "stream",
     "text": [
      "-----------!"
     ]
    }
   ],
   "source": [
    "predictor = mxnet_estimator.deploy(\n",
    "            instance_type='ml.m5.xlarge', \n",
    "            initial_instance_count=1,\n",
    "            endpoint_name=task\n",
    ")"
   ]
  },
  {
   "cell_type": "markdown",
   "metadata": {},
   "source": [
    "*- Note: This step takes around 6-7 minutes to complete. -*"
   ]
  },
  {
   "cell_type": "markdown",
   "metadata": {},
   "source": [
    "We have now deployed our GluonCV activity detection model in SageMaker, let's retrieve this endpoint."
   ]
  },
  {
   "cell_type": "code",
   "execution_count": 49,
   "metadata": {},
   "outputs": [
    {
     "data": {
      "text/plain": [
       "{'EndpointName': 'football2-60-od-images',\n",
       " 'EndpointArn': 'arn:aws:sagemaker:eu-west-1:889960878219:endpoint/football2-60-od-images',\n",
       " 'CreationTime': datetime.datetime(2021, 2, 4, 10, 49, 36, 266000, tzinfo=tzlocal()),\n",
       " 'LastModifiedTime': datetime.datetime(2021, 2, 4, 10, 54, 54, 355000, tzinfo=tzlocal()),\n",
       " 'EndpointStatus': 'InService'}"
      ]
     },
     "execution_count": 49,
     "metadata": {},
     "output_type": "execute_result"
    }
   ],
   "source": [
    "%matplotlib inline\n",
    "\n",
    "runtime = boto3.client('runtime.sagemaker')\n",
    "client = boto3.client('sagemaker')\n",
    "\n",
    "for endpoint in  client.list_endpoints()['Endpoints']:\n",
    "    if endpoint[\"EndpointName\"] == task:\n",
    "        gluoncv_endpoint = endpoint\n",
    "\n",
    "gluoncv_endpoint"
   ]
  },
  {
   "cell_type": "markdown",
   "metadata": {},
   "source": [
    "Finally, let's load some sample videos and pass them to the endpoint. Sample videos are available in `sample_media/`."
   ]
  },
  {
   "cell_type": "code",
   "execution_count": null,
   "metadata": {},
   "outputs": [],
   "source": [
    "eval_videos = glob.glob(\"../sample_media/*.mp4\")\n",
    "print('Sample videos found:',eval_videos)\n",
    "\n",
    "for i in eval_videos:\n",
    "    payload = sagemaker_session.upload_data(path=i, key_prefix=inf_prefix)\n",
    "    S3_VIDEO_PATH = payload\n",
    "    data = {'S3_VIDEO_PATH': S3_VIDEO_PATH,}\n",
    "    print('Running inference for video',payload,'on SageMaker endpoint',task)\n",
    "    print(time.time(),'Running inference for video',payload,'on SageMaker endpoint',task)\n",
    "    sm-runtime = boto3.Session().client('sagemaker-runtime')\n",
    "    response = sm_runtime.invoke_endpoint(EndpointName=task, ContentType='application/json',Accept='application/json',Body=json.dumps(data))\n",
    "    print(time.time())\n",
    "#Get and print the response\n",
    "response_body = json.loads(response['Body'].read().decode('utf-8'))\n",
    "print(response_body)\n",
    "    "
   ]
  },
  {
   "cell_type": "code",
   "execution_count": null,
   "metadata": {},
   "outputs": [],
   "source": [
    "print(ENDPOINT_NAME)\n",
    "import time\n",
    "import json\n",
    "print(time.time())\n",
    "sm_runtime = boto3.Session().client('sagemaker-runtime')\n",
    "response = sm_runtime.invoke_endpoint(EndpointName=ENDPOINT_NAME, ContentType='application/json',Accept='application/json',Body=json.dumps(data1))\n",
    "print(time.time())\n",
    "#Get and print the response\n",
    "response_body = json.loads(response['Body'].read().decode('utf-8'))\n",
    "print(response_body)"
   ]
  },
  {
   "cell_type": "code",
   "execution_count": null,
   "metadata": {},
   "outputs": [],
   "source": []
  }
 ],
 "metadata": {
  "instance_type": "ml.t3.medium",
  "kernelspec": {
   "display_name": "Python 3 (Data Science)",
   "language": "python",
   "name": "python3__SAGEMAKER_INTERNAL__arn:aws:sagemaker:eu-west-1:470317259841:image/datascience-1.0"
  },
  "language_info": {
   "codemirror_mode": {
    "name": "ipython",
    "version": 3
   },
   "file_extension": ".py",
   "mimetype": "text/x-python",
   "name": "python",
   "nbconvert_exporter": "python",
   "pygments_lexer": "ipython3",
   "version": "3.7.6"
  }
 },
 "nbformat": 4,
 "nbformat_minor": 4
}
