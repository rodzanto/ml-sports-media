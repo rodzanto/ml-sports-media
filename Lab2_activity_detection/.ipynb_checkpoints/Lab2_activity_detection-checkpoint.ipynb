{
 "cells": [
  {
   "cell_type": "markdown",
   "metadata": {},
   "source": [
    "## Lab #2 - Activity Detection"
   ]
  },
  {
   "cell_type": "markdown",
   "metadata": {},
   "source": [
    "In this lab, we will run an activity detection example on small videos extracted from a main video. For this purpose we will:\n",
    "- Split the main video into multiple smaller videos\n",
    "- Create a video classification labeling job with Amazon SageMaker GroundTruth for going through the small videos set\n",
    "- Train an actvitiy detection model on the labeled data with an Amazon SageMaker estimator, applying transfer learning with a pre-trained model from a model zoo\n",
    "- Deploy the trained model to an Amazon SageMaker endpoint for performing some real-time inferences with sample videos"
   ]
  },
  {
   "cell_type": "markdown",
   "metadata": {},
   "source": [
    "## Setup"
   ]
  },
  {
   "cell_type": "code",
   "execution_count": 91,
   "metadata": {
    "scrolled": true
   },
   "outputs": [
    {
     "name": "stdout",
     "output_type": "stream",
     "text": [
      "Collecting gluoncv\n",
      "  Downloading gluoncv-0.9.2-py3-none-any.whl (1.1 MB)\n",
      "\u001b[K     |████████████████████████████████| 1.1 MB 21.1 MB/s eta 0:00:01\n",
      "\u001b[?25hRequirement already satisfied: pandas in /opt/conda/lib/python3.7/site-packages (from gluoncv) (1.0.1)\n",
      "Requirement already satisfied: tqdm in /opt/conda/lib/python3.7/site-packages (from gluoncv) (4.42.1)\n",
      "Requirement already satisfied: matplotlib in /opt/conda/lib/python3.7/site-packages (from gluoncv) (3.1.3)\n",
      "Requirement already satisfied: pyyaml in /opt/conda/lib/python3.7/site-packages (from gluoncv) (5.3)\n",
      "Requirement already satisfied: requests in /opt/conda/lib/python3.7/site-packages (from gluoncv) (2.22.0)\n",
      "Requirement already satisfied: numpy in /opt/conda/lib/python3.7/site-packages (from gluoncv) (1.18.1)\n",
      "Requirement already satisfied: scipy in /opt/conda/lib/python3.7/site-packages (from gluoncv) (1.4.1)\n",
      "Requirement already satisfied: Pillow in /opt/conda/lib/python3.7/site-packages (from gluoncv) (7.0.0)\n",
      "Collecting autocfg\n",
      "  Downloading autocfg-0.0.6-py2.py3-none-any.whl (13 kB)\n",
      "Collecting autogluon.core\n",
      "  Downloading autogluon.core-0.0.16b20210205-py3-none-any.whl (297 kB)\n",
      "\u001b[K     |████████████████████████████████| 297 kB 68.8 MB/s eta 0:00:01\n",
      "\u001b[?25hRequirement already satisfied: tornado>=5.0.1 in /opt/conda/lib/python3.7/site-packages (from autogluon.core->gluoncv) (6.0.3)\n",
      "Requirement already satisfied: scikit-learn<0.24,>=0.22.0 in /opt/conda/lib/python3.7/site-packages (from autogluon.core->gluoncv) (0.22.1)\n",
      "Requirement already satisfied: distributed>=2.6.0 in /opt/conda/lib/python3.7/site-packages (from autogluon.core->gluoncv) (2.11.0)\n",
      "Requirement already satisfied: paramiko>=2.4 in /opt/conda/lib/python3.7/site-packages (from autogluon.core->gluoncv) (2.7.2)\n",
      "Requirement already satisfied: dill==0.3.3 in /opt/conda/lib/python3.7/site-packages (from autogluon.core->gluoncv) (0.3.3)\n",
      "Requirement already satisfied: pytest in /opt/conda/lib/python3.7/site-packages (from autogluon.core->gluoncv) (5.3.5)\n",
      "Requirement already satisfied: cython in /opt/conda/lib/python3.7/site-packages (from autogluon.core->gluoncv) (0.29.15)\n",
      "Requirement already satisfied: dask>=2.6.0 in /opt/conda/lib/python3.7/site-packages (from autogluon.core->gluoncv) (2.11.0)\n",
      "Requirement already satisfied: boto3 in /opt/conda/lib/python3.7/site-packages (from autogluon.core->gluoncv) (1.16.36)\n",
      "Collecting ConfigSpace==0.4.17\n",
      "  Downloading ConfigSpace-0.4.17.tar.gz (964 kB)\n",
      "\u001b[K     |████████████████████████████████| 964 kB 69.4 MB/s eta 0:00:01\n",
      "\u001b[?25h  Installing build dependencies ... \u001b[?25ldone\n",
      "\u001b[?25h  Getting requirements to build wheel ... \u001b[?25ldone\n",
      "\u001b[?25h    Preparing wheel metadata ... \u001b[?25ldone\n",
      "\u001b[?25hRequirement already satisfied: pyparsing in /opt/conda/lib/python3.7/site-packages (from ConfigSpace==0.4.17->autogluon.core->gluoncv) (2.4.6)\n",
      "Collecting autograd>=1.3\n",
      "  Downloading autograd-1.3.tar.gz (38 kB)\n",
      "Requirement already satisfied: future>=0.15.2 in /opt/conda/lib/python3.7/site-packages (from autograd>=1.3->autogluon.core->gluoncv) (0.18.2)\n",
      "Requirement already satisfied: psutil>=5.0 in /opt/conda/lib/python3.7/site-packages (from distributed>=2.6.0->autogluon.core->gluoncv) (5.6.7)\n",
      "Requirement already satisfied: setuptools in /opt/conda/lib/python3.7/site-packages (from distributed>=2.6.0->autogluon.core->gluoncv) (45.2.0.post20200210)\n",
      "Requirement already satisfied: zict>=0.1.3 in /opt/conda/lib/python3.7/site-packages (from distributed>=2.6.0->autogluon.core->gluoncv) (1.0.0)\n",
      "Requirement already satisfied: msgpack>=0.6.0 in /opt/conda/lib/python3.7/site-packages (from distributed>=2.6.0->autogluon.core->gluoncv) (0.6.1)\n",
      "Requirement already satisfied: click>=6.6 in /opt/conda/lib/python3.7/site-packages (from distributed>=2.6.0->autogluon.core->gluoncv) (7.0)\n",
      "Requirement already satisfied: cloudpickle>=0.2.2 in /opt/conda/lib/python3.7/site-packages (from distributed>=2.6.0->autogluon.core->gluoncv) (1.3.0)\n",
      "Requirement already satisfied: tblib>=1.6.0 in /opt/conda/lib/python3.7/site-packages (from distributed>=2.6.0->autogluon.core->gluoncv) (1.6.0)\n",
      "Requirement already satisfied: toolz>=0.7.4 in /opt/conda/lib/python3.7/site-packages (from distributed>=2.6.0->autogluon.core->gluoncv) (0.10.0)\n",
      "Requirement already satisfied: sortedcontainers!=2.0.0,!=2.0.1 in /opt/conda/lib/python3.7/site-packages (from distributed>=2.6.0->autogluon.core->gluoncv) (2.1.0)\n",
      "Collecting graphviz<0.9.0,>=0.8.1\n",
      "  Downloading graphviz-0.8.4-py2.py3-none-any.whl (16 kB)\n",
      "Collecting numpy\n",
      "  Using cached numpy-1.20.0-cp37-cp37m-manylinux2010_x86_64.whl (15.3 MB)\n",
      "Requirement already satisfied: pytz>=2017.2 in /opt/conda/lib/python3.7/site-packages (from pandas->gluoncv) (2019.3)\n",
      "Requirement already satisfied: python-dateutil>=2.6.1 in /opt/conda/lib/python3.7/site-packages (from pandas->gluoncv) (2.8.1)\n",
      "Requirement already satisfied: bcrypt>=3.1.3 in /opt/conda/lib/python3.7/site-packages (from paramiko>=2.4->autogluon.core->gluoncv) (3.2.0)\n",
      "Requirement already satisfied: pynacl>=1.0.1 in /opt/conda/lib/python3.7/site-packages (from paramiko>=2.4->autogluon.core->gluoncv) (1.4.0)\n",
      "Requirement already satisfied: cryptography>=2.5 in /opt/conda/lib/python3.7/site-packages (from paramiko>=2.4->autogluon.core->gluoncv) (2.8)\n",
      "Requirement already satisfied: cffi>=1.1 in /opt/conda/lib/python3.7/site-packages (from bcrypt>=3.1.3->paramiko>=2.4->autogluon.core->gluoncv) (1.14.0)\n",
      "Requirement already satisfied: six>=1.4.1 in /opt/conda/lib/python3.7/site-packages (from bcrypt>=3.1.3->paramiko>=2.4->autogluon.core->gluoncv) (1.14.0)\n",
      "Requirement already satisfied: pycparser in /opt/conda/lib/python3.7/site-packages (from cffi>=1.1->bcrypt>=3.1.3->paramiko>=2.4->autogluon.core->gluoncv) (2.19)\n",
      "Requirement already satisfied: joblib>=0.11 in /opt/conda/lib/python3.7/site-packages (from scikit-learn<0.24,>=0.22.0->autogluon.core->gluoncv) (0.14.1)\n",
      "Requirement already satisfied: heapdict in /opt/conda/lib/python3.7/site-packages (from zict>=0.1.3->distributed>=2.6.0->autogluon.core->gluoncv) (1.0.1)\n",
      "Requirement already satisfied: botocore<1.20.0,>=1.19.36 in /opt/conda/lib/python3.7/site-packages (from boto3->autogluon.core->gluoncv) (1.19.36)\n",
      "Requirement already satisfied: jmespath<1.0.0,>=0.7.1 in /opt/conda/lib/python3.7/site-packages (from boto3->autogluon.core->gluoncv) (0.10.0)\n",
      "Requirement already satisfied: s3transfer<0.4.0,>=0.3.0 in /opt/conda/lib/python3.7/site-packages (from boto3->autogluon.core->gluoncv) (0.3.3)\n",
      "Requirement already satisfied: urllib3<1.27,>=1.25.4 in /opt/conda/lib/python3.7/site-packages (from botocore<1.20.0,>=1.19.36->boto3->autogluon.core->gluoncv) (1.25.8)\n",
      "Collecting decord\n",
      "  Downloading decord-0.4.2-py2.py3-none-manylinux1_x86_64.whl (11.8 MB)\n",
      "\u001b[K     |████████████████████████████████| 11.8 MB 25.7 MB/s eta 0:00:01\n",
      "\u001b[?25hRequirement already satisfied: cycler>=0.10 in /opt/conda/lib/python3.7/site-packages (from matplotlib->gluoncv) (0.10.0)\n",
      "Requirement already satisfied: kiwisolver>=1.0.1 in /opt/conda/lib/python3.7/site-packages (from matplotlib->gluoncv) (1.1.0)\n",
      "Collecting opencv-python\n",
      "  Using cached opencv_python-4.5.1.48-cp37-cp37m-manylinux2014_x86_64.whl (50.4 MB)\n",
      "Collecting portalocker\n",
      "  Downloading portalocker-2.2.1-py2.py3-none-any.whl (15 kB)\n",
      "Requirement already satisfied: py>=1.5.0 in /opt/conda/lib/python3.7/site-packages (from pytest->autogluon.core->gluoncv) (1.8.1)\n",
      "Requirement already satisfied: packaging in /opt/conda/lib/python3.7/site-packages (from pytest->autogluon.core->gluoncv) (20.1)\n",
      "Requirement already satisfied: attrs>=17.4.0 in /opt/conda/lib/python3.7/site-packages (from pytest->autogluon.core->gluoncv) (19.3.0)\n",
      "Requirement already satisfied: more-itertools>=4.0.0 in /opt/conda/lib/python3.7/site-packages (from pytest->autogluon.core->gluoncv) (8.2.0)\n",
      "Requirement already satisfied: pluggy<1.0,>=0.12 in /opt/conda/lib/python3.7/site-packages (from pytest->autogluon.core->gluoncv) (0.13.1)\n",
      "Requirement already satisfied: wcwidth in /opt/conda/lib/python3.7/site-packages (from pytest->autogluon.core->gluoncv) (0.1.8)\n",
      "Requirement already satisfied: importlib-metadata>=0.12 in /opt/conda/lib/python3.7/site-packages (from pytest->autogluon.core->gluoncv) (1.5.0)\n",
      "Requirement already satisfied: zipp>=0.5 in /opt/conda/lib/python3.7/site-packages (from importlib-metadata>=0.12->pytest->autogluon.core->gluoncv) (2.2.0)\n",
      "Requirement already satisfied: idna<2.9,>=2.5 in /opt/conda/lib/python3.7/site-packages (from requests->gluoncv) (2.8)\n",
      "Requirement already satisfied: chardet<3.1.0,>=3.0.2 in /opt/conda/lib/python3.7/site-packages (from requests->gluoncv) (3.0.4)\n",
      "Requirement already satisfied: certifi>=2017.4.17 in /opt/conda/lib/python3.7/site-packages (from requests->gluoncv) (2019.11.28)\n",
      "Collecting scikit-optimize\n",
      "  Downloading scikit_optimize-0.8.1-py2.py3-none-any.whl (101 kB)\n",
      "\u001b[K     |████████████████████████████████| 101 kB 1.9 MB/s eta 0:00:01\n",
      "\u001b[?25hCollecting pyaml>=16.9\n",
      "  Downloading pyaml-20.4.0-py2.py3-none-any.whl (17 kB)\n",
      "Collecting tensorboardx\n",
      "  Downloading tensorboardX-2.1-py2.py3-none-any.whl (308 kB)\n",
      "\u001b[K     |████████████████████████████████| 308 kB 68.3 MB/s eta 0:00:01\n",
      "\u001b[?25hRequirement already satisfied: protobuf>=3.8.0 in /opt/conda/lib/python3.7/site-packages (from tensorboardx->gluoncv) (3.14.0)\n",
      "Collecting yacs\n",
      "  Downloading yacs-0.1.8-py3-none-any.whl (14 kB)\n",
      "Building wheels for collected packages: ConfigSpace, autograd\n",
      "  Building wheel for ConfigSpace (PEP 517) ... \u001b[?25lerror\n",
      "\u001b[31m  ERROR: Command errored out with exit status 1:\n",
      "   command: /opt/conda/bin/python /opt/conda/lib/python3.7/site-packages/pip/_vendor/pep517/_in_process.py build_wheel /tmp/tmpblyq9sss\n",
      "       cwd: /tmp/pip-install-fnau6jhs/configspace_7b9825b4ef9243c5851da7064d511f0a\n",
      "  Complete output (42 lines):\n",
      "  running bdist_wheel\n",
      "  running build\n",
      "  running build_py\n",
      "  creating build\n",
      "  creating build/lib.linux-x86_64-3.7\n",
      "  creating build/lib.linux-x86_64-3.7/ConfigSpace\n",
      "  copying ConfigSpace/__init__.py -> build/lib.linux-x86_64-3.7/ConfigSpace\n",
      "  copying ConfigSpace/__version__.py -> build/lib.linux-x86_64-3.7/ConfigSpace\n",
      "  copying ConfigSpace/exceptions.py -> build/lib.linux-x86_64-3.7/ConfigSpace\n",
      "  creating build/lib.linux-x86_64-3.7/ConfigSpace/nx\n",
      "  copying ConfigSpace/nx/__init__.py -> build/lib.linux-x86_64-3.7/ConfigSpace/nx\n",
      "  copying ConfigSpace/nx/exception.py -> build/lib.linux-x86_64-3.7/ConfigSpace/nx\n",
      "  copying ConfigSpace/nx/release.py -> build/lib.linux-x86_64-3.7/ConfigSpace/nx\n",
      "  creating build/lib.linux-x86_64-3.7/ConfigSpace/read_and_write\n",
      "  copying ConfigSpace/read_and_write/__init__.py -> build/lib.linux-x86_64-3.7/ConfigSpace/read_and_write\n",
      "  copying ConfigSpace/read_and_write/irace.py -> build/lib.linux-x86_64-3.7/ConfigSpace/read_and_write\n",
      "  copying ConfigSpace/read_and_write/json.py -> build/lib.linux-x86_64-3.7/ConfigSpace/read_and_write\n",
      "  copying ConfigSpace/read_and_write/pcs.py -> build/lib.linux-x86_64-3.7/ConfigSpace/read_and_write\n",
      "  copying ConfigSpace/read_and_write/pcs_new.py -> build/lib.linux-x86_64-3.7/ConfigSpace/read_and_write\n",
      "  creating build/lib.linux-x86_64-3.7/ConfigSpace/nx/algorithms\n",
      "  copying ConfigSpace/nx/algorithms/__init__.py -> build/lib.linux-x86_64-3.7/ConfigSpace/nx/algorithms\n",
      "  copying ConfigSpace/nx/algorithms/cycles.py -> build/lib.linux-x86_64-3.7/ConfigSpace/nx/algorithms\n",
      "  copying ConfigSpace/nx/algorithms/dag.py -> build/lib.linux-x86_64-3.7/ConfigSpace/nx/algorithms\n",
      "  creating build/lib.linux-x86_64-3.7/ConfigSpace/nx/classes\n",
      "  copying ConfigSpace/nx/classes/__init__.py -> build/lib.linux-x86_64-3.7/ConfigSpace/nx/classes\n",
      "  copying ConfigSpace/nx/classes/digraph.py -> build/lib.linux-x86_64-3.7/ConfigSpace/nx/classes\n",
      "  copying ConfigSpace/nx/classes/graph.py -> build/lib.linux-x86_64-3.7/ConfigSpace/nx/classes\n",
      "  creating build/lib.linux-x86_64-3.7/ConfigSpace/nx/algorithms/components\n",
      "  copying ConfigSpace/nx/algorithms/components/__init__.py -> build/lib.linux-x86_64-3.7/ConfigSpace/nx/algorithms/components\n",
      "  copying ConfigSpace/nx/algorithms/components/strongly_connected.py -> build/lib.linux-x86_64-3.7/ConfigSpace/nx/algorithms/components\n",
      "  running build_ext\n",
      "  cythoning ConfigSpace/hyperparameters.pyx to ConfigSpace/hyperparameters.c\n",
      "  cythoning ConfigSpace/forbidden.pyx to ConfigSpace/forbidden.c\n",
      "  skipping 'ConfigSpace/conditions.c' Cython extension (up-to-date)\n",
      "  skipping 'ConfigSpace/c_util.c' Cython extension (up-to-date)\n",
      "  cythoning ConfigSpace/util.pyx to ConfigSpace/util.c\n",
      "  cythoning ConfigSpace/configuration_space.pyx to ConfigSpace/configuration_space.c\n",
      "  building 'ConfigSpace.hyperparameters' extension\n",
      "  creating build/temp.linux-x86_64-3.7\n",
      "  creating build/temp.linux-x86_64-3.7/ConfigSpace\n",
      "  gcc -pthread -B /opt/conda/compiler_compat -Wl,--sysroot=/ -Wsign-compare -DNDEBUG -g -fwrapv -O3 -Wall -Wstrict-prototypes -fPIC -I/opt/conda/include/python3.7m -I/tmp/pip-build-env-jyolt2aq/overlay/lib/python3.7/site-packages/numpy/core/include -c ConfigSpace/hyperparameters.c -o build/temp.linux-x86_64-3.7/ConfigSpace/hyperparameters.o\n",
      "  error: command 'gcc' failed with exit status 1\n",
      "  ----------------------------------------\u001b[0m\n",
      "\u001b[31m  ERROR: Failed building wheel for ConfigSpace\u001b[0m\n",
      "\u001b[?25h  Building wheel for autograd (setup.py) ... \u001b[?25ldone\n",
      "\u001b[?25h  Created wheel for autograd: filename=autograd-1.3-py3-none-any.whl size=47990 sha256=683a9600e143f4565e0c0806bff63d7261f01b6c4f74d086e810cf0ea8410f01\n",
      "  Stored in directory: /root/.cache/pip/wheels/ef/32/31/0e87227cd0ca1d99ad51fbe4b54c6fa02afccf7e483d045e04\n",
      "Successfully built autograd\n",
      "Failed to build ConfigSpace\n",
      "\u001b[31mERROR: Could not build wheels for ConfigSpace which use PEP 517 and cannot be installed directly\u001b[0m\n",
      "\u001b[33mWARNING: You are using pip version 20.3.3; however, version 21.0.1 is available.\n",
      "You should consider upgrading via the '/opt/conda/bin/python -m pip install --upgrade pip' command.\u001b[0m\n"
     ]
    }
   ],
   "source": [
    "!pip install gluoncv"
   ]
  },
  {
   "cell_type": "markdown",
   "metadata": {},
   "source": [
    "#### Libraries"
   ]
  },
  {
   "cell_type": "code",
   "execution_count": 26,
   "metadata": {},
   "outputs": [],
   "source": [
    "import sagemaker\n",
    "from sagemaker import get_execution_role\n",
    "from sagemaker.mxnet import MXNet\n",
    "from sagemaker.mxnet.model import MXNetModel\n",
    "import mxnet as mx\n",
    "from mxnet import gluon, nd, image\n",
    "from mxnet.gluon.data.vision import transforms\n",
    "from mxnet import gluon\n",
    "from gluoncv.data.transforms import video\n",
    "from gluoncv import utils\n",
    "from gluoncv.model_zoo import get_model\n",
    "from gluoncv import utils\n",
    "from gluoncv.utils import export_block\n",
    "import boto3, os, re, json, time, uuid, logging\n",
    "import matplotlib.pyplot as plt\n",
    "import numpy as np"
   ]
  },
  {
   "cell_type": "markdown",
   "metadata": {},
   "source": [
    "#### Variables"
   ]
  },
  {
   "cell_type": "code",
   "execution_count": 71,
   "metadata": {
    "scrolled": true
   },
   "outputs": [
    {
     "name": "stdout",
     "output_type": "stream",
     "text": [
      "Execution_role: arn:aws:iam::889960878219:role/service-role/AmazonSageMaker-ExecutionRole-20180920T165537\n",
      "S3_bucket: rodzanto2020ml\n",
      "Ground-truth_labeling task: football4\n",
      "S3_videos_prefix: sports/football4\n",
      "S3_label_prefix: sports/football4/football4\n",
      "Labeling_classes: ['highlight', 'not_highlight']\n",
      "S3_inference_prefix: sports/football4/validation_sample\n",
      "S3_main_video: s3://rodzanto2020ml/sports/football1/full-match-real-madrid-vs-atletico-de-madrid-laliga-20172018.mp4\n"
     ]
    }
   ],
   "source": [
    "sagemaker_session = sagemaker.Session()\n",
    "role = sagemaker.get_execution_role()\n",
    "bucket = 'rodzanto2020ml'\n",
    "#bucket = sagemaker_session.default_bucket()\n",
    "task = 'football4'\n",
    "videos_prefix = 'sports/football4'\n",
    "label_prefix = 'sports/football4/{}'.format(task)\n",
    "classes = ['highlight', 'not_highlight']\n",
    "inf_prefix = '{}/validation_sample'.format(videos_prefix)\n",
    "main_video = 's3://{}/sports/football1/full-match-real-madrid-vs-atletico-de-madrid-laliga-20172018.mp4'.format(bucket)\n",
    "train_data = 's3://{}/{}/i3d_data'.format(bucket,videos_prefix)\n",
    "\n",
    "print('Execution_role:',role)\n",
    "print('S3_bucket:',bucket)\n",
    "print('Ground-truth_labeling task:',task)\n",
    "print('S3_videos_prefix:',videos_prefix)\n",
    "print('S3_label_prefix:',label_prefix)\n",
    "print('Labeling_classes:',classes)\n",
    "print('S3_inference_prefix:',inf_prefix)\n",
    "print('S3_main_video:',main_video)"
   ]
  },
  {
   "cell_type": "markdown",
   "metadata": {},
   "source": [
    "## Preparation"
   ]
  },
  {
   "cell_type": "markdown",
   "metadata": {},
   "source": [
    "Download the main video to be used for this lab.\n",
    "\n",
    "`- Warning: This sample file' size is around 1.9GB -`"
   ]
  },
  {
   "cell_type": "code",
   "execution_count": null,
   "metadata": {},
   "outputs": [],
   "source": [
    "#s3 = boto3.resource('s3')\n",
    "#s3.Bucket(bucket).download_file(main_video, 'main_video.mp4')    "
   ]
  },
  {
   "cell_type": "markdown",
   "metadata": {},
   "source": [
    "Split the main video into smaller chunks of video for easing the labeling and classification. We will use the tool \"ffmpeg\" for this.\n",
    "\n",
    "`- Warning: The following command could take a lot of time to complete depending on the size of the main video. -`"
   ]
  },
  {
   "cell_type": "code",
   "execution_count": null,
   "metadata": {},
   "outputs": [],
   "source": [
    "#!ffmpeg -i main_video.mp4 -c:v libx264 -crf 22 \\\n",
    "#    -map 0 -segment_time 20 -reset_timestamps 1 -sc_threshold 0 -force_key_frames \"expr:gte(t,n_forced*5)\" \\\n",
    "#    -f segment video_%03d.mp4"
   ]
  },
  {
   "cell_type": "markdown",
   "metadata": {},
   "source": [
    "## Labeling"
   ]
  },
  {
   "cell_type": "markdown",
   "metadata": {},
   "source": [
    "Create a video classification labeling job using SageMaker Ground Truth for the sample videos. For simplicity, we will configure it such that it will only consider 2 classes."
   ]
  },
  {
   "cell_type": "code",
   "execution_count": 1,
   "metadata": {},
   "outputs": [],
   "source": [
    "#TO BE DONE...\n"
   ]
  },
  {
   "cell_type": "markdown",
   "metadata": {},
   "source": [
    "#### Inspect labels\n",
    "\n",
    "The \"manifest file\" was created after completing the labeling job using SageMaker Ground Truth. It contains metadata about the images and the associated labels."
   ]
  },
  {
   "cell_type": "code",
   "execution_count": 8,
   "metadata": {},
   "outputs": [],
   "source": [
    "# Download output.manifest from the S3 bucket to the local notebook, if it doesn't exist locally already\n",
    "if not os.path.isfile('output.manifest'):\n",
    "    import boto3\n",
    "    s3 = boto3.resource('s3')\n",
    "    s3.Bucket(bucket).download_file('{}/manifests/output/output.manifest'.format(label_prefix), 'output.manifest')    "
   ]
  },
  {
   "cell_type": "markdown",
   "metadata": {},
   "source": [
    "Each video has a class assigned. We can read this information from the `output.manifest` file."
   ]
  },
  {
   "cell_type": "code",
   "execution_count": 24,
   "metadata": {},
   "outputs": [
    {
     "name": "stdout",
     "output_type": "stream",
     "text": [
      "Total number of videos: 358\n",
      "Ground Truth labeling for sample videos:\n"
     ]
    },
    {
     "data": {
      "text/plain": [
       "{'source-ref': 's3://rodzanto2020ml/sports/football4/Football4_000.mp4',\n",
       " 'football4': 1,\n",
       " 'football4-metadata': {'class-name': 'not_highlight',\n",
       "  'job-name': 'labeling-job/football4',\n",
       "  'confidence': 0,\n",
       "  'type': 'groundtruth/video-classification',\n",
       "  'human-annotated': 'yes',\n",
       "  'creation-date': '2021-02-04T10:44:06.690503'}}"
      ]
     },
     "execution_count": 24,
     "metadata": {},
     "output_type": "execute_result"
    }
   ],
   "source": [
    "image_info = []\n",
    "total0 = 0\n",
    "total1 = 0\n",
    "with open('output.manifest') as f:\n",
    "    lines = f.readlines()\n",
    "    for line in lines:\n",
    "        image_info.append(json.loads(line[:-1]))\n",
    "        if json.loads(line[:-1])['{}-metadata'.format(task)]['class-name'] == 'highlight':\n",
    "            total1+=1\n",
    "        elif json.loads(line[:-1])['{}-metadata'.format(task)]['class-name'] == 'not_highlight':\n",
    "            total0+=1\n",
    "\n",
    "info = image_info[0]\n",
    "print(\"Total number of videos: {}\".format(len(image_info)))\n",
    "print(\"Ground Truth labeling for sample videos:\")\n",
    "info"
   ]
  },
  {
   "cell_type": "markdown",
   "metadata": {},
   "source": [
    "Let's check the labels distribution in the sample videos."
   ]
  },
  {
   "cell_type": "code",
   "execution_count": 72,
   "metadata": {},
   "outputs": [
    {
     "data": {
      "image/png": "[encoded data removed]",
      "text/plain": [
       "<Figure size 432x288 with 1 Axes>"
      ]
     },
     "metadata": {
      "needs_background": "light"
     },
     "output_type": "display_data"
    }
   ],
   "source": [
    "fig = plt.figure()\n",
    "ax = fig.add_axes([0,0,1,1])\n",
    "labels = [total1, total0]\n",
    "ax.bar(classes,labels)\n",
    "rects = ax.patches\n",
    "for rect, label in zip(rects, labels):\n",
    "    height = rect.get_height()\n",
    "    ax.text(rect.get_x() + rect.get_width() / 2, height + 5, label, ha='center', va='bottom')\n",
    "plt.show()"
   ]
  },
  {
   "cell_type": "code",
   "execution_count": null,
   "metadata": {},
   "outputs": [],
   "source": []
  },
  {
   "cell_type": "markdown",
   "metadata": {},
   "source": [
    "## Training using transfer learning"
   ]
  },
  {
   "cell_type": "markdown",
   "metadata": {},
   "source": [
    "Now let's pre-process the labeled small videos for training, by relying on the GluonCV's data loader script in an Amazon SageMaker Processing job, pointing to our processing script located at: `entry_point_processing/gluoncv_processing_i3d.py`"
   ]
  },
  {
   "cell_type": "markdown",
   "metadata": {},
   "source": [
    "#### Pre-processing"
   ]
  },
  {
   "cell_type": "markdown",
   "metadata": {},
   "source": [
    "Let's create the structure of directories required for the pre-processing. We will also create the classes index file."
   ]
  },
  {
   "cell_type": "code",
   "execution_count": 79,
   "metadata": {},
   "outputs": [],
   "source": [
    "if not os.path.exists('datasets'):\n",
    "    os.makedirs('datasets')\n",
    "\n",
    "if not os.path.exists('datasets/{}'.format(task)):\n",
    "    os.makedirs('datasets/{}'.format(task))\n",
    "\n",
    "if not os.path.exists('datasets/{}/videos'.format(task)):\n",
    "    os.makedirs('datasets/{}/videos'.format(task))\n",
    "\n",
    "if not os.path.exists('datasets/{}/annotations'.format(task)):\n",
    "    os.makedirs('datasets/{}/annotations'.format(task))\n",
    "\n",
    "f = open('datasets/{}/annotations/classInd.txt'.format(task), 'w')\n",
    "for i, j in enumerate(classes):\n",
    "    if not os.path.exists('datasets/{}/videos/{}'.format(task, j)):\n",
    "        os.makedirs('datasets/{}/videos/{}'.format(task, j))\n",
    "    f.write('{} {}\\n'.format(i+1, j))\n",
    "f.close()"
   ]
  },
  {
   "cell_type": "markdown",
   "metadata": {},
   "source": [
    "Now, we download the relevant videos from S3 to the local file-system of the notebook."
   ]
  },
  {
   "cell_type": "code",
   "execution_count": 68,
   "metadata": {
    "scrolled": true
   },
   "outputs": [
    {
     "name": "stdout",
     "output_type": "stream",
     "text": [
      "download: s3://rodzanto2020ml/sports/football4/Football4_001.mp4 to datasets/football4/videos/Football4_001.mp4\n",
      "download: s3://rodzanto2020ml/sports/football4/Football4_007.mp4 to datasets/football4/videos/Football4_007.mp4\n",
      "download: s3://rodzanto2020ml/sports/football4/Football4_000.mp4 to datasets/football4/videos/Football4_000.mp4\n",
      "download: s3://rodzanto2020ml/sports/football4/Football4_002.mp4 to datasets/football4/videos/Football4_002.mp4\n",
      "download: s3://rodzanto2020ml/sports/football4/Football4_005.mp4 to datasets/football4/videos/Football4_005.mp4\n",
      "download: s3://rodzanto2020ml/sports/football4/Football4_009.mp4 to datasets/football4/videos/Football4_009.mp4\n",
      "download: s3://rodzanto2020ml/sports/football4/Football4_004.mp4 to datasets/football4/videos/Football4_004.mp4\n",
      "download: s3://rodzanto2020ml/sports/football4/Football4_003.mp4 to datasets/football4/videos/Football4_003.mp4\n",
      "download: s3://rodzanto2020ml/sports/football4/Football4_008.mp4 to datasets/football4/videos/Football4_008.mp4\n",
      "download: s3://rodzanto2020ml/sports/football4/Football4_006.mp4 to datasets/football4/videos/Football4_006.mp4\n",
      "download: s3://rodzanto2020ml/sports/football4/Football4_012.mp4 to datasets/football4/videos/Football4_012.mp4\n",
      "download: s3://rodzanto2020ml/sports/football4/Football4_011.mp4 to datasets/football4/videos/Football4_011.mp4\n",
      "download: s3://rodzanto2020ml/sports/football4/Football4_013.mp4 to datasets/football4/videos/Football4_013.mp4\n",
      "download: s3://rodzanto2020ml/sports/football4/Football4_010.mp4 to datasets/football4/videos/Football4_010.mp4\n",
      "download: s3://rodzanto2020ml/sports/football4/Football4_015.mp4 to datasets/football4/videos/Football4_015.mp4\n",
      "download: s3://rodzanto2020ml/sports/football4/Football4_014.mp4 to datasets/football4/videos/Football4_014.mp4\n",
      "download: s3://rodzanto2020ml/sports/football4/Football4_016.mp4 to datasets/football4/videos/Football4_016.mp4\n",
      "download: s3://rodzanto2020ml/sports/football4/Football4_019.mp4 to datasets/football4/videos/Football4_019.mp4\n",
      "download: s3://rodzanto2020ml/sports/football4/Football4_017.mp4 to datasets/football4/videos/Football4_017.mp4\n",
      "download: s3://rodzanto2020ml/sports/football4/Football4_018.mp4 to datasets/football4/videos/Football4_018.mp4\n",
      "download: s3://rodzanto2020ml/sports/football4/Football4_020.mp4 to datasets/football4/videos/Football4_020.mp4\n",
      "download: s3://rodzanto2020ml/sports/football4/Football4_021.mp4 to datasets/football4/videos/Football4_021.mp4\n",
      "download: s3://rodzanto2020ml/sports/football4/Football4_023.mp4 to datasets/football4/videos/Football4_023.mp4\n",
      "download: s3://rodzanto2020ml/sports/football4/Football4_022.mp4 to datasets/football4/videos/Football4_022.mp4\n",
      "download: s3://rodzanto2020ml/sports/football4/Football4_028.mp4 to datasets/football4/videos/Football4_028.mp4\n",
      "download: s3://rodzanto2020ml/sports/football4/Football4_024.mp4 to datasets/football4/videos/Football4_024.mp4\n",
      "download: s3://rodzanto2020ml/sports/football4/Football4_034.mp4 to datasets/football4/videos/Football4_034.mp4\n",
      "download: s3://rodzanto2020ml/sports/football4/Football4_025.mp4 to datasets/football4/videos/Football4_025.mp4\n",
      "download: s3://rodzanto2020ml/sports/football4/Football4_027.mp4 to datasets/football4/videos/Football4_027.mp4\n",
      "download: s3://rodzanto2020ml/sports/football4/Football4_035.mp4 to datasets/football4/videos/Football4_035.mp4\n",
      "download: s3://rodzanto2020ml/sports/football4/Football4_029.mp4 to datasets/football4/videos/Football4_029.mp4\n",
      "download: s3://rodzanto2020ml/sports/football4/Football4_038.mp4 to datasets/football4/videos/Football4_038.mp4\n",
      "download: s3://rodzanto2020ml/sports/football4/Football4_045.mp4 to datasets/football4/videos/Football4_045.mp4\n",
      "download: s3://rodzanto2020ml/sports/football4/Football4_041.mp4 to datasets/football4/videos/Football4_041.mp4\n",
      "download: s3://rodzanto2020ml/sports/football4/Football4_037.mp4 to datasets/football4/videos/Football4_037.mp4\n",
      "download: s3://rodzanto2020ml/sports/football4/Football4_032.mp4 to datasets/football4/videos/Football4_032.mp4\n",
      "download: s3://rodzanto2020ml/sports/football4/Football4_026.mp4 to datasets/football4/videos/Football4_026.mp4\n",
      "download: s3://rodzanto2020ml/sports/football4/Football4_030.mp4 to datasets/football4/videos/Football4_030.mp4\n",
      "download: s3://rodzanto2020ml/sports/football4/Football4_048.mp4 to datasets/football4/videos/Football4_048.mp4\n",
      "download: s3://rodzanto2020ml/sports/football4/Football4_051.mp4 to datasets/football4/videos/Football4_051.mp4\n",
      "download: s3://rodzanto2020ml/sports/football4/Football4_056.mp4 to datasets/football4/videos/Football4_056.mp4\n",
      "download: s3://rodzanto2020ml/sports/football4/Football4_031.mp4 to datasets/football4/videos/Football4_031.mp4\n",
      "download: s3://rodzanto2020ml/sports/football4/Football4_052.mp4 to datasets/football4/videos/Football4_052.mp4\n",
      "download: s3://rodzanto2020ml/sports/football4/Football4_059.mp4 to datasets/football4/videos/Football4_059.mp4\n",
      "download: s3://rodzanto2020ml/sports/football4/Football4_033.mp4 to datasets/football4/videos/Football4_033.mp4\n",
      "download: s3://rodzanto2020ml/sports/football4/Football4_058.mp4 to datasets/football4/videos/Football4_058.mp4\n",
      "download: s3://rodzanto2020ml/sports/football4/Football4_061.mp4 to datasets/football4/videos/Football4_061.mp4\n",
      "download: s3://rodzanto2020ml/sports/football4/Football4_069.mp4 to datasets/football4/videos/Football4_069.mp4\n",
      "download: s3://rodzanto2020ml/sports/football4/Football4_036.mp4 to datasets/football4/videos/Football4_036.mp4\n",
      "download: s3://rodzanto2020ml/sports/football4/Football4_060.mp4 to datasets/football4/videos/Football4_060.mp4\n",
      "download: s3://rodzanto2020ml/sports/football4/Football4_065.mp4 to datasets/football4/videos/Football4_065.mp4\n",
      "download: s3://rodzanto2020ml/sports/football4/Football4_064.mp4 to datasets/football4/videos/Football4_064.mp4\n",
      "download: s3://rodzanto2020ml/sports/football4/Football4_074.mp4 to datasets/football4/videos/Football4_074.mp4\n",
      "download: s3://rodzanto2020ml/sports/football4/Football4_070.mp4 to datasets/football4/videos/Football4_070.mp4\n",
      "download: s3://rodzanto2020ml/sports/football4/Football4_075.mp4 to datasets/football4/videos/Football4_075.mp4\n",
      "download: s3://rodzanto2020ml/sports/football4/Football4_072.mp4 to datasets/football4/videos/Football4_072.mp4\n",
      "download: s3://rodzanto2020ml/sports/football4/Football4_073.mp4 to datasets/football4/videos/Football4_073.mp4\n",
      "download: s3://rodzanto2020ml/sports/football4/Football4_039.mp4 to datasets/football4/videos/Football4_039.mp4\n",
      "download: s3://rodzanto2020ml/sports/football4/Football4_071.mp4 to datasets/football4/videos/Football4_071.mp4\n",
      "download: s3://rodzanto2020ml/sports/football4/Football4_077.mp4 to datasets/football4/videos/Football4_077.mp4\n",
      "download: s3://rodzanto2020ml/sports/football4/Football4_040.mp4 to datasets/football4/videos/Football4_040.mp4\n",
      "download: s3://rodzanto2020ml/sports/football4/Football4_081.mp4 to datasets/football4/videos/Football4_081.mp4\n",
      "download: s3://rodzanto2020ml/sports/football4/Football4_042.mp4 to datasets/football4/videos/Football4_042.mp4\n",
      "download: s3://rodzanto2020ml/sports/football4/Football4_087.mp4 to datasets/football4/videos/Football4_087.mp4\n",
      "download: s3://rodzanto2020ml/sports/football4/Football4_083.mp4 to datasets/football4/videos/Football4_083.mp4\n",
      "download: s3://rodzanto2020ml/sports/football4/Football4_085.mp4 to datasets/football4/videos/Football4_085.mp4\n",
      "download: s3://rodzanto2020ml/sports/football4/Football4_086.mp4 to datasets/football4/videos/Football4_086.mp4\n",
      "download: s3://rodzanto2020ml/sports/football4/Football4_089.mp4 to datasets/football4/videos/Football4_089.mp4\n",
      "download: s3://rodzanto2020ml/sports/football4/Football4_043.mp4 to datasets/football4/videos/Football4_043.mp4\n",
      "download: s3://rodzanto2020ml/sports/football4/Football4_088.mp4 to datasets/football4/videos/Football4_088.mp4\n",
      "download: s3://rodzanto2020ml/sports/football4/Football4_082.mp4 to datasets/football4/videos/Football4_082.mp4\n",
      "download: s3://rodzanto2020ml/sports/football4/Football4_092.mp4 to datasets/football4/videos/Football4_092.mp4\n",
      "download: s3://rodzanto2020ml/sports/football4/Football4_096.mp4 to datasets/football4/videos/Football4_096.mp4\n",
      "download: s3://rodzanto2020ml/sports/football4/Football4_046.mp4 to datasets/football4/videos/Football4_046.mp4\n",
      "download: s3://rodzanto2020ml/sports/football4/Football4_084.mp4 to datasets/football4/videos/Football4_084.mp4\n",
      "download: s3://rodzanto2020ml/sports/football4/Football4_047.mp4 to datasets/football4/videos/Football4_047.mp4\n",
      "download: s3://rodzanto2020ml/sports/football4/Football4_097.mp4 to datasets/football4/videos/Football4_097.mp4\n",
      "download: s3://rodzanto2020ml/sports/football4/Football4_104.mp4 to datasets/football4/videos/Football4_104.mp4\n",
      "download: s3://rodzanto2020ml/sports/football4/Football4_101.mp4 to datasets/football4/videos/Football4_101.mp4\n",
      "download: s3://rodzanto2020ml/sports/football4/Football4_044.mp4 to datasets/football4/videos/Football4_044.mp4\n",
      "download: s3://rodzanto2020ml/sports/football4/Football4_100.mp4 to datasets/football4/videos/Football4_100.mp4\n",
      "download: s3://rodzanto2020ml/sports/football4/Football4_098.mp4 to datasets/football4/videos/Football4_098.mp4\n",
      "download: s3://rodzanto2020ml/sports/football4/Football4_093.mp4 to datasets/football4/videos/Football4_093.mp4\n",
      "download: s3://rodzanto2020ml/sports/football4/Football4_107.mp4 to datasets/football4/videos/Football4_107.mp4\n",
      "download: s3://rodzanto2020ml/sports/football4/Football4_103.mp4 to datasets/football4/videos/Football4_103.mp4\n",
      "download: s3://rodzanto2020ml/sports/football4/Football4_108.mp4 to datasets/football4/videos/Football4_108.mp4\n",
      "download: s3://rodzanto2020ml/sports/football4/Football4_053.mp4 to datasets/football4/videos/Football4_053.mp4\n",
      "download: s3://rodzanto2020ml/sports/football4/Football4_111.mp4 to datasets/football4/videos/Football4_111.mp4\n",
      "download: s3://rodzanto2020ml/sports/football4/Football4_112.mp4 to datasets/football4/videos/Football4_112.mp4\n",
      "download: s3://rodzanto2020ml/sports/football4/Football4_106.mp4 to datasets/football4/videos/Football4_106.mp4\n",
      "download: s3://rodzanto2020ml/sports/football4/Football4_050.mp4 to datasets/football4/videos/Football4_050.mp4\n",
      "download: s3://rodzanto2020ml/sports/football4/Football4_109.mp4 to datasets/football4/videos/Football4_109.mp4\n",
      "download: s3://rodzanto2020ml/sports/football4/Football4_115.mp4 to datasets/football4/videos/Football4_115.mp4\n",
      "download: s3://rodzanto2020ml/sports/football4/Football4_119.mp4 to datasets/football4/videos/Football4_119.mp4\n",
      "download: s3://rodzanto2020ml/sports/football4/Football4_120.mp4 to datasets/football4/videos/Football4_120.mp4\n",
      "download: s3://rodzanto2020ml/sports/football4/Football4_055.mp4 to datasets/football4/videos/Football4_055.mp4\n",
      "download: s3://rodzanto2020ml/sports/football4/Football4_122.mp4 to datasets/football4/videos/Football4_122.mp4\n",
      "download: s3://rodzanto2020ml/sports/football4/Football4_057.mp4 to datasets/football4/videos/Football4_057.mp4\n",
      "download: s3://rodzanto2020ml/sports/football4/Football4_127.mp4 to datasets/football4/videos/Football4_127.mp4\n",
      "download: s3://rodzanto2020ml/sports/football4/Football4_123.mp4 to datasets/football4/videos/Football4_123.mp4\n",
      "download: s3://rodzanto2020ml/sports/football4/Football4_121.mp4 to datasets/football4/videos/Football4_121.mp4\n",
      "download: s3://rodzanto2020ml/sports/football4/Football4_126.mp4 to datasets/football4/videos/Football4_126.mp4\n",
      "download: s3://rodzanto2020ml/sports/football4/Football4_130.mp4 to datasets/football4/videos/Football4_130.mp4\n",
      "download: s3://rodzanto2020ml/sports/football4/Football4_129.mp4 to datasets/football4/videos/Football4_129.mp4\n",
      "download: s3://rodzanto2020ml/sports/football4/Football4_131.mp4 to datasets/football4/videos/Football4_131.mp4\n",
      "download: s3://rodzanto2020ml/sports/football4/Football4_128.mp4 to datasets/football4/videos/Football4_128.mp4\n",
      "download: s3://rodzanto2020ml/sports/football4/Football4_135.mp4 to datasets/football4/videos/Football4_135.mp4\n",
      "download: s3://rodzanto2020ml/sports/football4/Football4_049.mp4 to datasets/football4/videos/Football4_049.mp4\n",
      "download: s3://rodzanto2020ml/sports/football4/Football4_054.mp4 to datasets/football4/videos/Football4_054.mp4\n",
      "download: s3://rodzanto2020ml/sports/football4/Football4_138.mp4 to datasets/football4/videos/Football4_138.mp4\n",
      "download: s3://rodzanto2020ml/sports/football4/Football4_140.mp4 to datasets/football4/videos/Football4_140.mp4\n",
      "download: s3://rodzanto2020ml/sports/football4/Football4_062.mp4 to datasets/football4/videos/Football4_062.mp4\n",
      "download: s3://rodzanto2020ml/sports/football4/Football4_142.mp4 to datasets/football4/videos/Football4_142.mp4\n",
      "download: s3://rodzanto2020ml/sports/football4/Football4_063.mp4 to datasets/football4/videos/Football4_063.mp4\n",
      "download: s3://rodzanto2020ml/sports/football4/Football4_066.mp4 to datasets/football4/videos/Football4_066.mp4\n",
      "download: s3://rodzanto2020ml/sports/football4/Football4_143.mp4 to datasets/football4/videos/Football4_143.mp4\n",
      "download: s3://rodzanto2020ml/sports/football4/Football4_068.mp4 to datasets/football4/videos/Football4_068.mp4\n",
      "download: s3://rodzanto2020ml/sports/football4/Football4_067.mp4 to datasets/football4/videos/Football4_067.mp4\n",
      "download: s3://rodzanto2020ml/sports/football4/Football4_078.mp4 to datasets/football4/videos/Football4_078.mp4\n",
      "download: s3://rodzanto2020ml/sports/football4/Football4_076.mp4 to datasets/football4/videos/Football4_076.mp4\n",
      "download: s3://rodzanto2020ml/sports/football4/Football4_080.mp4 to datasets/football4/videos/Football4_080.mp4\n",
      "download: s3://rodzanto2020ml/sports/football4/Football4_079.mp4 to datasets/football4/videos/Football4_079.mp4\n",
      "download: s3://rodzanto2020ml/sports/football4/Football4_153.mp4 to datasets/football4/videos/Football4_153.mp4\n",
      "download: s3://rodzanto2020ml/sports/football4/Football4_090.mp4 to datasets/football4/videos/Football4_090.mp4\n",
      "download: s3://rodzanto2020ml/sports/football4/Football4_091.mp4 to datasets/football4/videos/Football4_091.mp4\n",
      "download: s3://rodzanto2020ml/sports/football4/Football4_095.mp4 to datasets/football4/videos/Football4_095.mp4\n",
      "download: s3://rodzanto2020ml/sports/football4/Football4_099.mp4 to datasets/football4/videos/Football4_099.mp4\n",
      "download: s3://rodzanto2020ml/sports/football4/Football4_094.mp4 to datasets/football4/videos/Football4_094.mp4\n",
      "download: s3://rodzanto2020ml/sports/football4/Football4_154.mp4 to datasets/football4/videos/Football4_154.mp4\n",
      "download: s3://rodzanto2020ml/sports/football4/Football4_102.mp4 to datasets/football4/videos/Football4_102.mp4\n",
      "download: s3://rodzanto2020ml/sports/football4/Football4_110.mp4 to datasets/football4/videos/Football4_110.mp4\n",
      "download: s3://rodzanto2020ml/sports/football4/Football4_105.mp4 to datasets/football4/videos/Football4_105.mp4\n",
      "download: s3://rodzanto2020ml/sports/football4/Football4_113.mp4 to datasets/football4/videos/Football4_113.mp4\n",
      "download: s3://rodzanto2020ml/sports/football4/Football4_114.mp4 to datasets/football4/videos/Football4_114.mp4\n",
      "download: s3://rodzanto2020ml/sports/football4/Football4_116.mp4 to datasets/football4/videos/Football4_116.mp4\n",
      "download: s3://rodzanto2020ml/sports/football4/Football4_117.mp4 to datasets/football4/videos/Football4_117.mp4\n",
      "download: s3://rodzanto2020ml/sports/football4/Football4_167.mp4 to datasets/football4/videos/Football4_167.mp4\n",
      "download: s3://rodzanto2020ml/sports/football4/Football4_118.mp4 to datasets/football4/videos/Football4_118.mp4\n",
      "download: s3://rodzanto2020ml/sports/football4/Football4_125.mp4 to datasets/football4/videos/Football4_125.mp4\n",
      "download: s3://rodzanto2020ml/sports/football4/Football4_169.mp4 to datasets/football4/videos/Football4_169.mp4\n",
      "download: s3://rodzanto2020ml/sports/football4/Football4_171.mp4 to datasets/football4/videos/Football4_171.mp4\n",
      "download: s3://rodzanto2020ml/sports/football4/Football4_172.mp4 to datasets/football4/videos/Football4_172.mp4\n",
      "download: s3://rodzanto2020ml/sports/football4/Football4_124.mp4 to datasets/football4/videos/Football4_124.mp4\n",
      "download: s3://rodzanto2020ml/sports/football4/Football4_133.mp4 to datasets/football4/videos/Football4_133.mp4\n",
      "download: s3://rodzanto2020ml/sports/football4/Football4_132.mp4 to datasets/football4/videos/Football4_132.mp4\n",
      "download: s3://rodzanto2020ml/sports/football4/Football4_175.mp4 to datasets/football4/videos/Football4_175.mp4\n",
      "download: s3://rodzanto2020ml/sports/football4/Football4_173.mp4 to datasets/football4/videos/Football4_173.mp4\n",
      "download: s3://rodzanto2020ml/sports/football4/Football4_180.mp4 to datasets/football4/videos/Football4_180.mp4\n",
      "download: s3://rodzanto2020ml/sports/football4/Football4_134.mp4 to datasets/football4/videos/Football4_134.mp4\n",
      "download: s3://rodzanto2020ml/sports/football4/Football4_185.mp4 to datasets/football4/videos/Football4_185.mp4\n",
      "download: s3://rodzanto2020ml/sports/football4/Football4_176.mp4 to datasets/football4/videos/Football4_176.mp4\n",
      "download: s3://rodzanto2020ml/sports/football4/Football4_184.mp4 to datasets/football4/videos/Football4_184.mp4\n",
      "download: s3://rodzanto2020ml/sports/football4/Football4_182.mp4 to datasets/football4/videos/Football4_182.mp4\n",
      "download: s3://rodzanto2020ml/sports/football4/Football4_183.mp4 to datasets/football4/videos/Football4_183.mp4\n",
      "download: s3://rodzanto2020ml/sports/football4/Football4_137.mp4 to datasets/football4/videos/Football4_137.mp4\n",
      "download: s3://rodzanto2020ml/sports/football4/Football4_189.mp4 to datasets/football4/videos/Football4_189.mp4\n",
      "download: s3://rodzanto2020ml/sports/football4/Football4_190.mp4 to datasets/football4/videos/Football4_190.mp4\n",
      "download: s3://rodzanto2020ml/sports/football4/Football4_186.mp4 to datasets/football4/videos/Football4_186.mp4\n",
      "download: s3://rodzanto2020ml/sports/football4/Football4_139.mp4 to datasets/football4/videos/Football4_139.mp4\n",
      "download: s3://rodzanto2020ml/sports/football4/Football4_187.mp4 to datasets/football4/videos/Football4_187.mp4\n",
      "download: s3://rodzanto2020ml/sports/football4/Football4_141.mp4 to datasets/football4/videos/Football4_141.mp4\n",
      "download: s3://rodzanto2020ml/sports/football4/Football4_193.mp4 to datasets/football4/videos/Football4_193.mp4\n",
      "download: s3://rodzanto2020ml/sports/football4/Football4_192.mp4 to datasets/football4/videos/Football4_192.mp4\n",
      "download: s3://rodzanto2020ml/sports/football4/Football4_194.mp4 to datasets/football4/videos/Football4_194.mp4\n",
      "download: s3://rodzanto2020ml/sports/football4/Football4_195.mp4 to datasets/football4/videos/Football4_195.mp4\n",
      "download: s3://rodzanto2020ml/sports/football4/Football4_136.mp4 to datasets/football4/videos/Football4_136.mp4\n",
      "download: s3://rodzanto2020ml/sports/football4/Football4_199.mp4 to datasets/football4/videos/Football4_199.mp4\n",
      "download: s3://rodzanto2020ml/sports/football4/Football4_191.mp4 to datasets/football4/videos/Football4_191.mp4\n",
      "download: s3://rodzanto2020ml/sports/football4/Football4_146.mp4 to datasets/football4/videos/Football4_146.mp4\n",
      "download: s3://rodzanto2020ml/sports/football4/Football4_198.mp4 to datasets/football4/videos/Football4_198.mp4\n",
      "download: s3://rodzanto2020ml/sports/football4/Football4_202.mp4 to datasets/football4/videos/Football4_202.mp4\n",
      "download: s3://rodzanto2020ml/sports/football4/Football4_200.mp4 to datasets/football4/videos/Football4_200.mp4\n",
      "download: s3://rodzanto2020ml/sports/football4/Football4_205.mp4 to datasets/football4/videos/Football4_205.mp4\n",
      "download: s3://rodzanto2020ml/sports/football4/Football4_147.mp4 to datasets/football4/videos/Football4_147.mp4\n",
      "download: s3://rodzanto2020ml/sports/football4/Football4_196.mp4 to datasets/football4/videos/Football4_196.mp4\n",
      "download: s3://rodzanto2020ml/sports/football4/Football4_204.mp4 to datasets/football4/videos/Football4_204.mp4\n",
      "download: s3://rodzanto2020ml/sports/football4/Football4_203.mp4 to datasets/football4/videos/Football4_203.mp4\n",
      "download: s3://rodzanto2020ml/sports/football4/Football4_201.mp4 to datasets/football4/videos/Football4_201.mp4\n",
      "download: s3://rodzanto2020ml/sports/football4/Football4_145.mp4 to datasets/football4/videos/Football4_145.mp4\n",
      "download: s3://rodzanto2020ml/sports/football4/Football4_207.mp4 to datasets/football4/videos/Football4_207.mp4\n",
      "download: s3://rodzanto2020ml/sports/football4/Football4_213.mp4 to datasets/football4/videos/Football4_213.mp4\n",
      "download: s3://rodzanto2020ml/sports/football4/Football4_210.mp4 to datasets/football4/videos/Football4_210.mp4\n",
      "download: s3://rodzanto2020ml/sports/football4/Football4_212.mp4 to datasets/football4/videos/Football4_212.mp4\n",
      "download: s3://rodzanto2020ml/sports/football4/Football4_144.mp4 to datasets/football4/videos/Football4_144.mp4\n",
      "download: s3://rodzanto2020ml/sports/football4/Football4_211.mp4 to datasets/football4/videos/Football4_211.mp4\n",
      "download: s3://rodzanto2020ml/sports/football4/Football4_214.mp4 to datasets/football4/videos/Football4_214.mp4\n",
      "download: s3://rodzanto2020ml/sports/football4/Football4_217.mp4 to datasets/football4/videos/Football4_217.mp4\n",
      "download: s3://rodzanto2020ml/sports/football4/Football4_219.mp4 to datasets/football4/videos/Football4_219.mp4\n",
      "download: s3://rodzanto2020ml/sports/football4/Football4_216.mp4 to datasets/football4/videos/Football4_216.mp4\n",
      "download: s3://rodzanto2020ml/sports/football4/Football4_215.mp4 to datasets/football4/videos/Football4_215.mp4\n",
      "download: s3://rodzanto2020ml/sports/football4/Football4_150.mp4 to datasets/football4/videos/Football4_150.mp4\n",
      "download: s3://rodzanto2020ml/sports/football4/Football4_225.mp4 to datasets/football4/videos/Football4_225.mp4\n",
      "download: s3://rodzanto2020ml/sports/football4/Football4_222.mp4 to datasets/football4/videos/Football4_222.mp4\n",
      "download: s3://rodzanto2020ml/sports/football4/Football4_148.mp4 to datasets/football4/videos/Football4_148.mp4\n",
      "download: s3://rodzanto2020ml/sports/football4/Football4_155.mp4 to datasets/football4/videos/Football4_155.mp4\n",
      "download: s3://rodzanto2020ml/sports/football4/Football4_228.mp4 to datasets/football4/videos/Football4_228.mp4\n",
      "download: s3://rodzanto2020ml/sports/football4/Football4_224.mp4 to datasets/football4/videos/Football4_224.mp4\n",
      "download: s3://rodzanto2020ml/sports/football4/Football4_231.mp4 to datasets/football4/videos/Football4_231.mp4\n",
      "download: s3://rodzanto2020ml/sports/football4/Football4_232.mp4 to datasets/football4/videos/Football4_232.mp4\n",
      "download: s3://rodzanto2020ml/sports/football4/Football4_230.mp4 to datasets/football4/videos/Football4_230.mp4\n",
      "download: s3://rodzanto2020ml/sports/football4/Football4_226.mp4 to datasets/football4/videos/Football4_226.mp4\n",
      "download: s3://rodzanto2020ml/sports/football4/Football4_229.mp4 to datasets/football4/videos/Football4_229.mp4\n",
      "download: s3://rodzanto2020ml/sports/football4/Football4_149.mp4 to datasets/football4/videos/Football4_149.mp4\n",
      "download: s3://rodzanto2020ml/sports/football4/Football4_151.mp4 to datasets/football4/videos/Football4_151.mp4\n",
      "download: s3://rodzanto2020ml/sports/football4/Football4_234.mp4 to datasets/football4/videos/Football4_234.mp4\n",
      "download: s3://rodzanto2020ml/sports/football4/Football4_233.mp4 to datasets/football4/videos/Football4_233.mp4\n",
      "download: s3://rodzanto2020ml/sports/football4/Football4_236.mp4 to datasets/football4/videos/Football4_236.mp4\n",
      "download: s3://rodzanto2020ml/sports/football4/Football4_238.mp4 to datasets/football4/videos/Football4_238.mp4\n",
      "download: s3://rodzanto2020ml/sports/football4/Football4_241.mp4 to datasets/football4/videos/Football4_241.mp4\n",
      "download: s3://rodzanto2020ml/sports/football4/Football4_240.mp4 to datasets/football4/videos/Football4_240.mp4\n",
      "download: s3://rodzanto2020ml/sports/football4/Football4_152.mp4 to datasets/football4/videos/Football4_152.mp4\n",
      "download: s3://rodzanto2020ml/sports/football4/Football4_235.mp4 to datasets/football4/videos/Football4_235.mp4\n",
      "download: s3://rodzanto2020ml/sports/football4/Football4_239.mp4 to datasets/football4/videos/Football4_239.mp4\n",
      "download: s3://rodzanto2020ml/sports/football4/Football4_244.mp4 to datasets/football4/videos/Football4_244.mp4\n",
      "download: s3://rodzanto2020ml/sports/football4/Football4_246.mp4 to datasets/football4/videos/Football4_246.mp4\n",
      "download: s3://rodzanto2020ml/sports/football4/Football4_156.mp4 to datasets/football4/videos/Football4_156.mp4\n",
      "download: s3://rodzanto2020ml/sports/football4/Football4_158.mp4 to datasets/football4/videos/Football4_158.mp4\n",
      "download: s3://rodzanto2020ml/sports/football4/Football4_243.mp4 to datasets/football4/videos/Football4_243.mp4\n",
      "download: s3://rodzanto2020ml/sports/football4/Football4_159.mp4 to datasets/football4/videos/Football4_159.mp4\n",
      "download: s3://rodzanto2020ml/sports/football4/Football4_245.mp4 to datasets/football4/videos/Football4_245.mp4\n",
      "download: s3://rodzanto2020ml/sports/football4/Football4_250.mp4 to datasets/football4/videos/Football4_250.mp4\n",
      "download: s3://rodzanto2020ml/sports/football4/Football4_248.mp4 to datasets/football4/videos/Football4_248.mp4\n",
      "download: s3://rodzanto2020ml/sports/football4/Football4_242.mp4 to datasets/football4/videos/Football4_242.mp4\n",
      "download: s3://rodzanto2020ml/sports/football4/Football4_253.mp4 to datasets/football4/videos/Football4_253.mp4\n",
      "download: s3://rodzanto2020ml/sports/football4/Football4_251.mp4 to datasets/football4/videos/Football4_251.mp4\n",
      "download: s3://rodzanto2020ml/sports/football4/Football4_255.mp4 to datasets/football4/videos/Football4_255.mp4\n",
      "download: s3://rodzanto2020ml/sports/football4/Football4_249.mp4 to datasets/football4/videos/Football4_249.mp4\n",
      "download: s3://rodzanto2020ml/sports/football4/Football4_157.mp4 to datasets/football4/videos/Football4_157.mp4\n",
      "download: s3://rodzanto2020ml/sports/football4/Football4_252.mp4 to datasets/football4/videos/Football4_252.mp4\n",
      "download: s3://rodzanto2020ml/sports/football4/Football4_160.mp4 to datasets/football4/videos/Football4_160.mp4\n",
      "download: s3://rodzanto2020ml/sports/football4/Football4_260.mp4 to datasets/football4/videos/Football4_260.mp4\n",
      "download: s3://rodzanto2020ml/sports/football4/Football4_258.mp4 to datasets/football4/videos/Football4_258.mp4\n",
      "download: s3://rodzanto2020ml/sports/football4/Football4_161.mp4 to datasets/football4/videos/Football4_161.mp4\n",
      "download: s3://rodzanto2020ml/sports/football4/Football4_162.mp4 to datasets/football4/videos/Football4_162.mp4\n",
      "download: s3://rodzanto2020ml/sports/football4/Football4_259.mp4 to datasets/football4/videos/Football4_259.mp4\n",
      "download: s3://rodzanto2020ml/sports/football4/Football4_257.mp4 to datasets/football4/videos/Football4_257.mp4\n",
      "download: s3://rodzanto2020ml/sports/football4/Football4_261.mp4 to datasets/football4/videos/Football4_261.mp4\n",
      "download: s3://rodzanto2020ml/sports/football4/Football4_262.mp4 to datasets/football4/videos/Football4_262.mp4\n",
      "download: s3://rodzanto2020ml/sports/football4/Football4_265.mp4 to datasets/football4/videos/Football4_265.mp4\n",
      "download: s3://rodzanto2020ml/sports/football4/Football4_163.mp4 to datasets/football4/videos/Football4_163.mp4\n",
      "download: s3://rodzanto2020ml/sports/football4/Football4_272.mp4 to datasets/football4/videos/Football4_272.mp4\n",
      "download: s3://rodzanto2020ml/sports/football4/Football4_165.mp4 to datasets/football4/videos/Football4_165.mp4\n",
      "download: s3://rodzanto2020ml/sports/football4/Football4_271.mp4 to datasets/football4/videos/Football4_271.mp4\n",
      "download: s3://rodzanto2020ml/sports/football4/Football4_277.mp4 to datasets/football4/videos/Football4_277.mp4\n",
      "download: s3://rodzanto2020ml/sports/football4/Football4_168.mp4 to datasets/football4/videos/Football4_168.mp4\n",
      "download: s3://rodzanto2020ml/sports/football4/Football4_278.mp4 to datasets/football4/videos/Football4_278.mp4\n",
      "download: s3://rodzanto2020ml/sports/football4/Football4_164.mp4 to datasets/football4/videos/Football4_164.mp4\n",
      "download: s3://rodzanto2020ml/sports/football4/Football4_166.mp4 to datasets/football4/videos/Football4_166.mp4\n",
      "download: s3://rodzanto2020ml/sports/football4/Football4_177.mp4 to datasets/football4/videos/Football4_177.mp4\n",
      "download: s3://rodzanto2020ml/sports/football4/Football4_286.mp4 to datasets/football4/videos/Football4_286.mp4\n",
      "download: s3://rodzanto2020ml/sports/football4/Football4_170.mp4 to datasets/football4/videos/Football4_170.mp4\n",
      "download: s3://rodzanto2020ml/sports/football4/Football4_174.mp4 to datasets/football4/videos/Football4_174.mp4\n",
      "download: s3://rodzanto2020ml/sports/football4/Football4_179.mp4 to datasets/football4/videos/Football4_179.mp4\n",
      "download: s3://rodzanto2020ml/sports/football4/Football4_178.mp4 to datasets/football4/videos/Football4_178.mp4\n",
      "download: s3://rodzanto2020ml/sports/football4/Football4_181.mp4 to datasets/football4/videos/Football4_181.mp4\n",
      "download: s3://rodzanto2020ml/sports/football4/Football4_188.mp4 to datasets/football4/videos/Football4_188.mp4\n",
      "download: s3://rodzanto2020ml/sports/football4/Football4_284.mp4 to datasets/football4/videos/Football4_284.mp4\n",
      "download: s3://rodzanto2020ml/sports/football4/Football4_197.mp4 to datasets/football4/videos/Football4_197.mp4\n",
      "download: s3://rodzanto2020ml/sports/football4/Football4_206.mp4 to datasets/football4/videos/Football4_206.mp4\n",
      "download: s3://rodzanto2020ml/sports/football4/Football4_209.mp4 to datasets/football4/videos/Football4_209.mp4\n",
      "download: s3://rodzanto2020ml/sports/football4/Football4_292.mp4 to datasets/football4/videos/Football4_292.mp4\n",
      "download: s3://rodzanto2020ml/sports/football4/Football4_208.mp4 to datasets/football4/videos/Football4_208.mp4\n",
      "download: s3://rodzanto2020ml/sports/football4/Football4_220.mp4 to datasets/football4/videos/Football4_220.mp4\n",
      "download: s3://rodzanto2020ml/sports/football4/Football4_218.mp4 to datasets/football4/videos/Football4_218.mp4\n",
      "download: s3://rodzanto2020ml/sports/football4/Football4_221.mp4 to datasets/football4/videos/Football4_221.mp4\n",
      "download: s3://rodzanto2020ml/sports/football4/Football4_223.mp4 to datasets/football4/videos/Football4_223.mp4\n",
      "download: s3://rodzanto2020ml/sports/football4/Football4_227.mp4 to datasets/football4/videos/Football4_227.mp4\n",
      "download: s3://rodzanto2020ml/sports/football4/Football4_237.mp4 to datasets/football4/videos/Football4_237.mp4\n",
      "download: s3://rodzanto2020ml/sports/football4/Football4_247.mp4 to datasets/football4/videos/Football4_247.mp4\n",
      "download: s3://rodzanto2020ml/sports/football4/Football4_254.mp4 to datasets/football4/videos/Football4_254.mp4\n",
      "download: s3://rodzanto2020ml/sports/football4/Football4_301.mp4 to datasets/football4/videos/Football4_301.mp4\n",
      "download: s3://rodzanto2020ml/sports/football4/Football4_256.mp4 to datasets/football4/videos/Football4_256.mp4\n",
      "download: s3://rodzanto2020ml/sports/football4/Football4_264.mp4 to datasets/football4/videos/Football4_264.mp4\n",
      "download: s3://rodzanto2020ml/sports/football4/Football4_307.mp4 to datasets/football4/videos/Football4_307.mp4\n",
      "download: s3://rodzanto2020ml/sports/football4/Football4_263.mp4 to datasets/football4/videos/Football4_263.mp4\n",
      "download: s3://rodzanto2020ml/sports/football4/Football4_266.mp4 to datasets/football4/videos/Football4_266.mp4\n",
      "download: s3://rodzanto2020ml/sports/football4/Football4_304.mp4 to datasets/football4/videos/Football4_304.mp4\n",
      "download: s3://rodzanto2020ml/sports/football4/Football4_269.mp4 to datasets/football4/videos/Football4_269.mp4\n",
      "download: s3://rodzanto2020ml/sports/football4/Football4_270.mp4 to datasets/football4/videos/Football4_270.mp4\n",
      "download: s3://rodzanto2020ml/sports/football4/Football4_312.mp4 to datasets/football4/videos/Football4_312.mp4\n",
      "download: s3://rodzanto2020ml/sports/football4/Football4_267.mp4 to datasets/football4/videos/Football4_267.mp4\n",
      "download: s3://rodzanto2020ml/sports/football4/Football4_313.mp4 to datasets/football4/videos/Football4_313.mp4\n",
      "download: s3://rodzanto2020ml/sports/football4/Football4_268.mp4 to datasets/football4/videos/Football4_268.mp4\n",
      "download: s3://rodzanto2020ml/sports/football4/Football4_314.mp4 to datasets/football4/videos/Football4_314.mp4\n",
      "download: s3://rodzanto2020ml/sports/football4/Football4_317.mp4 to datasets/football4/videos/Football4_317.mp4\n",
      "download: s3://rodzanto2020ml/sports/football4/Football4_274.mp4 to datasets/football4/videos/Football4_274.mp4\n",
      "download: s3://rodzanto2020ml/sports/football4/Football4_280.mp4 to datasets/football4/videos/Football4_280.mp4\n",
      "download: s3://rodzanto2020ml/sports/football4/Football4_325.mp4 to datasets/football4/videos/Football4_325.mp4\n",
      "download: s3://rodzanto2020ml/sports/football4/Football4_275.mp4 to datasets/football4/videos/Football4_275.mp4\n",
      "download: s3://rodzanto2020ml/sports/football4/Football4_323.mp4 to datasets/football4/videos/Football4_323.mp4\n",
      "download: s3://rodzanto2020ml/sports/football4/Football4_276.mp4 to datasets/football4/videos/Football4_276.mp4\n",
      "download: s3://rodzanto2020ml/sports/football4/Football4_279.mp4 to datasets/football4/videos/Football4_279.mp4\n",
      "download: s3://rodzanto2020ml/sports/football4/Football4_273.mp4 to datasets/football4/videos/Football4_273.mp4\n",
      "download: s3://rodzanto2020ml/sports/football4/Football4_281.mp4 to datasets/football4/videos/Football4_281.mp4\n",
      "download: s3://rodzanto2020ml/sports/football4/Football4_282.mp4 to datasets/football4/videos/Football4_282.mp4\n",
      "download: s3://rodzanto2020ml/sports/football4/Football4_283.mp4 to datasets/football4/videos/Football4_283.mp4\n",
      "download: s3://rodzanto2020ml/sports/football4/Football4_287.mp4 to datasets/football4/videos/Football4_287.mp4\n",
      "download: s3://rodzanto2020ml/sports/football4/Football4_334.mp4 to datasets/football4/videos/Football4_334.mp4\n",
      "download: s3://rodzanto2020ml/sports/football4/Football4_335.mp4 to datasets/football4/videos/Football4_335.mp4\n",
      "download: s3://rodzanto2020ml/sports/football4/Football4_336.mp4 to datasets/football4/videos/Football4_336.mp4\n",
      "download: s3://rodzanto2020ml/sports/football4/Football4_333.mp4 to datasets/football4/videos/Football4_333.mp4\n",
      "download: s3://rodzanto2020ml/sports/football4/Football4_288.mp4 to datasets/football4/videos/Football4_288.mp4\n",
      "download: s3://rodzanto2020ml/sports/football4/Football4_332.mp4 to datasets/football4/videos/Football4_332.mp4\n",
      "download: s3://rodzanto2020ml/sports/football4/Football4_339.mp4 to datasets/football4/videos/Football4_339.mp4\n",
      "download: s3://rodzanto2020ml/sports/football4/Football4_338.mp4 to datasets/football4/videos/Football4_338.mp4\n",
      "download: s3://rodzanto2020ml/sports/football4/Football4_337.mp4 to datasets/football4/videos/Football4_337.mp4\n",
      "download: s3://rodzanto2020ml/sports/football4/Football4_341.mp4 to datasets/football4/videos/Football4_341.mp4\n",
      "download: s3://rodzanto2020ml/sports/football4/Football4_290.mp4 to datasets/football4/videos/Football4_290.mp4\n",
      "download: s3://rodzanto2020ml/sports/football4/Football4_340.mp4 to datasets/football4/videos/Football4_340.mp4\n",
      "download: s3://rodzanto2020ml/sports/football4/Football4_347.mp4 to datasets/football4/videos/Football4_347.mp4\n",
      "download: s3://rodzanto2020ml/sports/football4/Football4_345.mp4 to datasets/football4/videos/Football4_345.mp4\n",
      "download: s3://rodzanto2020ml/sports/football4/Football4_343.mp4 to datasets/football4/videos/Football4_343.mp4\n",
      "download: s3://rodzanto2020ml/sports/football4/Football4_285.mp4 to datasets/football4/videos/Football4_285.mp4\n",
      "download: s3://rodzanto2020ml/sports/football4/Football4_342.mp4 to datasets/football4/videos/Football4_342.mp4\n",
      "download: s3://rodzanto2020ml/sports/football4/Football4_349.mp4 to datasets/football4/videos/Football4_349.mp4\n",
      "download: s3://rodzanto2020ml/sports/football4/Football4_348.mp4 to datasets/football4/videos/Football4_348.mp4\n",
      "download: s3://rodzanto2020ml/sports/football4/Football4_291.mp4 to datasets/football4/videos/Football4_291.mp4\n",
      "download: s3://rodzanto2020ml/sports/football4/Football4_344.mp4 to datasets/football4/videos/Football4_344.mp4\n",
      "download: s3://rodzanto2020ml/sports/football4/Football4_350.mp4 to datasets/football4/videos/Football4_350.mp4\n",
      "download: s3://rodzanto2020ml/sports/football4/Football4_346.mp4 to datasets/football4/videos/Football4_346.mp4\n",
      "download: s3://rodzanto2020ml/sports/football4/Football4_352.mp4 to datasets/football4/videos/Football4_352.mp4\n",
      "download: s3://rodzanto2020ml/sports/football4/Football4_357.mp4 to datasets/football4/videos/Football4_357.mp4\n",
      "download: s3://rodzanto2020ml/sports/football4/Football4_351.mp4 to datasets/football4/videos/Football4_351.mp4\n",
      "download: s3://rodzanto2020ml/sports/football4/Football4_356.mp4 to datasets/football4/videos/Football4_356.mp4\n",
      "download: s3://rodzanto2020ml/sports/football4/Football4_354.mp4 to datasets/football4/videos/Football4_354.mp4\n",
      "download: s3://rodzanto2020ml/sports/football4/Football4_353.mp4 to datasets/football4/videos/Football4_353.mp4\n",
      "download: s3://rodzanto2020ml/sports/football4/Football4_355.mp4 to datasets/football4/videos/Football4_355.mp4\n",
      "download: s3://rodzanto2020ml/sports/football4/Football4_289.mp4 to datasets/football4/videos/Football4_289.mp4\n",
      "download: s3://rodzanto2020ml/sports/football4/Football4_294.mp4 to datasets/football4/videos/Football4_294.mp4\n",
      "download: s3://rodzanto2020ml/sports/football4/Football4_293.mp4 to datasets/football4/videos/Football4_293.mp4\n",
      "download: s3://rodzanto2020ml/sports/football4/Football4_297.mp4 to datasets/football4/videos/Football4_297.mp4\n",
      "download: s3://rodzanto2020ml/sports/football4/Football4_296.mp4 to datasets/football4/videos/Football4_296.mp4\n",
      "download: s3://rodzanto2020ml/sports/football4/Football4_300.mp4 to datasets/football4/videos/Football4_300.mp4\n",
      "download: s3://rodzanto2020ml/sports/football4/Football4_302.mp4 to datasets/football4/videos/Football4_302.mp4\n",
      "download: s3://rodzanto2020ml/sports/football4/Football4_295.mp4 to datasets/football4/videos/Football4_295.mp4\n",
      "download: s3://rodzanto2020ml/sports/football4/Football4_298.mp4 to datasets/football4/videos/Football4_298.mp4\n",
      "download: s3://rodzanto2020ml/sports/football4/Football4_299.mp4 to datasets/football4/videos/Football4_299.mp4\n",
      "download: s3://rodzanto2020ml/sports/football4/Football4_305.mp4 to datasets/football4/videos/Football4_305.mp4\n",
      "download: s3://rodzanto2020ml/sports/football4/Football4_306.mp4 to datasets/football4/videos/Football4_306.mp4\n",
      "download: s3://rodzanto2020ml/sports/football4/Football4_303.mp4 to datasets/football4/videos/Football4_303.mp4\n",
      "download: s3://rodzanto2020ml/sports/football4/Football4_310.mp4 to datasets/football4/videos/Football4_310.mp4\n",
      "download: s3://rodzanto2020ml/sports/football4/Football4_309.mp4 to datasets/football4/videos/Football4_309.mp4\n",
      "download: s3://rodzanto2020ml/sports/football4/Football4_308.mp4 to datasets/football4/videos/Football4_308.mp4\n",
      "download: s3://rodzanto2020ml/sports/football4/Football4_311.mp4 to datasets/football4/videos/Football4_311.mp4\n",
      "download: s3://rodzanto2020ml/sports/football4/Football4_316.mp4 to datasets/football4/videos/Football4_316.mp4\n",
      "download: s3://rodzanto2020ml/sports/football4/Football4_315.mp4 to datasets/football4/videos/Football4_315.mp4\n",
      "download: s3://rodzanto2020ml/sports/football4/Football4_321.mp4 to datasets/football4/videos/Football4_321.mp4\n",
      "download: s3://rodzanto2020ml/sports/football4/Football4_319.mp4 to datasets/football4/videos/Football4_319.mp4\n",
      "download: s3://rodzanto2020ml/sports/football4/Football4_322.mp4 to datasets/football4/videos/Football4_322.mp4\n",
      "download: s3://rodzanto2020ml/sports/football4/Football4_320.mp4 to datasets/football4/videos/Football4_320.mp4\n",
      "download: s3://rodzanto2020ml/sports/football4/Football4_318.mp4 to datasets/football4/videos/Football4_318.mp4\n",
      "download: s3://rodzanto2020ml/sports/football4/Football4_324.mp4 to datasets/football4/videos/Football4_324.mp4\n",
      "download: s3://rodzanto2020ml/sports/football4/Football4_326.mp4 to datasets/football4/videos/Football4_326.mp4\n",
      "download: s3://rodzanto2020ml/sports/football4/Football4_328.mp4 to datasets/football4/videos/Football4_328.mp4\n",
      "download: s3://rodzanto2020ml/sports/football4/Football4_327.mp4 to datasets/football4/videos/Football4_327.mp4\n",
      "download: s3://rodzanto2020ml/sports/football4/Football4_329.mp4 to datasets/football4/videos/Football4_329.mp4\n",
      "download: s3://rodzanto2020ml/sports/football4/Football4_331.mp4 to datasets/football4/videos/Football4_331.mp4\n",
      "download: s3://rodzanto2020ml/sports/football4/Football4_330.mp4 to datasets/football4/videos/Football4_330.mp4\n"
     ]
    }
   ],
   "source": [
    "!aws s3 cp s3://$bucket/$videos_prefix/ datasets/$task/videos/ --recursive --exclude \"*\" --include \"*.mp4\""
   ]
  },
  {
   "cell_type": "markdown",
   "metadata": {},
   "source": [
    "We now move the videos to specific folders for the categories these were classified as during the labeling, and create the annotation files required."
   ]
  },
  {
   "cell_type": "code",
   "execution_count": 81,
   "metadata": {},
   "outputs": [],
   "source": [
    "def substring_after(s, delim):\n",
    "    return s.partition(delim)[2]\n",
    "\n",
    "for i, j in enumerate(image_info):\n",
    "    os.rename('datasets/{}/videos/{}'.format(task, substring_after(image_info[i]['source-ref'], '{}/'.format(task))),\n",
    "              'datasets/{}/videos/{}/{}'.format(task, image_info[i]['{}-metadata'.format(task)]['class-name'], substring_after(image_info[i]['source-ref'], '{}/'.format(task))))"
   ]
  },
  {
   "cell_type": "markdown",
   "metadata": {},
   "source": [
    "and create the annotation files required, note we are splitting our labeled videos on 80% for training and 20% for testing."
   ]
  },
  {
   "cell_type": "code",
   "execution_count": 89,
   "metadata": {},
   "outputs": [],
   "source": [
    "f_train = open('datasets/{}/annotations/trainlist.txt'.format(task), 'w')\n",
    "f_test = open('datasets/{}/annotations/testlist.txt'.format(task), 'w')\n",
    "\n",
    "for i, j in enumerate(classes):\n",
    "    for k, file in enumerate(os.listdir('datasets/{}/videos/{}'.format(task, j))):\n",
    "        if k <= (len(os.listdir('datasets/{}/videos/{}'.format(task, j)))*0.8):\n",
    "            f_train.write('{}/{} {}\\n'.format(task, file, i))\n",
    "        else:\n",
    "            f_test.write('{}/{} {}\\n'.format(task, file, i))\n",
    "f_train.close()\n",
    "f_test.close()"
   ]
  },
  {
   "cell_type": "markdown",
   "metadata": {},
   "source": [
    "Finally, we run our pre-processing script on the videos."
   ]
  },
  {
   "cell_type": "code",
   "execution_count": 90,
   "metadata": {
    "scrolled": true
   },
   "outputs": [
    {
     "name": "stdout",
     "output_type": "stream",
     "text": [
      "Decoding videos to frames.\n",
      "Creating folder: datasets/football4/rawframes/not_highlight\n",
      "Creating folder: datasets/football4/rawframes/highlight\n",
      "Creating folder: datasets/football4/rawframes/.ipynb_checkpoints\n",
      "Reading videos from folder:  datasets/football4/videos\n",
      "Extension of videos:  mp4\n",
      "Total number of videos found:  358\n",
      "multiprocessing.pool.RemoteTraceback: \n",
      "\"\"\"\n",
      "Traceback (most recent call last):\n",
      "  File \"/opt/conda/lib/python3.7/multiprocessing/pool.py\", line 121, in worker\n",
      "    result = (True, func(*args, **kwds))\n",
      "  File \"/opt/conda/lib/python3.7/multiprocessing/pool.py\", line 44, in mapstar\n",
      "    return list(map(*args))\n",
      "  File \"entry_point_processing/gluoncv_processing_i3d.py\", line 14, in dump_frames\n",
      "    from gluoncv.utils.filesystem import try_import_mmcv\n",
      "ModuleNotFoundError: No module named 'gluoncv'\n",
      "\"\"\"\n",
      "\n",
      "The above exception was the direct cause of the following exception:\n",
      "\n",
      "Traceback (most recent call last):\n",
      "  File \"entry_point_processing/gluoncv_processing_i3d.py\", line 401, in <module>\n",
      "    decode_video(args)\n",
      "  File \"entry_point_processing/gluoncv_processing_i3d.py\", line 175, in decode_video\n",
      "    fullpath_list, vid_list, range(len(vid_list))))\n",
      "  File \"/opt/conda/lib/python3.7/multiprocessing/pool.py\", line 268, in map\n",
      "    return self._map_async(func, iterable, mapstar, chunksize).get()\n",
      "  File \"/opt/conda/lib/python3.7/multiprocessing/pool.py\", line 657, in get\n",
      "    raise self._value\n",
      "ModuleNotFoundError: No module named 'gluoncv'\n"
     ]
    }
   ],
   "source": [
    "!python entry_point_processing/gluoncv_processing_i3d.py --dataset 'football4'"
   ]
  },
  {
   "cell_type": "markdown",
   "metadata": {},
   "source": []
  },
  {
   "cell_type": "markdown",
   "metadata": {},
   "source": [
    "#### Estimator"
   ]
  },
  {
   "cell_type": "markdown",
   "metadata": {},
   "source": [
    "We will use the weights from a pre-trained Inflated 3D Network (I3D) neural network to detect activities in our videos. I3D is a widely adopted 3D video classification network, it uses 3D convolution to learn spatiotemporal information directly from videos. I3D is proposed to improve C3D (Convolutional 3D Networks) by inflating from 2D models. We can not only reuse the 2D models’ architecture (e.g., ResNet, Inception), but also bootstrap the model weights from 2D pretrained models. In this manner, training 3D networks for video classification is feasible and getting much better results.\n",
    "\n",
    "In this example, we use Inflated 3D model (I3D) with ResNet50 backbone pre-trained on the Kinetics400 dataset.\n",
    "\n",
    "The model will be taken from the MXNet GluonCV model-zoo: https://cv.gluon.ai/api/model_zoo.html#i3d\n",
    "\n",
    "We will create an estimator with the Amazon SageMaker Python SDK, pointing to our training script located at: `entry_point_training/gluoncv_detection_i3d.py`."
   ]
  },
  {
   "cell_type": "code",
   "execution_count": 39,
   "metadata": {
    "scrolled": true
   },
   "outputs": [
    {
     "name": "stdout",
     "output_type": "stream",
     "text": [
      "\u001b[37m# Copyright Amazon.com, Inc. or its affiliates. All Rights Reserved.\u001b[39;49;00m\n",
      "\u001b[37m# SPDX-License-Identifier: MIT-0\u001b[39;49;00m\n"
     ]
    }
   ],
   "source": [
    "!pygmentize entry_point_training/gluoncv_detection_i3d.py"
   ]
  },
  {
   "cell_type": "code",
   "execution_count": null,
   "metadata": {},
   "outputs": [],
   "source": [
    "mxnet_estimator = MXNet(entry_point='gluoncv_detection_i3d.py',\n",
    "                        source_dir='entry_point_training/',\n",
    "                        debugger_hook_config=False,\n",
    "                        role=role,\n",
    "                        train_instance_count=1,\n",
    "                        train_instance_type='ml.p3.2xlarge',\n",
    "                        framework_version='1.8.0',\n",
    "                        container_log_level = 40,\n",
    "                        py_version='py37',\n",
    "                        hyperparameters={'batch-size': 8,\n",
    "                                         'epochs': 20,\n",
    "                                         'learning-rate': 0.001,\n",
    "                                         'wd': 0.0001,\n",
    "                                         'momentum': 0.9, \n",
    "                                         'log-interval': 100})"
   ]
  },
  {
   "cell_type": "markdown",
   "metadata": {},
   "source": [
    "#### Fit model"
   ]
  },
  {
   "cell_type": "code",
   "execution_count": null,
   "metadata": {},
   "outputs": [],
   "source": [
    "job_name = '{}-{}'.format(task,str(uuid.uuid4()))\n",
    "mxnet_estimator.fit({'train': train_data,job_name=job_name})"
   ]
  },
  {
   "cell_type": "markdown",
   "metadata": {},
   "source": [
    "## Deployment and inference"
   ]
  },
  {
   "cell_type": "markdown",
   "metadata": {},
   "source": [
    "#### Real-time inference\n",
    "\n",
    "Here we deploy our model as a SageMaker endpoint for generating predictions on new sample videos, pointing to our inference script located at: `entry_point_inference/gluoncv_inference_i3d.py`\n",
    "\n",
    "For this, we will create a MXNet model that can be deployed to a SageMaker Endpoint. By default, this will use the SageMaker MXNet Inference toolkit for serving MXNet models on Amazon SageMaker. This will use a default framework image for MXNet version specified, provide the S3 location of the SageMaker model data .tar.gz file, provide the path to the Python inference file which should be executed as the entry point to model hosting, with the number of model server workers set to 10 to process parallel invocation requests."
   ]
  },
  {
   "cell_type": "code",
   "execution_count": 38,
   "metadata": {
    "scrolled": true
   },
   "outputs": [
    {
     "name": "stdout",
     "output_type": "stream",
     "text": [
      "\u001b[37m# Copyright Amazon.com, Inc. or its affiliates. All Rights Reserved.\u001b[39;49;00m\n",
      "\u001b[37m# SPDX-License-Identifier: MIT-0\u001b[39;49;00m\n"
     ]
    }
   ],
   "source": [
    "!pygmentize entry_point/gluoncv_inference_i3d.py"
   ]
  },
  {
   "cell_type": "code",
   "execution_count": 48,
   "metadata": {},
   "outputs": [
    {
     "name": "stdout",
     "output_type": "stream",
     "text": [
      "-----------!"
     ]
    }
   ],
   "source": [
    "from sagemaker.mxnet.model import MXNetModel\n",
    "sagemaker_model = MXNetModel(model_data = 's3://' + bucket + '/' + output_path  + job_name + '/output/model.tar.gz',\n",
    "                             source_dir='entry_point_inference/',\n",
    "                             entry_point='gluoncv_inference_i3d.py',\n",
    "                             role = role,\n",
    "                             framework_version='1.8.0',\n",
    "                             container_log_level = 40,\n",
    "                             py_version='py37',\n",
    "                             model_server_workers=10,\n",
    "                             name='{}-{0}'.format(task,str(int(time.time()))))\n",
    "print(sagemaker_model.name)"
   ]
  },
  {
   "cell_type": "code",
   "execution_count": null,
   "metadata": {},
   "outputs": [],
   "source": [
    "logging.getLogger().setLevel(logging.WARNING)\n",
    "predictor = sagemaker_model.deploy(initial_instance_count=1,\n",
    "                                   instance_type='ml.g4dn.2xlarge',\n",
    "                                   endpoint_name=task)"
   ]
  },
  {
   "cell_type": "markdown",
   "metadata": {},
   "source": [
    "*- Note: This step takes around 6-7 minutes to complete. -*"
   ]
  },
  {
   "cell_type": "markdown",
   "metadata": {},
   "source": [
    "We have now deployed our GluonCV activity detection model in SageMaker, let's retrieve this endpoint."
   ]
  },
  {
   "cell_type": "code",
   "execution_count": 49,
   "metadata": {},
   "outputs": [
    {
     "data": {
      "text/plain": [
       "{'EndpointName': 'football2-60-od-images',\n",
       " 'EndpointArn': 'arn:aws:sagemaker:eu-west-1:889960878219:endpoint/football2-60-od-images',\n",
       " 'CreationTime': datetime.datetime(2021, 2, 4, 10, 49, 36, 266000, tzinfo=tzlocal()),\n",
       " 'LastModifiedTime': datetime.datetime(2021, 2, 4, 10, 54, 54, 355000, tzinfo=tzlocal()),\n",
       " 'EndpointStatus': 'InService'}"
      ]
     },
     "execution_count": 49,
     "metadata": {},
     "output_type": "execute_result"
    }
   ],
   "source": [
    "sm_client = boto3.client('sagemaker')\n",
    "sm_client.describe_endpoint(EndpointName=task)['EndpointArn']"
   ]
  },
  {
   "cell_type": "markdown",
   "metadata": {},
   "source": [
    "Finally, let's upload some sample videos to S3 and pass these to the endpoint. Some sample videos are available in `sample_media/`."
   ]
  },
  {
   "cell_type": "code",
   "execution_count": null,
   "metadata": {},
   "outputs": [],
   "source": [
    "eval_videos = glob.glob(\"../sample_media/*.mp4\")\n",
    "print('Sample videos found:',eval_videos)\n",
    "\n",
    "for i in eval_videos:\n",
    "    payload = sagemaker_session.upload_data(path=i, key_prefix=inf_prefix)\n",
    "    S3_VIDEO_PATH = payload\n",
    "    data = {'S3_VIDEO_PATH': S3_VIDEO_PATH,}\n",
    "    print(time.time(),'Running inference for video',payload,'on SageMaker endpoint',task)\n",
    "    sm-runtime = boto3.Session().client('sagemaker-runtime')\n",
    "    response = sm_runtime.invoke_endpoint(EndpointName=task, ContentType='application/json',Accept='application/json',Body=json.dumps(data))\n",
    "    response_body = json.loads(response['Body'].read().decode('utf-8'))\n",
    "    print(time.time(),response_body)\n"
   ]
  },
  {
   "cell_type": "code",
   "execution_count": null,
   "metadata": {},
   "outputs": [],
   "source": []
  }
 ],
 "metadata": {
  "instance_type": "ml.t3.medium",
  "kernelspec": {
   "display_name": "Python 3 (Data Science)",
   "language": "python",
   "name": "python3__SAGEMAKER_INTERNAL__arn:aws:sagemaker:eu-west-1:470317259841:image/datascience-1.0"
  },
  "language_info": {
   "codemirror_mode": {
    "name": "ipython",
    "version": 3
   },
   "file_extension": ".py",
   "mimetype": "text/x-python",
   "name": "python",
   "nbconvert_exporter": "python",
   "pygments_lexer": "ipython3",
   "version": "3.7.6"
  }
 },
 "nbformat": 4,
 "nbformat_minor": 4
}
