{
 "cells": [
  {
   "cell_type": "markdown",
   "metadata": {},
   "source": [
    "## Lab #2 - Activity Detection"
   ]
  },
  {
   "cell_type": "markdown",
   "metadata": {},
   "source": [
    "In this lab, we will run an activity detection example on small videos extracted from a main video. For this purpose we will:\n",
    "- Split the main video into multiple smaller videos\n",
    "- Create a video classification labeling job with Amazon SageMaker GroundTruth for going through the small videos set\n",
    "- Train an actvitiy detection model on the labeled data with an Amazon SageMaker estimator, applying transfer learning with a pre-trained model from a model zoo\n",
    "- Deploy the trained model to an Amazon SageMaker endpoint for performing some real-time inferences with sample videos"
   ]
  },
  {
   "cell_type": "markdown",
   "metadata": {},
   "source": [
    "## Setup"
   ]
  },
  {
   "cell_type": "code",
   "execution_count": 11,
   "metadata": {
    "scrolled": true
   },
   "outputs": [
    {
     "name": "stdout",
     "output_type": "stream",
     "text": [
      "Collecting mmcv\n",
      "  Downloading mmcv-1.2.6.tar.gz (226 kB)\n",
      "\u001b[K     |████████████████████████████████| 226 kB 21.5 MB/s eta 0:00:01\n",
      "\u001b[?25hCollecting addict\n",
      "  Downloading addict-2.4.0-py3-none-any.whl (3.8 kB)\n",
      "Requirement already satisfied: numpy in /usr/local/lib/python3.7/site-packages (from mmcv) (1.19.1)\n",
      "Requirement already satisfied: Pillow in /usr/local/lib/python3.7/site-packages (from mmcv) (8.0.1)\n",
      "Requirement already satisfied: pyyaml in /usr/local/lib/python3.7/site-packages (from mmcv) (5.3.1)\n",
      "Collecting yapf\n",
      "  Downloading yapf-0.30.0-py2.py3-none-any.whl (190 kB)\n",
      "\u001b[K     |████████████████████████████████| 190 kB 44.5 MB/s eta 0:00:01\n",
      "\u001b[?25hUsing legacy 'setup.py install' for mmcv, since package 'wheel' is not installed.\n",
      "Installing collected packages: addict, yapf, mmcv\n",
      "    Running setup.py install for mmcv ... \u001b[?25ldone\n",
      "\u001b[?25hSuccessfully installed addict-2.4.0 mmcv-1.2.6 yapf-0.30.0\n",
      "\u001b[33mWARNING: You are using pip version 20.2.4; however, version 21.0.1 is available.\n",
      "You should consider upgrading via the '/usr/local/bin/python3.7 -m pip install --upgrade pip' command.\u001b[0m\n"
     ]
    }
   ],
   "source": [
    "#!pip install mmcv"
   ]
  },
  {
   "cell_type": "markdown",
   "metadata": {},
   "source": [
    "#### Libraries"
   ]
  },
  {
   "cell_type": "code",
   "execution_count": 88,
   "metadata": {},
   "outputs": [],
   "source": [
    "import sagemaker\n",
    "from sagemaker import get_execution_role\n",
    "from sagemaker.mxnet import MXNet\n",
    "from sagemaker.mxnet.model import MXNetModel\n",
    "import mxnet as mx\n",
    "from mxnet import gluon, nd, image\n",
    "from mxnet.gluon.data.vision import transforms\n",
    "from mxnet import gluon\n",
    "from gluoncv.data.transforms import video\n",
    "from gluoncv import utils\n",
    "from gluoncv.model_zoo import get_model\n",
    "from gluoncv import utils\n",
    "from gluoncv.utils import export_block\n",
    "import boto3, os, re, json, time, uuid, logging, glob\n",
    "import matplotlib.pyplot as plt\n",
    "import numpy as np"
   ]
  },
  {
   "cell_type": "markdown",
   "metadata": {},
   "source": [
    "#### Variables"
   ]
  },
  {
   "cell_type": "code",
   "execution_count": 40,
   "metadata": {
    "scrolled": true
   },
   "outputs": [
    {
     "name": "stdout",
     "output_type": "stream",
     "text": [
      "Execution_role: arn:aws:iam::889960878219:role/service-role/AmazonSageMaker-ExecutionRole-20180920T165537\n",
      "S3_bucket: rodzanto2020ml\n",
      "Ground-truth_labeling task: football4\n",
      "S3_videos_prefix: sports/football4\n",
      "S3_label_prefix: sports/football4/football4\n",
      "Labeling_classes: ['highlight', 'not_highlight']\n",
      "S3_inference_prefix: sports/football4/validation_sample\n",
      "S3_main_video: s3://rodzanto2020ml/sports/football1/full-match-real-madrid-vs-atletico-de-madrid-laliga-20172018.mp4\n",
      "S3_train_data: s3://rodzanto2020ml/sports/football4/i3d_data\n"
     ]
    }
   ],
   "source": [
    "sagemaker_session = sagemaker.Session()\n",
    "role = sagemaker.get_execution_role()\n",
    "bucket = 'rodzanto2020ml'\n",
    "#bucket = sagemaker_session.default_bucket()\n",
    "task = 'football4'\n",
    "videos_prefix = 'sports/football4'\n",
    "label_prefix = 'sports/football4/{}'.format(task)\n",
    "classes = ['highlight', 'not_highlight']\n",
    "inf_prefix = '{}/validation_sample'.format(videos_prefix)\n",
    "main_video = 's3://{}/sports/football1/full-match-real-madrid-vs-atletico-de-madrid-laliga-20172018.mp4'.format(bucket)\n",
    "train_data = 's3://{}/{}/i3d_data'.format(bucket,videos_prefix)\n",
    "\n",
    "print('Execution_role:',role)\n",
    "print('S3_bucket:',bucket)\n",
    "print('Ground-truth_labeling task:',task)\n",
    "print('S3_videos_prefix:',videos_prefix)\n",
    "print('S3_label_prefix:',label_prefix)\n",
    "print('Labeling_classes:',classes)\n",
    "print('S3_inference_prefix:',inf_prefix)\n",
    "print('S3_main_video:',main_video)\n",
    "print('S3_train_data:',train_data)"
   ]
  },
  {
   "cell_type": "markdown",
   "metadata": {},
   "source": [
    "## Preparation"
   ]
  },
  {
   "cell_type": "markdown",
   "metadata": {},
   "source": [
    "Download the main video to be used for this lab.\n",
    "\n",
    "`- Warning: This sample file' size is around 1.9GB -`"
   ]
  },
  {
   "cell_type": "code",
   "execution_count": null,
   "metadata": {},
   "outputs": [],
   "source": [
    "#s3 = boto3.resource('s3')\n",
    "#s3.Bucket(bucket).download_file(main_video, 'main_video.mp4')    "
   ]
  },
  {
   "cell_type": "markdown",
   "metadata": {},
   "source": [
    "Split the main video into smaller chunks of video for easing the labeling and classification. We will use the tool \"ffmpeg\" for this.\n",
    "\n",
    "`- Warning: The following command could take a lot of time to complete depending on the size of the main video. -`"
   ]
  },
  {
   "cell_type": "code",
   "execution_count": null,
   "metadata": {},
   "outputs": [],
   "source": [
    "#!ffmpeg -i main_video.mp4 -c:v libx264 -crf 22 \\\n",
    "#    -map 0 -segment_time 20 -reset_timestamps 1 -sc_threshold 0 -force_key_frames \"expr:gte(t,n_forced*5)\" \\\n",
    "#    -f segment video_%03d.mp4"
   ]
  },
  {
   "cell_type": "markdown",
   "metadata": {},
   "source": [
    "## Labeling"
   ]
  },
  {
   "cell_type": "markdown",
   "metadata": {},
   "source": [
    "Create a video classification labeling job using SageMaker Ground Truth for the sample videos. For simplicity, we will configure it such that it will only consider 2 classes: i.e. when a play should be part of the highlights, and when a play should not be part of the highlights."
   ]
  },
  {
   "cell_type": "markdown",
   "metadata": {},
   "source": [
    "Create a labeling job following the same steps of the previous lab, but this time set the \"Task type\" as \"Video clip classification\".\n",
    "\n",
    "In the next screen, when setting the labels to classify you can use \"highlight\" and \"not_highlight\" for simplicity."
   ]
  },
  {
   "cell_type": "markdown",
   "metadata": {},
   "source": [
    "#### Inspect labels\n",
    "\n",
    "The \"manifest file\" was created after completing the labeling job using SageMaker Ground Truth. It contains metadata about the images and the associated labels."
   ]
  },
  {
   "cell_type": "code",
   "execution_count": 5,
   "metadata": {},
   "outputs": [],
   "source": [
    "# Download output.manifest from the S3 bucket to the local notebook, if it doesn't exist locally already\n",
    "if not os.path.isfile('output.manifest'):\n",
    "    import boto3\n",
    "    s3 = boto3.resource('s3')\n",
    "    s3.Bucket(bucket).download_file('{}/manifests/output/output.manifest'.format(label_prefix), 'output.manifest')    "
   ]
  },
  {
   "cell_type": "markdown",
   "metadata": {},
   "source": [
    "Each video has a class assigned. We can read this information from the `output.manifest` file."
   ]
  },
  {
   "cell_type": "code",
   "execution_count": 6,
   "metadata": {},
   "outputs": [
    {
     "name": "stdout",
     "output_type": "stream",
     "text": [
      "Total number of videos: 358\n",
      "Ground Truth labeling for sample videos:\n"
     ]
    },
    {
     "data": {
      "text/plain": [
       "{'source-ref': 's3://rodzanto2020ml/sports/football4/Football4_000.mp4',\n",
       " 'football4': 1,\n",
       " 'football4-metadata': {'class-name': 'not_highlight',\n",
       "  'job-name': 'labeling-job/football4',\n",
       "  'confidence': 0,\n",
       "  'type': 'groundtruth/video-classification',\n",
       "  'human-annotated': 'yes',\n",
       "  'creation-date': '2021-02-04T10:44:06.690503'}}"
      ]
     },
     "execution_count": 6,
     "metadata": {},
     "output_type": "execute_result"
    }
   ],
   "source": [
    "image_info = []\n",
    "total0 = 0\n",
    "total1 = 0\n",
    "with open('output.manifest') as f:\n",
    "    lines = f.readlines()\n",
    "    for line in lines:\n",
    "        image_info.append(json.loads(line[:-1]))\n",
    "        if json.loads(line[:-1])['{}-metadata'.format(task)]['class-name'] == 'highlight':\n",
    "            total1+=1\n",
    "        elif json.loads(line[:-1])['{}-metadata'.format(task)]['class-name'] == 'not_highlight':\n",
    "            total0+=1\n",
    "\n",
    "info = image_info[0]\n",
    "print(\"Total number of videos: {}\".format(len(image_info)))\n",
    "print(\"Ground Truth labeling for sample videos:\")\n",
    "info"
   ]
  },
  {
   "cell_type": "markdown",
   "metadata": {},
   "source": [
    "Let's check the labels distribution in the sample videos."
   ]
  },
  {
   "cell_type": "code",
   "execution_count": 7,
   "metadata": {},
   "outputs": [
    {
     "data": {
      "image/png": "[encoded data removed]",
      "text/plain": [
       "<Figure size 432x288 with 1 Axes>"
      ]
     },
     "metadata": {
      "needs_background": "light"
     },
     "output_type": "display_data"
    }
   ],
   "source": [
    "fig = plt.figure()\n",
    "ax = fig.add_axes([0,0,1,1])\n",
    "labels = [total1, total0]\n",
    "ax.bar(classes,labels)\n",
    "rects = ax.patches\n",
    "for rect, label in zip(rects, labels):\n",
    "    height = rect.get_height()\n",
    "    ax.text(rect.get_x() + rect.get_width() / 2, height + 5, label, ha='center', va='bottom')\n",
    "plt.show()"
   ]
  },
  {
   "cell_type": "markdown",
   "metadata": {},
   "source": [
    "## Training using transfer learning"
   ]
  },
  {
   "cell_type": "markdown",
   "metadata": {},
   "source": [
    "Now let's pre-process the labeled small videos for training, by relying on the GluonCV's data loader script in an Amazon SageMaker Processing job, pointing to our processing script located at: `entry_point_processing/gluoncv_processing_i3d.py`"
   ]
  },
  {
   "cell_type": "markdown",
   "metadata": {},
   "source": [
    "#### Pre-processing"
   ]
  },
  {
   "cell_type": "markdown",
   "metadata": {},
   "source": [
    "Let's create the structure of directories required for the pre-processing. We will also create the classes index file."
   ]
  },
  {
   "cell_type": "code",
   "execution_count": 16,
   "metadata": {},
   "outputs": [],
   "source": [
    "if not os.path.exists('datasets'):\n",
    "    os.makedirs('datasets')\n",
    "\n",
    "if not os.path.exists('datasets/{}'.format(task)):\n",
    "    os.makedirs('datasets/{}'.format(task))\n",
    "\n",
    "if not os.path.exists('datasets/{}/videos'.format(task)):\n",
    "    os.makedirs('datasets/{}/videos'.format(task))\n",
    "\n",
    "if not os.path.exists('datasets/{}/annotations'.format(task)):\n",
    "    os.makedirs('datasets/{}/annotations'.format(task))"
   ]
  },
  {
   "cell_type": "markdown",
   "metadata": {},
   "source": [
    "Now, we download the relevant videos from S3 to the local file-system of the notebook."
   ]
  },
  {
   "cell_type": "code",
   "execution_count": 68,
   "metadata": {
    "scrolled": true
   },
   "outputs": [
    {
     "name": "stdout",
     "output_type": "stream",
     "text": [
      "download: s3://rodzanto2020ml/sports/football4/Football4_001.mp4 to datasets/football4/videos/Football4_001.mp4\n",
      "download: s3://rodzanto2020ml/sports/football4/Football4_007.mp4 to datasets/football4/videos/Football4_007.mp4\n",
      "download: s3://rodzanto2020ml/sports/football4/Football4_000.mp4 to datasets/football4/videos/Football4_000.mp4\n",
      "download: s3://rodzanto2020ml/sports/football4/Football4_002.mp4 to datasets/football4/videos/Football4_002.mp4\n",
      "download: s3://rodzanto2020ml/sports/football4/Football4_005.mp4 to datasets/football4/videos/Football4_005.mp4\n",
      "download: s3://rodzanto2020ml/sports/football4/Football4_009.mp4 to datasets/football4/videos/Football4_009.mp4\n",
      "download: s3://rodzanto2020ml/sports/football4/Football4_004.mp4 to datasets/football4/videos/Football4_004.mp4\n",
      "download: s3://rodzanto2020ml/sports/football4/Football4_003.mp4 to datasets/football4/videos/Football4_003.mp4\n",
      "download: s3://rodzanto2020ml/sports/football4/Football4_008.mp4 to datasets/football4/videos/Football4_008.mp4\n",
      "download: s3://rodzanto2020ml/sports/football4/Football4_006.mp4 to datasets/football4/videos/Football4_006.mp4\n",
      "download: s3://rodzanto2020ml/sports/football4/Football4_012.mp4 to datasets/football4/videos/Football4_012.mp4\n",
      "download: s3://rodzanto2020ml/sports/football4/Football4_011.mp4 to datasets/football4/videos/Football4_011.mp4\n",
      "download: s3://rodzanto2020ml/sports/football4/Football4_013.mp4 to datasets/football4/videos/Football4_013.mp4\n",
      "download: s3://rodzanto2020ml/sports/football4/Football4_010.mp4 to datasets/football4/videos/Football4_010.mp4\n",
      "download: s3://rodzanto2020ml/sports/football4/Football4_015.mp4 to datasets/football4/videos/Football4_015.mp4\n",
      "download: s3://rodzanto2020ml/sports/football4/Football4_014.mp4 to datasets/football4/videos/Football4_014.mp4\n",
      "download: s3://rodzanto2020ml/sports/football4/Football4_016.mp4 to datasets/football4/videos/Football4_016.mp4\n",
      "download: s3://rodzanto2020ml/sports/football4/Football4_019.mp4 to datasets/football4/videos/Football4_019.mp4\n",
      "download: s3://rodzanto2020ml/sports/football4/Football4_017.mp4 to datasets/football4/videos/Football4_017.mp4\n",
      "download: s3://rodzanto2020ml/sports/football4/Football4_018.mp4 to datasets/football4/videos/Football4_018.mp4\n",
      "download: s3://rodzanto2020ml/sports/football4/Football4_020.mp4 to datasets/football4/videos/Football4_020.mp4\n",
      "download: s3://rodzanto2020ml/sports/football4/Football4_021.mp4 to datasets/football4/videos/Football4_021.mp4\n",
      "download: s3://rodzanto2020ml/sports/football4/Football4_023.mp4 to datasets/football4/videos/Football4_023.mp4\n",
      "download: s3://rodzanto2020ml/sports/football4/Football4_022.mp4 to datasets/football4/videos/Football4_022.mp4\n",
      "download: s3://rodzanto2020ml/sports/football4/Football4_028.mp4 to datasets/football4/videos/Football4_028.mp4\n",
      "download: s3://rodzanto2020ml/sports/football4/Football4_024.mp4 to datasets/football4/videos/Football4_024.mp4\n",
      "download: s3://rodzanto2020ml/sports/football4/Football4_034.mp4 to datasets/football4/videos/Football4_034.mp4\n",
      "download: s3://rodzanto2020ml/sports/football4/Football4_025.mp4 to datasets/football4/videos/Football4_025.mp4\n",
      "download: s3://rodzanto2020ml/sports/football4/Football4_027.mp4 to datasets/football4/videos/Football4_027.mp4\n",
      "download: s3://rodzanto2020ml/sports/football4/Football4_035.mp4 to datasets/football4/videos/Football4_035.mp4\n",
      "download: s3://rodzanto2020ml/sports/football4/Football4_029.mp4 to datasets/football4/videos/Football4_029.mp4\n",
      "download: s3://rodzanto2020ml/sports/football4/Football4_038.mp4 to datasets/football4/videos/Football4_038.mp4\n",
      "download: s3://rodzanto2020ml/sports/football4/Football4_045.mp4 to datasets/football4/videos/Football4_045.mp4\n",
      "download: s3://rodzanto2020ml/sports/football4/Football4_041.mp4 to datasets/football4/videos/Football4_041.mp4\n",
      "download: s3://rodzanto2020ml/sports/football4/Football4_037.mp4 to datasets/football4/videos/Football4_037.mp4\n",
      "download: s3://rodzanto2020ml/sports/football4/Football4_032.mp4 to datasets/football4/videos/Football4_032.mp4\n",
      "download: s3://rodzanto2020ml/sports/football4/Football4_026.mp4 to datasets/football4/videos/Football4_026.mp4\n",
      "download: s3://rodzanto2020ml/sports/football4/Football4_030.mp4 to datasets/football4/videos/Football4_030.mp4\n",
      "download: s3://rodzanto2020ml/sports/football4/Football4_048.mp4 to datasets/football4/videos/Football4_048.mp4\n",
      "download: s3://rodzanto2020ml/sports/football4/Football4_051.mp4 to datasets/football4/videos/Football4_051.mp4\n",
      "download: s3://rodzanto2020ml/sports/football4/Football4_056.mp4 to datasets/football4/videos/Football4_056.mp4\n",
      "download: s3://rodzanto2020ml/sports/football4/Football4_031.mp4 to datasets/football4/videos/Football4_031.mp4\n",
      "download: s3://rodzanto2020ml/sports/football4/Football4_052.mp4 to datasets/football4/videos/Football4_052.mp4\n",
      "download: s3://rodzanto2020ml/sports/football4/Football4_059.mp4 to datasets/football4/videos/Football4_059.mp4\n",
      "download: s3://rodzanto2020ml/sports/football4/Football4_033.mp4 to datasets/football4/videos/Football4_033.mp4\n",
      "download: s3://rodzanto2020ml/sports/football4/Football4_058.mp4 to datasets/football4/videos/Football4_058.mp4\n",
      "download: s3://rodzanto2020ml/sports/football4/Football4_061.mp4 to datasets/football4/videos/Football4_061.mp4\n",
      "download: s3://rodzanto2020ml/sports/football4/Football4_069.mp4 to datasets/football4/videos/Football4_069.mp4\n",
      "download: s3://rodzanto2020ml/sports/football4/Football4_036.mp4 to datasets/football4/videos/Football4_036.mp4\n",
      "download: s3://rodzanto2020ml/sports/football4/Football4_060.mp4 to datasets/football4/videos/Football4_060.mp4\n",
      "download: s3://rodzanto2020ml/sports/football4/Football4_065.mp4 to datasets/football4/videos/Football4_065.mp4\n",
      "download: s3://rodzanto2020ml/sports/football4/Football4_064.mp4 to datasets/football4/videos/Football4_064.mp4\n",
      "download: s3://rodzanto2020ml/sports/football4/Football4_074.mp4 to datasets/football4/videos/Football4_074.mp4\n",
      "download: s3://rodzanto2020ml/sports/football4/Football4_070.mp4 to datasets/football4/videos/Football4_070.mp4\n",
      "download: s3://rodzanto2020ml/sports/football4/Football4_075.mp4 to datasets/football4/videos/Football4_075.mp4\n",
      "download: s3://rodzanto2020ml/sports/football4/Football4_072.mp4 to datasets/football4/videos/Football4_072.mp4\n",
      "download: s3://rodzanto2020ml/sports/football4/Football4_073.mp4 to datasets/football4/videos/Football4_073.mp4\n",
      "download: s3://rodzanto2020ml/sports/football4/Football4_039.mp4 to datasets/football4/videos/Football4_039.mp4\n",
      "download: s3://rodzanto2020ml/sports/football4/Football4_071.mp4 to datasets/football4/videos/Football4_071.mp4\n",
      "download: s3://rodzanto2020ml/sports/football4/Football4_077.mp4 to datasets/football4/videos/Football4_077.mp4\n",
      "download: s3://rodzanto2020ml/sports/football4/Football4_040.mp4 to datasets/football4/videos/Football4_040.mp4\n",
      "download: s3://rodzanto2020ml/sports/football4/Football4_081.mp4 to datasets/football4/videos/Football4_081.mp4\n",
      "download: s3://rodzanto2020ml/sports/football4/Football4_042.mp4 to datasets/football4/videos/Football4_042.mp4\n",
      "download: s3://rodzanto2020ml/sports/football4/Football4_087.mp4 to datasets/football4/videos/Football4_087.mp4\n",
      "download: s3://rodzanto2020ml/sports/football4/Football4_083.mp4 to datasets/football4/videos/Football4_083.mp4\n",
      "download: s3://rodzanto2020ml/sports/football4/Football4_085.mp4 to datasets/football4/videos/Football4_085.mp4\n",
      "download: s3://rodzanto2020ml/sports/football4/Football4_086.mp4 to datasets/football4/videos/Football4_086.mp4\n",
      "download: s3://rodzanto2020ml/sports/football4/Football4_089.mp4 to datasets/football4/videos/Football4_089.mp4\n",
      "download: s3://rodzanto2020ml/sports/football4/Football4_043.mp4 to datasets/football4/videos/Football4_043.mp4\n",
      "download: s3://rodzanto2020ml/sports/football4/Football4_088.mp4 to datasets/football4/videos/Football4_088.mp4\n",
      "download: s3://rodzanto2020ml/sports/football4/Football4_082.mp4 to datasets/football4/videos/Football4_082.mp4\n",
      "download: s3://rodzanto2020ml/sports/football4/Football4_092.mp4 to datasets/football4/videos/Football4_092.mp4\n",
      "download: s3://rodzanto2020ml/sports/football4/Football4_096.mp4 to datasets/football4/videos/Football4_096.mp4\n",
      "download: s3://rodzanto2020ml/sports/football4/Football4_046.mp4 to datasets/football4/videos/Football4_046.mp4\n",
      "download: s3://rodzanto2020ml/sports/football4/Football4_084.mp4 to datasets/football4/videos/Football4_084.mp4\n",
      "download: s3://rodzanto2020ml/sports/football4/Football4_047.mp4 to datasets/football4/videos/Football4_047.mp4\n",
      "download: s3://rodzanto2020ml/sports/football4/Football4_097.mp4 to datasets/football4/videos/Football4_097.mp4\n",
      "download: s3://rodzanto2020ml/sports/football4/Football4_104.mp4 to datasets/football4/videos/Football4_104.mp4\n",
      "download: s3://rodzanto2020ml/sports/football4/Football4_101.mp4 to datasets/football4/videos/Football4_101.mp4\n",
      "download: s3://rodzanto2020ml/sports/football4/Football4_044.mp4 to datasets/football4/videos/Football4_044.mp4\n",
      "download: s3://rodzanto2020ml/sports/football4/Football4_100.mp4 to datasets/football4/videos/Football4_100.mp4\n",
      "download: s3://rodzanto2020ml/sports/football4/Football4_098.mp4 to datasets/football4/videos/Football4_098.mp4\n",
      "download: s3://rodzanto2020ml/sports/football4/Football4_093.mp4 to datasets/football4/videos/Football4_093.mp4\n",
      "download: s3://rodzanto2020ml/sports/football4/Football4_107.mp4 to datasets/football4/videos/Football4_107.mp4\n",
      "download: s3://rodzanto2020ml/sports/football4/Football4_103.mp4 to datasets/football4/videos/Football4_103.mp4\n",
      "download: s3://rodzanto2020ml/sports/football4/Football4_108.mp4 to datasets/football4/videos/Football4_108.mp4\n",
      "download: s3://rodzanto2020ml/sports/football4/Football4_053.mp4 to datasets/football4/videos/Football4_053.mp4\n",
      "download: s3://rodzanto2020ml/sports/football4/Football4_111.mp4 to datasets/football4/videos/Football4_111.mp4\n",
      "download: s3://rodzanto2020ml/sports/football4/Football4_112.mp4 to datasets/football4/videos/Football4_112.mp4\n",
      "download: s3://rodzanto2020ml/sports/football4/Football4_106.mp4 to datasets/football4/videos/Football4_106.mp4\n",
      "download: s3://rodzanto2020ml/sports/football4/Football4_050.mp4 to datasets/football4/videos/Football4_050.mp4\n",
      "download: s3://rodzanto2020ml/sports/football4/Football4_109.mp4 to datasets/football4/videos/Football4_109.mp4\n",
      "download: s3://rodzanto2020ml/sports/football4/Football4_115.mp4 to datasets/football4/videos/Football4_115.mp4\n",
      "download: s3://rodzanto2020ml/sports/football4/Football4_119.mp4 to datasets/football4/videos/Football4_119.mp4\n",
      "download: s3://rodzanto2020ml/sports/football4/Football4_120.mp4 to datasets/football4/videos/Football4_120.mp4\n",
      "download: s3://rodzanto2020ml/sports/football4/Football4_055.mp4 to datasets/football4/videos/Football4_055.mp4\n",
      "download: s3://rodzanto2020ml/sports/football4/Football4_122.mp4 to datasets/football4/videos/Football4_122.mp4\n",
      "download: s3://rodzanto2020ml/sports/football4/Football4_057.mp4 to datasets/football4/videos/Football4_057.mp4\n",
      "download: s3://rodzanto2020ml/sports/football4/Football4_127.mp4 to datasets/football4/videos/Football4_127.mp4\n",
      "download: s3://rodzanto2020ml/sports/football4/Football4_123.mp4 to datasets/football4/videos/Football4_123.mp4\n",
      "download: s3://rodzanto2020ml/sports/football4/Football4_121.mp4 to datasets/football4/videos/Football4_121.mp4\n",
      "download: s3://rodzanto2020ml/sports/football4/Football4_126.mp4 to datasets/football4/videos/Football4_126.mp4\n",
      "download: s3://rodzanto2020ml/sports/football4/Football4_130.mp4 to datasets/football4/videos/Football4_130.mp4\n",
      "download: s3://rodzanto2020ml/sports/football4/Football4_129.mp4 to datasets/football4/videos/Football4_129.mp4\n",
      "download: s3://rodzanto2020ml/sports/football4/Football4_131.mp4 to datasets/football4/videos/Football4_131.mp4\n",
      "download: s3://rodzanto2020ml/sports/football4/Football4_128.mp4 to datasets/football4/videos/Football4_128.mp4\n",
      "download: s3://rodzanto2020ml/sports/football4/Football4_135.mp4 to datasets/football4/videos/Football4_135.mp4\n",
      "download: s3://rodzanto2020ml/sports/football4/Football4_049.mp4 to datasets/football4/videos/Football4_049.mp4\n",
      "download: s3://rodzanto2020ml/sports/football4/Football4_054.mp4 to datasets/football4/videos/Football4_054.mp4\n",
      "download: s3://rodzanto2020ml/sports/football4/Football4_138.mp4 to datasets/football4/videos/Football4_138.mp4\n",
      "download: s3://rodzanto2020ml/sports/football4/Football4_140.mp4 to datasets/football4/videos/Football4_140.mp4\n",
      "download: s3://rodzanto2020ml/sports/football4/Football4_062.mp4 to datasets/football4/videos/Football4_062.mp4\n",
      "download: s3://rodzanto2020ml/sports/football4/Football4_142.mp4 to datasets/football4/videos/Football4_142.mp4\n",
      "download: s3://rodzanto2020ml/sports/football4/Football4_063.mp4 to datasets/football4/videos/Football4_063.mp4\n",
      "download: s3://rodzanto2020ml/sports/football4/Football4_066.mp4 to datasets/football4/videos/Football4_066.mp4\n",
      "download: s3://rodzanto2020ml/sports/football4/Football4_143.mp4 to datasets/football4/videos/Football4_143.mp4\n",
      "download: s3://rodzanto2020ml/sports/football4/Football4_068.mp4 to datasets/football4/videos/Football4_068.mp4\n",
      "download: s3://rodzanto2020ml/sports/football4/Football4_067.mp4 to datasets/football4/videos/Football4_067.mp4\n",
      "download: s3://rodzanto2020ml/sports/football4/Football4_078.mp4 to datasets/football4/videos/Football4_078.mp4\n",
      "download: s3://rodzanto2020ml/sports/football4/Football4_076.mp4 to datasets/football4/videos/Football4_076.mp4\n",
      "download: s3://rodzanto2020ml/sports/football4/Football4_080.mp4 to datasets/football4/videos/Football4_080.mp4\n",
      "download: s3://rodzanto2020ml/sports/football4/Football4_079.mp4 to datasets/football4/videos/Football4_079.mp4\n",
      "download: s3://rodzanto2020ml/sports/football4/Football4_153.mp4 to datasets/football4/videos/Football4_153.mp4\n",
      "download: s3://rodzanto2020ml/sports/football4/Football4_090.mp4 to datasets/football4/videos/Football4_090.mp4\n",
      "download: s3://rodzanto2020ml/sports/football4/Football4_091.mp4 to datasets/football4/videos/Football4_091.mp4\n",
      "download: s3://rodzanto2020ml/sports/football4/Football4_095.mp4 to datasets/football4/videos/Football4_095.mp4\n",
      "download: s3://rodzanto2020ml/sports/football4/Football4_099.mp4 to datasets/football4/videos/Football4_099.mp4\n",
      "download: s3://rodzanto2020ml/sports/football4/Football4_094.mp4 to datasets/football4/videos/Football4_094.mp4\n",
      "download: s3://rodzanto2020ml/sports/football4/Football4_154.mp4 to datasets/football4/videos/Football4_154.mp4\n",
      "download: s3://rodzanto2020ml/sports/football4/Football4_102.mp4 to datasets/football4/videos/Football4_102.mp4\n",
      "download: s3://rodzanto2020ml/sports/football4/Football4_110.mp4 to datasets/football4/videos/Football4_110.mp4\n",
      "download: s3://rodzanto2020ml/sports/football4/Football4_105.mp4 to datasets/football4/videos/Football4_105.mp4\n",
      "download: s3://rodzanto2020ml/sports/football4/Football4_113.mp4 to datasets/football4/videos/Football4_113.mp4\n",
      "download: s3://rodzanto2020ml/sports/football4/Football4_114.mp4 to datasets/football4/videos/Football4_114.mp4\n",
      "download: s3://rodzanto2020ml/sports/football4/Football4_116.mp4 to datasets/football4/videos/Football4_116.mp4\n",
      "download: s3://rodzanto2020ml/sports/football4/Football4_117.mp4 to datasets/football4/videos/Football4_117.mp4\n",
      "download: s3://rodzanto2020ml/sports/football4/Football4_167.mp4 to datasets/football4/videos/Football4_167.mp4\n",
      "download: s3://rodzanto2020ml/sports/football4/Football4_118.mp4 to datasets/football4/videos/Football4_118.mp4\n",
      "download: s3://rodzanto2020ml/sports/football4/Football4_125.mp4 to datasets/football4/videos/Football4_125.mp4\n",
      "download: s3://rodzanto2020ml/sports/football4/Football4_169.mp4 to datasets/football4/videos/Football4_169.mp4\n",
      "download: s3://rodzanto2020ml/sports/football4/Football4_171.mp4 to datasets/football4/videos/Football4_171.mp4\n",
      "download: s3://rodzanto2020ml/sports/football4/Football4_172.mp4 to datasets/football4/videos/Football4_172.mp4\n",
      "download: s3://rodzanto2020ml/sports/football4/Football4_124.mp4 to datasets/football4/videos/Football4_124.mp4\n",
      "download: s3://rodzanto2020ml/sports/football4/Football4_133.mp4 to datasets/football4/videos/Football4_133.mp4\n",
      "download: s3://rodzanto2020ml/sports/football4/Football4_132.mp4 to datasets/football4/videos/Football4_132.mp4\n",
      "download: s3://rodzanto2020ml/sports/football4/Football4_175.mp4 to datasets/football4/videos/Football4_175.mp4\n",
      "download: s3://rodzanto2020ml/sports/football4/Football4_173.mp4 to datasets/football4/videos/Football4_173.mp4\n",
      "download: s3://rodzanto2020ml/sports/football4/Football4_180.mp4 to datasets/football4/videos/Football4_180.mp4\n",
      "download: s3://rodzanto2020ml/sports/football4/Football4_134.mp4 to datasets/football4/videos/Football4_134.mp4\n",
      "download: s3://rodzanto2020ml/sports/football4/Football4_185.mp4 to datasets/football4/videos/Football4_185.mp4\n",
      "download: s3://rodzanto2020ml/sports/football4/Football4_176.mp4 to datasets/football4/videos/Football4_176.mp4\n",
      "download: s3://rodzanto2020ml/sports/football4/Football4_184.mp4 to datasets/football4/videos/Football4_184.mp4\n",
      "download: s3://rodzanto2020ml/sports/football4/Football4_182.mp4 to datasets/football4/videos/Football4_182.mp4\n",
      "download: s3://rodzanto2020ml/sports/football4/Football4_183.mp4 to datasets/football4/videos/Football4_183.mp4\n",
      "download: s3://rodzanto2020ml/sports/football4/Football4_137.mp4 to datasets/football4/videos/Football4_137.mp4\n",
      "download: s3://rodzanto2020ml/sports/football4/Football4_189.mp4 to datasets/football4/videos/Football4_189.mp4\n",
      "download: s3://rodzanto2020ml/sports/football4/Football4_190.mp4 to datasets/football4/videos/Football4_190.mp4\n",
      "download: s3://rodzanto2020ml/sports/football4/Football4_186.mp4 to datasets/football4/videos/Football4_186.mp4\n",
      "download: s3://rodzanto2020ml/sports/football4/Football4_139.mp4 to datasets/football4/videos/Football4_139.mp4\n",
      "download: s3://rodzanto2020ml/sports/football4/Football4_187.mp4 to datasets/football4/videos/Football4_187.mp4\n",
      "download: s3://rodzanto2020ml/sports/football4/Football4_141.mp4 to datasets/football4/videos/Football4_141.mp4\n",
      "download: s3://rodzanto2020ml/sports/football4/Football4_193.mp4 to datasets/football4/videos/Football4_193.mp4\n",
      "download: s3://rodzanto2020ml/sports/football4/Football4_192.mp4 to datasets/football4/videos/Football4_192.mp4\n",
      "download: s3://rodzanto2020ml/sports/football4/Football4_194.mp4 to datasets/football4/videos/Football4_194.mp4\n",
      "download: s3://rodzanto2020ml/sports/football4/Football4_195.mp4 to datasets/football4/videos/Football4_195.mp4\n",
      "download: s3://rodzanto2020ml/sports/football4/Football4_136.mp4 to datasets/football4/videos/Football4_136.mp4\n",
      "download: s3://rodzanto2020ml/sports/football4/Football4_199.mp4 to datasets/football4/videos/Football4_199.mp4\n",
      "download: s3://rodzanto2020ml/sports/football4/Football4_191.mp4 to datasets/football4/videos/Football4_191.mp4\n",
      "download: s3://rodzanto2020ml/sports/football4/Football4_146.mp4 to datasets/football4/videos/Football4_146.mp4\n",
      "download: s3://rodzanto2020ml/sports/football4/Football4_198.mp4 to datasets/football4/videos/Football4_198.mp4\n",
      "download: s3://rodzanto2020ml/sports/football4/Football4_202.mp4 to datasets/football4/videos/Football4_202.mp4\n",
      "download: s3://rodzanto2020ml/sports/football4/Football4_200.mp4 to datasets/football4/videos/Football4_200.mp4\n",
      "download: s3://rodzanto2020ml/sports/football4/Football4_205.mp4 to datasets/football4/videos/Football4_205.mp4\n",
      "download: s3://rodzanto2020ml/sports/football4/Football4_147.mp4 to datasets/football4/videos/Football4_147.mp4\n",
      "download: s3://rodzanto2020ml/sports/football4/Football4_196.mp4 to datasets/football4/videos/Football4_196.mp4\n",
      "download: s3://rodzanto2020ml/sports/football4/Football4_204.mp4 to datasets/football4/videos/Football4_204.mp4\n",
      "download: s3://rodzanto2020ml/sports/football4/Football4_203.mp4 to datasets/football4/videos/Football4_203.mp4\n",
      "download: s3://rodzanto2020ml/sports/football4/Football4_201.mp4 to datasets/football4/videos/Football4_201.mp4\n",
      "download: s3://rodzanto2020ml/sports/football4/Football4_145.mp4 to datasets/football4/videos/Football4_145.mp4\n",
      "download: s3://rodzanto2020ml/sports/football4/Football4_207.mp4 to datasets/football4/videos/Football4_207.mp4\n",
      "download: s3://rodzanto2020ml/sports/football4/Football4_213.mp4 to datasets/football4/videos/Football4_213.mp4\n",
      "download: s3://rodzanto2020ml/sports/football4/Football4_210.mp4 to datasets/football4/videos/Football4_210.mp4\n",
      "download: s3://rodzanto2020ml/sports/football4/Football4_212.mp4 to datasets/football4/videos/Football4_212.mp4\n",
      "download: s3://rodzanto2020ml/sports/football4/Football4_144.mp4 to datasets/football4/videos/Football4_144.mp4\n",
      "download: s3://rodzanto2020ml/sports/football4/Football4_211.mp4 to datasets/football4/videos/Football4_211.mp4\n",
      "download: s3://rodzanto2020ml/sports/football4/Football4_214.mp4 to datasets/football4/videos/Football4_214.mp4\n",
      "download: s3://rodzanto2020ml/sports/football4/Football4_217.mp4 to datasets/football4/videos/Football4_217.mp4\n",
      "download: s3://rodzanto2020ml/sports/football4/Football4_219.mp4 to datasets/football4/videos/Football4_219.mp4\n",
      "download: s3://rodzanto2020ml/sports/football4/Football4_216.mp4 to datasets/football4/videos/Football4_216.mp4\n",
      "download: s3://rodzanto2020ml/sports/football4/Football4_215.mp4 to datasets/football4/videos/Football4_215.mp4\n",
      "download: s3://rodzanto2020ml/sports/football4/Football4_150.mp4 to datasets/football4/videos/Football4_150.mp4\n",
      "download: s3://rodzanto2020ml/sports/football4/Football4_225.mp4 to datasets/football4/videos/Football4_225.mp4\n",
      "download: s3://rodzanto2020ml/sports/football4/Football4_222.mp4 to datasets/football4/videos/Football4_222.mp4\n",
      "download: s3://rodzanto2020ml/sports/football4/Football4_148.mp4 to datasets/football4/videos/Football4_148.mp4\n",
      "download: s3://rodzanto2020ml/sports/football4/Football4_155.mp4 to datasets/football4/videos/Football4_155.mp4\n",
      "download: s3://rodzanto2020ml/sports/football4/Football4_228.mp4 to datasets/football4/videos/Football4_228.mp4\n",
      "download: s3://rodzanto2020ml/sports/football4/Football4_224.mp4 to datasets/football4/videos/Football4_224.mp4\n",
      "download: s3://rodzanto2020ml/sports/football4/Football4_231.mp4 to datasets/football4/videos/Football4_231.mp4\n",
      "download: s3://rodzanto2020ml/sports/football4/Football4_232.mp4 to datasets/football4/videos/Football4_232.mp4\n",
      "download: s3://rodzanto2020ml/sports/football4/Football4_230.mp4 to datasets/football4/videos/Football4_230.mp4\n",
      "download: s3://rodzanto2020ml/sports/football4/Football4_226.mp4 to datasets/football4/videos/Football4_226.mp4\n",
      "download: s3://rodzanto2020ml/sports/football4/Football4_229.mp4 to datasets/football4/videos/Football4_229.mp4\n",
      "download: s3://rodzanto2020ml/sports/football4/Football4_149.mp4 to datasets/football4/videos/Football4_149.mp4\n",
      "download: s3://rodzanto2020ml/sports/football4/Football4_151.mp4 to datasets/football4/videos/Football4_151.mp4\n",
      "download: s3://rodzanto2020ml/sports/football4/Football4_234.mp4 to datasets/football4/videos/Football4_234.mp4\n",
      "download: s3://rodzanto2020ml/sports/football4/Football4_233.mp4 to datasets/football4/videos/Football4_233.mp4\n",
      "download: s3://rodzanto2020ml/sports/football4/Football4_236.mp4 to datasets/football4/videos/Football4_236.mp4\n",
      "download: s3://rodzanto2020ml/sports/football4/Football4_238.mp4 to datasets/football4/videos/Football4_238.mp4\n",
      "download: s3://rodzanto2020ml/sports/football4/Football4_241.mp4 to datasets/football4/videos/Football4_241.mp4\n",
      "download: s3://rodzanto2020ml/sports/football4/Football4_240.mp4 to datasets/football4/videos/Football4_240.mp4\n",
      "download: s3://rodzanto2020ml/sports/football4/Football4_152.mp4 to datasets/football4/videos/Football4_152.mp4\n",
      "download: s3://rodzanto2020ml/sports/football4/Football4_235.mp4 to datasets/football4/videos/Football4_235.mp4\n",
      "download: s3://rodzanto2020ml/sports/football4/Football4_239.mp4 to datasets/football4/videos/Football4_239.mp4\n",
      "download: s3://rodzanto2020ml/sports/football4/Football4_244.mp4 to datasets/football4/videos/Football4_244.mp4\n",
      "download: s3://rodzanto2020ml/sports/football4/Football4_246.mp4 to datasets/football4/videos/Football4_246.mp4\n",
      "download: s3://rodzanto2020ml/sports/football4/Football4_156.mp4 to datasets/football4/videos/Football4_156.mp4\n",
      "download: s3://rodzanto2020ml/sports/football4/Football4_158.mp4 to datasets/football4/videos/Football4_158.mp4\n",
      "download: s3://rodzanto2020ml/sports/football4/Football4_243.mp4 to datasets/football4/videos/Football4_243.mp4\n",
      "download: s3://rodzanto2020ml/sports/football4/Football4_159.mp4 to datasets/football4/videos/Football4_159.mp4\n",
      "download: s3://rodzanto2020ml/sports/football4/Football4_245.mp4 to datasets/football4/videos/Football4_245.mp4\n",
      "download: s3://rodzanto2020ml/sports/football4/Football4_250.mp4 to datasets/football4/videos/Football4_250.mp4\n",
      "download: s3://rodzanto2020ml/sports/football4/Football4_248.mp4 to datasets/football4/videos/Football4_248.mp4\n",
      "download: s3://rodzanto2020ml/sports/football4/Football4_242.mp4 to datasets/football4/videos/Football4_242.mp4\n",
      "download: s3://rodzanto2020ml/sports/football4/Football4_253.mp4 to datasets/football4/videos/Football4_253.mp4\n",
      "download: s3://rodzanto2020ml/sports/football4/Football4_251.mp4 to datasets/football4/videos/Football4_251.mp4\n",
      "download: s3://rodzanto2020ml/sports/football4/Football4_255.mp4 to datasets/football4/videos/Football4_255.mp4\n",
      "download: s3://rodzanto2020ml/sports/football4/Football4_249.mp4 to datasets/football4/videos/Football4_249.mp4\n",
      "download: s3://rodzanto2020ml/sports/football4/Football4_157.mp4 to datasets/football4/videos/Football4_157.mp4\n",
      "download: s3://rodzanto2020ml/sports/football4/Football4_252.mp4 to datasets/football4/videos/Football4_252.mp4\n",
      "download: s3://rodzanto2020ml/sports/football4/Football4_160.mp4 to datasets/football4/videos/Football4_160.mp4\n",
      "download: s3://rodzanto2020ml/sports/football4/Football4_260.mp4 to datasets/football4/videos/Football4_260.mp4\n",
      "download: s3://rodzanto2020ml/sports/football4/Football4_258.mp4 to datasets/football4/videos/Football4_258.mp4\n",
      "download: s3://rodzanto2020ml/sports/football4/Football4_161.mp4 to datasets/football4/videos/Football4_161.mp4\n",
      "download: s3://rodzanto2020ml/sports/football4/Football4_162.mp4 to datasets/football4/videos/Football4_162.mp4\n",
      "download: s3://rodzanto2020ml/sports/football4/Football4_259.mp4 to datasets/football4/videos/Football4_259.mp4\n",
      "download: s3://rodzanto2020ml/sports/football4/Football4_257.mp4 to datasets/football4/videos/Football4_257.mp4\n",
      "download: s3://rodzanto2020ml/sports/football4/Football4_261.mp4 to datasets/football4/videos/Football4_261.mp4\n",
      "download: s3://rodzanto2020ml/sports/football4/Football4_262.mp4 to datasets/football4/videos/Football4_262.mp4\n",
      "download: s3://rodzanto2020ml/sports/football4/Football4_265.mp4 to datasets/football4/videos/Football4_265.mp4\n",
      "download: s3://rodzanto2020ml/sports/football4/Football4_163.mp4 to datasets/football4/videos/Football4_163.mp4\n",
      "download: s3://rodzanto2020ml/sports/football4/Football4_272.mp4 to datasets/football4/videos/Football4_272.mp4\n",
      "download: s3://rodzanto2020ml/sports/football4/Football4_165.mp4 to datasets/football4/videos/Football4_165.mp4\n",
      "download: s3://rodzanto2020ml/sports/football4/Football4_271.mp4 to datasets/football4/videos/Football4_271.mp4\n",
      "download: s3://rodzanto2020ml/sports/football4/Football4_277.mp4 to datasets/football4/videos/Football4_277.mp4\n",
      "download: s3://rodzanto2020ml/sports/football4/Football4_168.mp4 to datasets/football4/videos/Football4_168.mp4\n",
      "download: s3://rodzanto2020ml/sports/football4/Football4_278.mp4 to datasets/football4/videos/Football4_278.mp4\n",
      "download: s3://rodzanto2020ml/sports/football4/Football4_164.mp4 to datasets/football4/videos/Football4_164.mp4\n",
      "download: s3://rodzanto2020ml/sports/football4/Football4_166.mp4 to datasets/football4/videos/Football4_166.mp4\n",
      "download: s3://rodzanto2020ml/sports/football4/Football4_177.mp4 to datasets/football4/videos/Football4_177.mp4\n",
      "download: s3://rodzanto2020ml/sports/football4/Football4_286.mp4 to datasets/football4/videos/Football4_286.mp4\n",
      "download: s3://rodzanto2020ml/sports/football4/Football4_170.mp4 to datasets/football4/videos/Football4_170.mp4\n",
      "download: s3://rodzanto2020ml/sports/football4/Football4_174.mp4 to datasets/football4/videos/Football4_174.mp4\n",
      "download: s3://rodzanto2020ml/sports/football4/Football4_179.mp4 to datasets/football4/videos/Football4_179.mp4\n",
      "download: s3://rodzanto2020ml/sports/football4/Football4_178.mp4 to datasets/football4/videos/Football4_178.mp4\n",
      "download: s3://rodzanto2020ml/sports/football4/Football4_181.mp4 to datasets/football4/videos/Football4_181.mp4\n",
      "download: s3://rodzanto2020ml/sports/football4/Football4_188.mp4 to datasets/football4/videos/Football4_188.mp4\n",
      "download: s3://rodzanto2020ml/sports/football4/Football4_284.mp4 to datasets/football4/videos/Football4_284.mp4\n",
      "download: s3://rodzanto2020ml/sports/football4/Football4_197.mp4 to datasets/football4/videos/Football4_197.mp4\n",
      "download: s3://rodzanto2020ml/sports/football4/Football4_206.mp4 to datasets/football4/videos/Football4_206.mp4\n",
      "download: s3://rodzanto2020ml/sports/football4/Football4_209.mp4 to datasets/football4/videos/Football4_209.mp4\n",
      "download: s3://rodzanto2020ml/sports/football4/Football4_292.mp4 to datasets/football4/videos/Football4_292.mp4\n",
      "download: s3://rodzanto2020ml/sports/football4/Football4_208.mp4 to datasets/football4/videos/Football4_208.mp4\n",
      "download: s3://rodzanto2020ml/sports/football4/Football4_220.mp4 to datasets/football4/videos/Football4_220.mp4\n",
      "download: s3://rodzanto2020ml/sports/football4/Football4_218.mp4 to datasets/football4/videos/Football4_218.mp4\n",
      "download: s3://rodzanto2020ml/sports/football4/Football4_221.mp4 to datasets/football4/videos/Football4_221.mp4\n",
      "download: s3://rodzanto2020ml/sports/football4/Football4_223.mp4 to datasets/football4/videos/Football4_223.mp4\n",
      "download: s3://rodzanto2020ml/sports/football4/Football4_227.mp4 to datasets/football4/videos/Football4_227.mp4\n",
      "download: s3://rodzanto2020ml/sports/football4/Football4_237.mp4 to datasets/football4/videos/Football4_237.mp4\n",
      "download: s3://rodzanto2020ml/sports/football4/Football4_247.mp4 to datasets/football4/videos/Football4_247.mp4\n",
      "download: s3://rodzanto2020ml/sports/football4/Football4_254.mp4 to datasets/football4/videos/Football4_254.mp4\n",
      "download: s3://rodzanto2020ml/sports/football4/Football4_301.mp4 to datasets/football4/videos/Football4_301.mp4\n",
      "download: s3://rodzanto2020ml/sports/football4/Football4_256.mp4 to datasets/football4/videos/Football4_256.mp4\n",
      "download: s3://rodzanto2020ml/sports/football4/Football4_264.mp4 to datasets/football4/videos/Football4_264.mp4\n",
      "download: s3://rodzanto2020ml/sports/football4/Football4_307.mp4 to datasets/football4/videos/Football4_307.mp4\n",
      "download: s3://rodzanto2020ml/sports/football4/Football4_263.mp4 to datasets/football4/videos/Football4_263.mp4\n",
      "download: s3://rodzanto2020ml/sports/football4/Football4_266.mp4 to datasets/football4/videos/Football4_266.mp4\n",
      "download: s3://rodzanto2020ml/sports/football4/Football4_304.mp4 to datasets/football4/videos/Football4_304.mp4\n",
      "download: s3://rodzanto2020ml/sports/football4/Football4_269.mp4 to datasets/football4/videos/Football4_269.mp4\n",
      "download: s3://rodzanto2020ml/sports/football4/Football4_270.mp4 to datasets/football4/videos/Football4_270.mp4\n",
      "download: s3://rodzanto2020ml/sports/football4/Football4_312.mp4 to datasets/football4/videos/Football4_312.mp4\n",
      "download: s3://rodzanto2020ml/sports/football4/Football4_267.mp4 to datasets/football4/videos/Football4_267.mp4\n",
      "download: s3://rodzanto2020ml/sports/football4/Football4_313.mp4 to datasets/football4/videos/Football4_313.mp4\n",
      "download: s3://rodzanto2020ml/sports/football4/Football4_268.mp4 to datasets/football4/videos/Football4_268.mp4\n",
      "download: s3://rodzanto2020ml/sports/football4/Football4_314.mp4 to datasets/football4/videos/Football4_314.mp4\n",
      "download: s3://rodzanto2020ml/sports/football4/Football4_317.mp4 to datasets/football4/videos/Football4_317.mp4\n",
      "download: s3://rodzanto2020ml/sports/football4/Football4_274.mp4 to datasets/football4/videos/Football4_274.mp4\n",
      "download: s3://rodzanto2020ml/sports/football4/Football4_280.mp4 to datasets/football4/videos/Football4_280.mp4\n",
      "download: s3://rodzanto2020ml/sports/football4/Football4_325.mp4 to datasets/football4/videos/Football4_325.mp4\n",
      "download: s3://rodzanto2020ml/sports/football4/Football4_275.mp4 to datasets/football4/videos/Football4_275.mp4\n",
      "download: s3://rodzanto2020ml/sports/football4/Football4_323.mp4 to datasets/football4/videos/Football4_323.mp4\n",
      "download: s3://rodzanto2020ml/sports/football4/Football4_276.mp4 to datasets/football4/videos/Football4_276.mp4\n",
      "download: s3://rodzanto2020ml/sports/football4/Football4_279.mp4 to datasets/football4/videos/Football4_279.mp4\n",
      "download: s3://rodzanto2020ml/sports/football4/Football4_273.mp4 to datasets/football4/videos/Football4_273.mp4\n",
      "download: s3://rodzanto2020ml/sports/football4/Football4_281.mp4 to datasets/football4/videos/Football4_281.mp4\n",
      "download: s3://rodzanto2020ml/sports/football4/Football4_282.mp4 to datasets/football4/videos/Football4_282.mp4\n",
      "download: s3://rodzanto2020ml/sports/football4/Football4_283.mp4 to datasets/football4/videos/Football4_283.mp4\n",
      "download: s3://rodzanto2020ml/sports/football4/Football4_287.mp4 to datasets/football4/videos/Football4_287.mp4\n",
      "download: s3://rodzanto2020ml/sports/football4/Football4_334.mp4 to datasets/football4/videos/Football4_334.mp4\n",
      "download: s3://rodzanto2020ml/sports/football4/Football4_335.mp4 to datasets/football4/videos/Football4_335.mp4\n",
      "download: s3://rodzanto2020ml/sports/football4/Football4_336.mp4 to datasets/football4/videos/Football4_336.mp4\n",
      "download: s3://rodzanto2020ml/sports/football4/Football4_333.mp4 to datasets/football4/videos/Football4_333.mp4\n",
      "download: s3://rodzanto2020ml/sports/football4/Football4_288.mp4 to datasets/football4/videos/Football4_288.mp4\n",
      "download: s3://rodzanto2020ml/sports/football4/Football4_332.mp4 to datasets/football4/videos/Football4_332.mp4\n",
      "download: s3://rodzanto2020ml/sports/football4/Football4_339.mp4 to datasets/football4/videos/Football4_339.mp4\n",
      "download: s3://rodzanto2020ml/sports/football4/Football4_338.mp4 to datasets/football4/videos/Football4_338.mp4\n",
      "download: s3://rodzanto2020ml/sports/football4/Football4_337.mp4 to datasets/football4/videos/Football4_337.mp4\n",
      "download: s3://rodzanto2020ml/sports/football4/Football4_341.mp4 to datasets/football4/videos/Football4_341.mp4\n",
      "download: s3://rodzanto2020ml/sports/football4/Football4_290.mp4 to datasets/football4/videos/Football4_290.mp4\n",
      "download: s3://rodzanto2020ml/sports/football4/Football4_340.mp4 to datasets/football4/videos/Football4_340.mp4\n",
      "download: s3://rodzanto2020ml/sports/football4/Football4_347.mp4 to datasets/football4/videos/Football4_347.mp4\n",
      "download: s3://rodzanto2020ml/sports/football4/Football4_345.mp4 to datasets/football4/videos/Football4_345.mp4\n",
      "download: s3://rodzanto2020ml/sports/football4/Football4_343.mp4 to datasets/football4/videos/Football4_343.mp4\n",
      "download: s3://rodzanto2020ml/sports/football4/Football4_285.mp4 to datasets/football4/videos/Football4_285.mp4\n",
      "download: s3://rodzanto2020ml/sports/football4/Football4_342.mp4 to datasets/football4/videos/Football4_342.mp4\n",
      "download: s3://rodzanto2020ml/sports/football4/Football4_349.mp4 to datasets/football4/videos/Football4_349.mp4\n",
      "download: s3://rodzanto2020ml/sports/football4/Football4_348.mp4 to datasets/football4/videos/Football4_348.mp4\n",
      "download: s3://rodzanto2020ml/sports/football4/Football4_291.mp4 to datasets/football4/videos/Football4_291.mp4\n",
      "download: s3://rodzanto2020ml/sports/football4/Football4_344.mp4 to datasets/football4/videos/Football4_344.mp4\n",
      "download: s3://rodzanto2020ml/sports/football4/Football4_350.mp4 to datasets/football4/videos/Football4_350.mp4\n",
      "download: s3://rodzanto2020ml/sports/football4/Football4_346.mp4 to datasets/football4/videos/Football4_346.mp4\n",
      "download: s3://rodzanto2020ml/sports/football4/Football4_352.mp4 to datasets/football4/videos/Football4_352.mp4\n",
      "download: s3://rodzanto2020ml/sports/football4/Football4_357.mp4 to datasets/football4/videos/Football4_357.mp4\n",
      "download: s3://rodzanto2020ml/sports/football4/Football4_351.mp4 to datasets/football4/videos/Football4_351.mp4\n",
      "download: s3://rodzanto2020ml/sports/football4/Football4_356.mp4 to datasets/football4/videos/Football4_356.mp4\n",
      "download: s3://rodzanto2020ml/sports/football4/Football4_354.mp4 to datasets/football4/videos/Football4_354.mp4\n",
      "download: s3://rodzanto2020ml/sports/football4/Football4_353.mp4 to datasets/football4/videos/Football4_353.mp4\n",
      "download: s3://rodzanto2020ml/sports/football4/Football4_355.mp4 to datasets/football4/videos/Football4_355.mp4\n",
      "download: s3://rodzanto2020ml/sports/football4/Football4_289.mp4 to datasets/football4/videos/Football4_289.mp4\n",
      "download: s3://rodzanto2020ml/sports/football4/Football4_294.mp4 to datasets/football4/videos/Football4_294.mp4\n",
      "download: s3://rodzanto2020ml/sports/football4/Football4_293.mp4 to datasets/football4/videos/Football4_293.mp4\n",
      "download: s3://rodzanto2020ml/sports/football4/Football4_297.mp4 to datasets/football4/videos/Football4_297.mp4\n",
      "download: s3://rodzanto2020ml/sports/football4/Football4_296.mp4 to datasets/football4/videos/Football4_296.mp4\n",
      "download: s3://rodzanto2020ml/sports/football4/Football4_300.mp4 to datasets/football4/videos/Football4_300.mp4\n",
      "download: s3://rodzanto2020ml/sports/football4/Football4_302.mp4 to datasets/football4/videos/Football4_302.mp4\n",
      "download: s3://rodzanto2020ml/sports/football4/Football4_295.mp4 to datasets/football4/videos/Football4_295.mp4\n",
      "download: s3://rodzanto2020ml/sports/football4/Football4_298.mp4 to datasets/football4/videos/Football4_298.mp4\n",
      "download: s3://rodzanto2020ml/sports/football4/Football4_299.mp4 to datasets/football4/videos/Football4_299.mp4\n",
      "download: s3://rodzanto2020ml/sports/football4/Football4_305.mp4 to datasets/football4/videos/Football4_305.mp4\n",
      "download: s3://rodzanto2020ml/sports/football4/Football4_306.mp4 to datasets/football4/videos/Football4_306.mp4\n",
      "download: s3://rodzanto2020ml/sports/football4/Football4_303.mp4 to datasets/football4/videos/Football4_303.mp4\n",
      "download: s3://rodzanto2020ml/sports/football4/Football4_310.mp4 to datasets/football4/videos/Football4_310.mp4\n",
      "download: s3://rodzanto2020ml/sports/football4/Football4_309.mp4 to datasets/football4/videos/Football4_309.mp4\n",
      "download: s3://rodzanto2020ml/sports/football4/Football4_308.mp4 to datasets/football4/videos/Football4_308.mp4\n",
      "download: s3://rodzanto2020ml/sports/football4/Football4_311.mp4 to datasets/football4/videos/Football4_311.mp4\n",
      "download: s3://rodzanto2020ml/sports/football4/Football4_316.mp4 to datasets/football4/videos/Football4_316.mp4\n",
      "download: s3://rodzanto2020ml/sports/football4/Football4_315.mp4 to datasets/football4/videos/Football4_315.mp4\n",
      "download: s3://rodzanto2020ml/sports/football4/Football4_321.mp4 to datasets/football4/videos/Football4_321.mp4\n",
      "download: s3://rodzanto2020ml/sports/football4/Football4_319.mp4 to datasets/football4/videos/Football4_319.mp4\n",
      "download: s3://rodzanto2020ml/sports/football4/Football4_322.mp4 to datasets/football4/videos/Football4_322.mp4\n",
      "download: s3://rodzanto2020ml/sports/football4/Football4_320.mp4 to datasets/football4/videos/Football4_320.mp4\n",
      "download: s3://rodzanto2020ml/sports/football4/Football4_318.mp4 to datasets/football4/videos/Football4_318.mp4\n",
      "download: s3://rodzanto2020ml/sports/football4/Football4_324.mp4 to datasets/football4/videos/Football4_324.mp4\n",
      "download: s3://rodzanto2020ml/sports/football4/Football4_326.mp4 to datasets/football4/videos/Football4_326.mp4\n",
      "download: s3://rodzanto2020ml/sports/football4/Football4_328.mp4 to datasets/football4/videos/Football4_328.mp4\n",
      "download: s3://rodzanto2020ml/sports/football4/Football4_327.mp4 to datasets/football4/videos/Football4_327.mp4\n",
      "download: s3://rodzanto2020ml/sports/football4/Football4_329.mp4 to datasets/football4/videos/Football4_329.mp4\n",
      "download: s3://rodzanto2020ml/sports/football4/Football4_331.mp4 to datasets/football4/videos/Football4_331.mp4\n",
      "download: s3://rodzanto2020ml/sports/football4/Football4_330.mp4 to datasets/football4/videos/Football4_330.mp4\n"
     ]
    }
   ],
   "source": [
    "!aws s3 cp s3://$bucket/$videos_prefix/ datasets/$task/videos/ --recursive --exclude \"*\" --include \"*.mp4\""
   ]
  },
  {
   "cell_type": "markdown",
   "metadata": {},
   "source": [
    "We now move the videos to specific folders for the categories these were classified as during the labeling."
   ]
  },
  {
   "cell_type": "code",
   "execution_count": 81,
   "metadata": {},
   "outputs": [],
   "source": [
    "def substring_after(s, delim):\n",
    "    return s.partition(delim)[2]\n",
    "\n",
    "for i, j in enumerate(image_info):\n",
    "    os.rename('datasets/{}/videos/{}'.format(task, substring_after(image_info[i]['source-ref'], '{}/'.format(task))),\n",
    "              'datasets/{}/videos/{}/{}'.format(task, image_info[i]['{}-metadata'.format(task)]['class-name'], substring_after(image_info[i]['source-ref'], '{}/'.format(task))))"
   ]
  },
  {
   "cell_type": "markdown",
   "metadata": {},
   "source": [
    "and create the annotation files required, note we are splitting our labeled videos on 80% for training and 20% for testing."
   ]
  },
  {
   "cell_type": "code",
   "execution_count": 29,
   "metadata": {},
   "outputs": [],
   "source": [
    "for i, j in enumerate(classes):\n",
    "    f_train = open('datasets/{}/annotations/{}_train_split1.txt'.format(task,j), 'w')\n",
    "    f_test = open('datasets/{}/annotations/{}_test_split1.txt'.format(task,j), 'w')\n",
    "    for k, file in enumerate(os.listdir('datasets/{}/videos/{}'.format(task, j))):\n",
    "        if k <= (len(os.listdir('datasets/{}/videos/{}'.format(task, j)))*0.8):\n",
    "            f_train.write('{} 1 \\n'.format(file))\n",
    "        else:\n",
    "            f_test.write('{} 1 \\n'.format(file))\n",
    "    f_train.close()\n",
    "    f_test.close()\n"
   ]
  },
  {
   "cell_type": "markdown",
   "metadata": {},
   "source": [
    "We can now run our pre-processing script on the videos, this will automatically generate the frames required for our activity detection model."
   ]
  },
  {
   "cell_type": "code",
   "execution_count": 31,
   "metadata": {
    "scrolled": true
   },
   "outputs": [
    {
     "name": "stdout",
     "output_type": "stream",
     "text": [
      "Generating training files.\n",
      "parse frames under folder datasets/football4/rawframes\n",
      "0 videos parsed\n",
      "200 videos parsed\n",
      "frame folder analysis done\n",
      "Classes: ['highlight', 'not_highlight']\n",
      "[([('highlight/Football4_236', 0), ('highlight/Football4_173', 0), ('highlight/Football4_218', 0), ('highlight/Football4_209', 0), ('highlight/Football4_281', 0), ('highlight/Football4_182', 0), ('highlight/Football4_159', 0), ('highlight/Football4_276', 0), ('highlight/Football4_096', 0), ('highlight/Football4_258', 0), ('highlight/Football4_160', 0), ('highlight/Football4_124', 0), ('highlight/Football4_151', 0), ('highlight/Football4_076', 0), ('highlight/Football4_319', 0), ('highlight/Football4_292', 0), ('highlight/Football4_085', 0), ('highlight/Football4_328', 0), ('highlight/Football4_229', 0), ('highlight/Football4_067', 0), ('highlight/Football4_320', 0), ('highlight/Football4_311', 0), ('highlight/Football4_027', 0), ('highlight/Football4_063', 0), ('highlight/Football4_171', 0), ('highlight/Football4_216', 0), ('highlight/Football4_270', 0), ('highlight/Football4_036', 0), ('highlight/Football4_117', 0), ('highlight/Football4_075', 0), ('highlight/Football4_237', 0), ('highlight/Football4_219', 0), ('highlight/Football4_093', 0), ('highlight/Football4_327', 0), ('highlight/Football4_228', 0), ('highlight/Football4_220', 0), ('highlight/Football4_031', 0), ('highlight/Football4_206', 0), ('highlight/Football4_161', 0), ('highlight/Football4_062', 0), ('highlight/Football4_260', 0), ('highlight/Football4_314', 0), ('highlight/Football4_275', 0), ('highlight/Football4_239', 0), ('highlight/Football4_257', 0), ('highlight/Football4_095', 0), ('highlight/Football4_086', 0), ('highlight/Football4_068', 0), ('highlight/Football4_123', 0), ('not_highlight/Football4_155', 1), ('not_highlight/Football4_317', 1), ('not_highlight/Football4_074', 1), ('not_highlight/Football4_119', 1), ('not_highlight/Football4_038', 1), ('not_highlight/Football4_191', 1), ('not_highlight/Football4_353', 1), ('not_highlight/Football4_272', 1), ('not_highlight/Football4_335', 1), ('not_highlight/Football4_254', 1), ('not_highlight/Football4_092', 1), ('not_highlight/Football4_137', 1), ('not_highlight/Football4_056', 1), ('not_highlight/Football4_290', 1), ('not_highlight/Football4_164', 1), ('not_highlight/Football4_326', 1), ('not_highlight/Football4_245', 1), ('not_highlight/Football4_083', 1), ('not_highlight/Football4_128', 1), ('not_highlight/Football4_047', 1), ('not_highlight/Football4_029', 1), ('not_highlight/Football4_344', 1), ('not_highlight/Football4_263', 1), ('not_highlight/Football4_146', 1), ('not_highlight/Football4_308', 1), ('not_highlight/Football4_227', 1), ('not_highlight/Football4_065', 1), ('not_highlight/Football4_003', 1), ('not_highlight/Football4_120', 1), ('not_highlight/Football4_201', 1), ('not_highlight/Football4_199', 1), ('not_highlight/Football4_102', 1), ('not_highlight/Football4_021', 1), ('not_highlight/Football4_300', 1), ('not_highlight/Football4_298', 1), ('not_highlight/Football4_012', 1), ('not_highlight/Football4_210', 1), ('not_highlight/Football4_289', 1), ('not_highlight/Football4_111', 1), ('not_highlight/Football4_030', 1), ('not_highlight/Football4_078', 1), ('not_highlight/Football4_195', 1), ('not_highlight/Football4_357', 1), ('not_highlight/Football4_177', 1), ('not_highlight/Football4_339', 1), ('not_highlight/Football4_294', 1), ('not_highlight/Football4_087', 1), ('not_highlight/Football4_249', 1), ('not_highlight/Football4_168', 1), ('not_highlight/Football4_285', 1), ('not_highlight/Football4_267', 1), ('not_highlight/Football4_186', 1), ('not_highlight/Football4_348', 1), ('not_highlight/Football4_069', 1), ('not_highlight/Football4_007', 1), ('not_highlight/Football4_241', 1), ('not_highlight/Football4_322', 1), ('not_highlight/Football4_205', 1), ('not_highlight/Football4_043', 1), ('not_highlight/Football4_025', 1), ('not_highlight/Football4_106', 1), ('not_highlight/Football4_340', 1), ('not_highlight/Football4_223', 1), ('not_highlight/Football4_061', 1), ('not_highlight/Football4_304', 1), ('not_highlight/Football4_142', 1), ('not_highlight/Football4_016', 1), ('not_highlight/Football4_250', 1), ('not_highlight/Football4_331', 1), ('not_highlight/Football4_214', 1), ('not_highlight/Football4_052', 1), ('not_highlight/Football4_133', 1), ('not_highlight/Football4_034', 1), ('not_highlight/Football4_115', 1), ('not_highlight/Football4_232', 1), ('not_highlight/Football4_070', 1), ('not_highlight/Football4_313', 1), ('not_highlight/Football4_238', 1), ('not_highlight/Football4_157', 1), ('not_highlight/Football4_274', 1), ('not_highlight/Football4_193', 1), ('not_highlight/Football4_355', 1), ('not_highlight/Football4_094', 1), ('not_highlight/Football4_256', 1), ('not_highlight/Football4_175', 1), ('not_highlight/Football4_337', 1), ('not_highlight/Football4_139', 1), ('not_highlight/Football4_058', 1), ('not_highlight/Football4_247', 1), ('not_highlight/Football4_166', 1), ('not_highlight/Football4_283', 1), ('not_highlight/Football4_049', 1), ('not_highlight/Football4_265', 1), ('not_highlight/Football4_184', 1), ('not_highlight/Football4_346', 1), ('not_highlight/Football4_148', 1), ('not_highlight/Football4_005', 1), ('not_highlight/Football4_122', 1), ('not_highlight/Football4_041', 1), ('not_highlight/Football4_203', 1), ('not_highlight/Football4_104', 1), ('not_highlight/Football4_023', 1), ('not_highlight/Football4_302', 1), ('not_highlight/Football4_140', 1), ('not_highlight/Football4_221', 1), ('not_highlight/Football4_014', 1), ('not_highlight/Football4_131', 1), ('not_highlight/Football4_050', 1), ('not_highlight/Football4_212', 1), ('not_highlight/Football4_113', 1), ('not_highlight/Football4_032', 1), ('not_highlight/Football4_230', 1), ('not_highlight/Football4_001', 1), ('not_highlight/Football4_197', 1), ('not_highlight/Football4_278', 1), ('not_highlight/Football4_179', 1), ('not_highlight/Football4_098', 1), ('not_highlight/Football4_100', 1), ('not_highlight/Football4_296', 1), ('not_highlight/Football4_089', 1), ('not_highlight/Football4_010', 1), ('not_highlight/Football4_287', 1), ('not_highlight/Football4_188', 1), ('not_highlight/Football4_269', 1), ('not_highlight/Football4_162', 1), ('not_highlight/Football4_324', 1), ('not_highlight/Football4_243', 1), ('not_highlight/Football4_081', 1), ('not_highlight/Football4_009', 1), ('not_highlight/Football4_207', 1), ('not_highlight/Football4_045', 1), ('not_highlight/Football4_126', 1), ('not_highlight/Football4_180', 1), ('not_highlight/Football4_342', 1), ('not_highlight/Football4_261', 1), ('not_highlight/Football4_108', 1), ('not_highlight/Football4_225', 1), ('not_highlight/Football4_306', 1), ('not_highlight/Football4_144', 1), ('not_highlight/Football4_333', 1), ('not_highlight/Football4_252', 1), ('not_highlight/Football4_090', 1), ('not_highlight/Football4_018', 1), ('not_highlight/Football4_054', 1), ('not_highlight/Football4_135', 1), ('not_highlight/Football4_351', 1), ('not_highlight/Football4_234', 1), ('not_highlight/Football4_072', 1), ('not_highlight/Football4_315', 1), ('not_highlight/Football4_153', 1), ('not_highlight/Football4_273', 1), ('not_highlight/Football4_354', 1), ('not_highlight/Football4_192', 1), ('not_highlight/Football4_039', 1), ('not_highlight/Football4_318', 1), ('not_highlight/Football4_156', 1), ('not_highlight/Football4_291', 1), ('not_highlight/Football4_138', 1), ('not_highlight/Football4_057', 1), ('not_highlight/Football4_336', 1), ('not_highlight/Football4_174', 1), ('not_highlight/Football4_255', 1), ('not_highlight/Football4_282', 1), ('not_highlight/Football4_129', 1), ('not_highlight/Football4_048', 1), ('not_highlight/Football4_165', 1), ('not_highlight/Football4_084', 1), ('not_highlight/Football4_246', 1), ('not_highlight/Football4_309', 1), ('not_highlight/Football4_147', 1), ('not_highlight/Football4_066', 1), ('not_highlight/Football4_345', 1), ('not_highlight/Football4_183', 1), ('not_highlight/Football4_264', 1), ('not_highlight/Football4_121', 1), ('not_highlight/Football4_202', 1), ('not_highlight/Football4_040', 1), ('not_highlight/Football4_004', 1), ('not_highlight/Football4_299', 1), ('not_highlight/Football4_301', 1), ('not_highlight/Football4_103', 1), ('not_highlight/Football4_022', 1), ('not_highlight/Football4_130', 1), ('not_highlight/Football4_211', 1), ('not_highlight/Football4_013', 1), ('not_highlight/Football4_310', 1), ('not_highlight/Football4_112', 1), ('not_highlight/Football4_196', 1), ('not_highlight/Football4_277', 1), ('not_highlight/Football4_000', 1), ('not_highlight/Football4_079', 1), ('not_highlight/Football4_295', 1), ('not_highlight/Football4_259', 1), ('not_highlight/Football4_097', 1), ('not_highlight/Football4_178', 1), ('not_highlight/Football4_286', 1), ('not_highlight/Football4_088', 1), ('not_highlight/Football4_169', 1), ('not_highlight/Football4_268', 1), ('not_highlight/Football4_349', 1), ('not_highlight/Football4_187', 1), ('not_highlight/Football4_044', 1), ('not_highlight/Football4_125', 1), ('not_highlight/Football4_008', 1), ('not_highlight/Football4_080', 1), ('not_highlight/Football4_242', 1), ('not_highlight/Football4_323', 1), ('not_highlight/Football4_224', 1), ('not_highlight/Football4_143', 1), ('not_highlight/Football4_305', 1), ('not_highlight/Football4_026', 1), ('not_highlight/Football4_107', 1), ('not_highlight/Football4_341', 1), ('not_highlight/Football4_053', 1), ('not_highlight/Football4_215', 1), ('not_highlight/Football4_134', 1), ('not_highlight/Football4_017', 1), ('not_highlight/Football4_251', 1), ('not_highlight/Football4_170', 1), ('not_highlight/Football4_332', 1), ('not_highlight/Football4_071', 1), ('not_highlight/Football4_233', 1), ('not_highlight/Football4_152', 1), ('not_highlight/Football4_035', 1), ('not_highlight/Football4_116', 1), ('not_highlight/Football4_350', 1), ('not_highlight/Football4_356', 1), ('not_highlight/Football4_194', 1), ('not_highlight/Football4_077', 1), ('not_highlight/Football4_158', 1), ('not_highlight/Football4_059', 1), ('not_highlight/Football4_293', 1), ('not_highlight/Football4_338', 1), ('not_highlight/Football4_176', 1), ('not_highlight/Football4_284', 1), ('not_highlight/Football4_248', 1), ('not_highlight/Football4_329', 1), ('not_highlight/Football4_167', 1), ('not_highlight/Football4_149', 1)], [])]\n",
      "1 1\n"
     ]
    }
   ],
   "source": [
    "!python entry_point_processing/gluoncv_processing_i3d.py --dataset 'football4'"
   ]
  },
  {
   "cell_type": "markdown",
   "metadata": {},
   "source": [
    "Finally, upload the result of the pre-process job to Amazon S3 for having it ready for the model training."
   ]
  },
  {
   "cell_type": "markdown",
   "metadata": {},
   "source": [
    "`- Warning: This command takes several minutes to copy all the data to S3. -`"
   ]
  },
  {
   "cell_type": "code",
   "execution_count": null,
   "metadata": {},
   "outputs": [
    {
     "name": "stdout",
     "output_type": "stream",
     "text": [
      "1612576333.662901\n"
     ]
    }
   ],
   "source": [
    "sagemaker_session.upload_data(bucket=bucket, path='datasets/{}/rawframes/'.format(task), key_prefix='{}/rawframes'.format(train_data))\n",
    "sagemaker_session.upload_data(bucket=bucket, path='datasets/{}/annotations/'.format(task), key_prefix='{}/annotations'.format(train_data))"
   ]
  },
  {
   "cell_type": "markdown",
   "metadata": {},
   "source": [
    "#### Estimator"
   ]
  },
  {
   "cell_type": "markdown",
   "metadata": {},
   "source": [
    "We will use the weights from a pre-trained Inflated 3D Network (I3D) neural network to detect activities in our videos. I3D is a widely adopted 3D video classification network, it uses 3D convolution to learn spatiotemporal information directly from videos. I3D is proposed to improve C3D (Convolutional 3D Networks) by inflating from 2D models. We can not only reuse the 2D models’ architecture (e.g., ResNet, Inception), but also bootstrap the model weights from 2D pretrained models. In this manner, training 3D networks for video classification is feasible and getting much better results.\n",
    "\n",
    "In this example, we use Inflated 3D model (I3D) with ResNet50 backbone pre-trained on the Kinetics400 dataset.\n",
    "\n",
    "The model will be taken from the MXNet GluonCV model-zoo: https://cv.gluon.ai/api/model_zoo.html#i3d\n",
    "\n",
    "We will create an estimator with the Amazon SageMaker Python SDK, pointing to our training script located at: `entry_point_training/gluoncv_detection_i3d.py`."
   ]
  },
  {
   "cell_type": "code",
   "execution_count": 34,
   "metadata": {
    "scrolled": true
   },
   "outputs": [
    {
     "name": "stdout",
     "output_type": "stream",
     "text": [
      "\u001b[37m# Copyright Amazon.com, Inc. or its affiliates. All Rights Reserved.\u001b[39;49;00m\n",
      "\u001b[37m# SPDX-License-Identifier: MIT-0\u001b[39;49;00m\n",
      "\n",
      "\u001b[34mfrom\u001b[39;49;00m \u001b[04m\u001b[36m__future__\u001b[39;49;00m \u001b[34mimport\u001b[39;49;00m print_function\n",
      "\n",
      "\u001b[34mimport\u001b[39;49;00m \u001b[04m\u001b[36margparse\u001b[39;49;00m\n",
      "\u001b[34mimport\u001b[39;49;00m \u001b[04m\u001b[36mlogging\u001b[39;49;00m\n",
      "\u001b[34mimport\u001b[39;49;00m \u001b[04m\u001b[36mos\u001b[39;49;00m\n",
      "\u001b[34mimport\u001b[39;49;00m \u001b[04m\u001b[36mnumpy\u001b[39;49;00m \u001b[34mas\u001b[39;49;00m \u001b[04m\u001b[36mnp\u001b[39;49;00m\n",
      "\u001b[34mimport\u001b[39;49;00m \u001b[04m\u001b[36mjson\u001b[39;49;00m\n",
      "\u001b[34mimport\u001b[39;49;00m \u001b[04m\u001b[36mtime\u001b[39;49;00m\n",
      "\n",
      "\u001b[34mimport\u001b[39;49;00m \u001b[04m\u001b[36mmxnet\u001b[39;49;00m \u001b[34mas\u001b[39;49;00m \u001b[04m\u001b[36mmx\u001b[39;49;00m\n",
      "\u001b[34mfrom\u001b[39;49;00m \u001b[04m\u001b[36mmxnet\u001b[39;49;00m \u001b[34mimport\u001b[39;49;00m gluon\n",
      "\u001b[34mfrom\u001b[39;49;00m \u001b[04m\u001b[36mmxnet\u001b[39;49;00m\u001b[04m\u001b[36m.\u001b[39;49;00m\u001b[04m\u001b[36mgluon\u001b[39;49;00m \u001b[34mimport\u001b[39;49;00m nn\n",
      "\u001b[34mfrom\u001b[39;49;00m \u001b[04m\u001b[36mmxnet\u001b[39;49;00m \u001b[34mimport\u001b[39;49;00m autograd \u001b[34mas\u001b[39;49;00m ag\n",
      "\u001b[34mfrom\u001b[39;49;00m \u001b[04m\u001b[36mmxnet\u001b[39;49;00m\u001b[04m\u001b[36m.\u001b[39;49;00m\u001b[04m\u001b[36mgluon\u001b[39;49;00m\u001b[04m\u001b[36m.\u001b[39;49;00m\u001b[04m\u001b[36mdata\u001b[39;49;00m\u001b[04m\u001b[36m.\u001b[39;49;00m\u001b[04m\u001b[36mvision\u001b[39;49;00m \u001b[34mimport\u001b[39;49;00m transforms\n",
      "\n",
      "\u001b[34mimport\u001b[39;49;00m \u001b[04m\u001b[36mgluoncv\u001b[39;49;00m \u001b[34mas\u001b[39;49;00m \u001b[04m\u001b[36mgcv\u001b[39;49;00m\n",
      "\u001b[34mfrom\u001b[39;49;00m \u001b[04m\u001b[36mgluoncv\u001b[39;49;00m\u001b[04m\u001b[36m.\u001b[39;49;00m\u001b[04m\u001b[36mdata\u001b[39;49;00m\u001b[04m\u001b[36m.\u001b[39;49;00m\u001b[04m\u001b[36mtransforms\u001b[39;49;00m \u001b[34mimport\u001b[39;49;00m video\n",
      "\u001b[34mfrom\u001b[39;49;00m \u001b[04m\u001b[36mgluoncv\u001b[39;49;00m\u001b[04m\u001b[36m.\u001b[39;49;00m\u001b[04m\u001b[36mdata\u001b[39;49;00m \u001b[34mimport\u001b[39;49;00m VideoClsCustom\n",
      "\u001b[34mfrom\u001b[39;49;00m \u001b[04m\u001b[36mgluoncv\u001b[39;49;00m\u001b[04m\u001b[36m.\u001b[39;49;00m\u001b[04m\u001b[36mmodel_zoo\u001b[39;49;00m \u001b[34mimport\u001b[39;49;00m get_model\n",
      "\u001b[34mfrom\u001b[39;49;00m \u001b[04m\u001b[36mgluoncv\u001b[39;49;00m\u001b[04m\u001b[36m.\u001b[39;49;00m\u001b[04m\u001b[36mutils\u001b[39;49;00m \u001b[34mimport\u001b[39;49;00m makedirs, LRSequential, LRScheduler, split_and_load, TrainingHistory\n",
      "\n",
      "logging.basicConfig(level=logging.DEBUG)\n",
      "\n",
      "\u001b[37m# ------------------------------------------------------------ #\u001b[39;49;00m\n",
      "\u001b[37m# Training methods                                             #\u001b[39;49;00m\n",
      "\u001b[37m# ------------------------------------------------------------ #\u001b[39;49;00m\n",
      "\n",
      "\n",
      "\u001b[34mdef\u001b[39;49;00m \u001b[32mtrain\u001b[39;49;00m(args):\n",
      "    \u001b[37m# SageMaker passes num_cpus, num_gpus and other args we can use to tailor training to\u001b[39;49;00m\n",
      "    \u001b[37m# the current container environment\u001b[39;49;00m\n",
      "    num_gpus = mx.context.num_gpus()\n",
      "    ctx = [mx.gpu(i) \u001b[34mfor\u001b[39;49;00m i \u001b[35min\u001b[39;49;00m \u001b[36mrange\u001b[39;49;00m(num_gpus)] \u001b[34mif\u001b[39;49;00m num_gpus > \u001b[34m0\u001b[39;49;00m \u001b[34melse\u001b[39;49;00m [mx.cpu()]\n",
      "    \u001b[37m# retrieve the hyperparameters we set in notebook (with some defaults)\u001b[39;49;00m\n",
      "    \n",
      "    \u001b[37m#number of training examples utilized in one iteration.\u001b[39;49;00m\n",
      "    batch_size = args.batch_size\n",
      "    \u001b[37m#number of times an entire dataset is passed forward and backward through the neural network \u001b[39;49;00m\n",
      "    epochs = args.epochs\n",
      "    \u001b[37m#tuning parameter in an optimization algorithm that determines the step size at each iteration while moving toward a   minimum of a loss function.\u001b[39;49;00m\n",
      "    learning_rate = args.learning_rate\n",
      "    \u001b[37m#Momentum remembers the update Δ w at each iteration, and determines the next update as a linear combination of the gradient and the previous update\u001b[39;49;00m\n",
      "    momentum = args.momentum\n",
      "    \u001b[37m#Optimizers are algorithms or methods used to change the attributes of your neural network such as weights and learning rate in order to reduce the losses. \u001b[39;49;00m\n",
      "    optimizer = args.optimizer\n",
      "    \u001b[37m#after each update, the weights are multiplied by a factor slightly less than 1.\u001b[39;49;00m\n",
      "    wd = args.wd\n",
      "    optimizer_params = {\u001b[33m'\u001b[39;49;00m\u001b[33mlearning_rate\u001b[39;49;00m\u001b[33m'\u001b[39;49;00m: learning_rate, \u001b[33m'\u001b[39;49;00m\u001b[33mwd\u001b[39;49;00m\u001b[33m'\u001b[39;49;00m: wd, \u001b[33m'\u001b[39;49;00m\u001b[33mmomentum\u001b[39;49;00m\u001b[33m'\u001b[39;49;00m: momentum}\n",
      "    log_interval = args.log_interval\n",
      "    \n",
      "    \u001b[37m#In this example, we use Inflated 3D model (I3D) with ResNet50 backbone trained on Kinetics400 dataset. We want to replace the last classification (dense) layer to the number of classes in the dataset. \u001b[39;49;00m\n",
      "    model_name = args.network\n",
      "    \u001b[37m#number of classes in the dataset\u001b[39;49;00m\n",
      "    nclass = \u001b[34m2\u001b[39;49;00m\n",
      "    \u001b[37m#number of workers for the data loader\u001b[39;49;00m\n",
      "    num_workers = \u001b[34m1\u001b[39;49;00m\n",
      "    \n",
      "    current_host = args.current_host\n",
      "    hosts = args.hosts\n",
      "    model_dir = args.model_dir\n",
      "    CHECKPOINTS_DIR = \u001b[33m'\u001b[39;49;00m\u001b[33m/opt/ml/checkpoints\u001b[39;49;00m\u001b[33m'\u001b[39;49;00m\n",
      "    checkpoints_enabled = os.path.exists(CHECKPOINTS_DIR)\n",
      "\n",
      "    data_dir = args.train\n",
      "    segments = \u001b[33m'\u001b[39;49;00m\u001b[33mrawframes\u001b[39;49;00m\u001b[33m'\u001b[39;49;00m\n",
      "    train =\u001b[33m'\u001b[39;49;00m\u001b[33mannotations/\u001b[39;49;00m\u001b[33m{}\u001b[39;49;00m\u001b[33m_train_list_rawframes.txt\u001b[39;49;00m\u001b[33m'\u001b[39;49;00m.format(args.task)\n",
      "    \n",
      "    \u001b[37m#load the data with data loader\u001b[39;49;00m\n",
      "    train_data = load_data(data_dir,batch_size,num_workers,segments,train)\n",
      "    \u001b[37m# define the network\u001b[39;49;00m\n",
      "    net = define_network(ctx,model_name,nclass)\n",
      "    \u001b[37m#define the gluon trainer\u001b[39;49;00m\n",
      "    trainer = gluon.Trainer(net.collect_params(), optimizer, optimizer_params)\n",
      "    \u001b[37m#define loss function\u001b[39;49;00m\n",
      "    loss_fn = gluon.loss.SoftmaxCrossEntropyLoss()\n",
      "    \u001b[37m#define training metric\u001b[39;49;00m\n",
      "    train_metric = mx.metric.Accuracy()\n",
      "    train_history = TrainingHistory([\u001b[33m'\u001b[39;49;00m\u001b[33mtraining-acc\u001b[39;49;00m\u001b[33m'\u001b[39;49;00m])\n",
      "    net.hybridize()\n",
      "    \u001b[37m#learning rate decay hyperparameters\u001b[39;49;00m\n",
      "    lr_decay_count = \u001b[34m0\u001b[39;49;00m\n",
      "    lr_decay = \u001b[34m0.1\u001b[39;49;00m\n",
      "    lr_decay_epoch = [\u001b[34m40\u001b[39;49;00m, \u001b[34m80\u001b[39;49;00m, \u001b[34m100\u001b[39;49;00m]\n",
      "    \u001b[34mfor\u001b[39;49;00m epoch \u001b[35min\u001b[39;49;00m \u001b[36mrange\u001b[39;49;00m(epochs):\n",
      "        tic = time.time()\n",
      "        train_metric.reset()\n",
      "        train_loss = \u001b[34m0\u001b[39;49;00m\n",
      "\n",
      "        \u001b[37m# Learning rate decay\u001b[39;49;00m\n",
      "        \u001b[34mif\u001b[39;49;00m epoch == lr_decay_epoch[lr_decay_count]:\n",
      "            trainer.set_learning_rate(trainer.learning_rate*lr_decay)\n",
      "            lr_decay_count += \u001b[34m1\u001b[39;49;00m\n",
      "\n",
      "        \u001b[37m# Loop through each batch of training data\u001b[39;49;00m\n",
      "        \u001b[34mfor\u001b[39;49;00m i, batch \u001b[35min\u001b[39;49;00m \u001b[36menumerate\u001b[39;49;00m(train_data):\n",
      "            \u001b[37m# Extract data and label\u001b[39;49;00m\n",
      "            data = split_and_load(batch[\u001b[34m0\u001b[39;49;00m], ctx_list=ctx, batch_axis=\u001b[34m0\u001b[39;49;00m,even_split=\u001b[34mFalse\u001b[39;49;00m)\n",
      "            label = split_and_load(batch[\u001b[34m1\u001b[39;49;00m], ctx_list=ctx, batch_axis=\u001b[34m0\u001b[39;49;00m,even_split=\u001b[34mFalse\u001b[39;49;00m)\n",
      "\n",
      "            \u001b[37m# AutoGrad\u001b[39;49;00m\n",
      "            \u001b[34mwith\u001b[39;49;00m ag.record():\n",
      "                output = []\n",
      "                \u001b[34mfor\u001b[39;49;00m _, X \u001b[35min\u001b[39;49;00m \u001b[36menumerate\u001b[39;49;00m(data):\n",
      "                    X = X.reshape((-\u001b[34m1\u001b[39;49;00m,) + X.shape[\u001b[34m2\u001b[39;49;00m:])\n",
      "                    pred = net(X)\n",
      "                    output.append(pred)\n",
      "                loss = [loss_fn(yhat, y) \u001b[34mfor\u001b[39;49;00m yhat, y \u001b[35min\u001b[39;49;00m \u001b[36mzip\u001b[39;49;00m(output, label)]\n",
      "\n",
      "            \u001b[37m# Backpropagation\u001b[39;49;00m\n",
      "            \u001b[34mfor\u001b[39;49;00m l \u001b[35min\u001b[39;49;00m loss:\n",
      "                l.backward()\n",
      "\n",
      "            \u001b[37m# Optimize\u001b[39;49;00m\n",
      "            trainer.step(batch_size)\n",
      "\n",
      "            \u001b[37m# Update metrics\u001b[39;49;00m\n",
      "            train_loss += \u001b[36msum\u001b[39;49;00m([l.mean().asscalar() \u001b[34mfor\u001b[39;49;00m l \u001b[35min\u001b[39;49;00m loss])\n",
      "            train_metric.update(label, output)\n",
      "\n",
      "            \u001b[34mif\u001b[39;49;00m i == \u001b[34m100\u001b[39;49;00m:\n",
      "                \u001b[34mbreak\u001b[39;49;00m\n",
      "\n",
      "        name, acc = train_metric.get()\n",
      "\n",
      "        \u001b[37m# Update history and print metrics\u001b[39;49;00m\n",
      "        train_history.update([acc])\n",
      "        \u001b[36mprint\u001b[39;49;00m(\u001b[33m'\u001b[39;49;00m\u001b[33m[Epoch \u001b[39;49;00m\u001b[33m%d\u001b[39;49;00m\u001b[33m] train=\u001b[39;49;00m\u001b[33m%f\u001b[39;49;00m\u001b[33m loss=\u001b[39;49;00m\u001b[33m%f\u001b[39;49;00m\u001b[33m time: \u001b[39;49;00m\u001b[33m%f\u001b[39;49;00m\u001b[33m'\u001b[39;49;00m %\n",
      "            (epoch, acc, train_loss / (i+\u001b[34m1\u001b[39;49;00m), time.time()-tic))\n",
      "\n",
      "    \u001b[36mprint\u001b[39;49;00m(\u001b[33m'\u001b[39;49;00m\u001b[33msaving the model\u001b[39;49;00m\u001b[33m'\u001b[39;49;00m)\n",
      "    save(net, model_dir)\n",
      "     \n",
      "\u001b[34mdef\u001b[39;49;00m \u001b[32msave\u001b[39;49;00m(net, model_dir):\n",
      "    \u001b[37m# save the model\u001b[39;49;00m\n",
      "    net.export(\u001b[33m'\u001b[39;49;00m\u001b[33m%s\u001b[39;49;00m\u001b[33m/model\u001b[39;49;00m\u001b[33m'\u001b[39;49;00m% model_dir)\n",
      "\n",
      "\n",
      "\u001b[34mdef\u001b[39;49;00m \u001b[32mdefine_network\u001b[39;49;00m(ctx,model_name,nclass):\n",
      "    \u001b[37m#In GluonCV, we can get a customized model with one line of code.\u001b[39;49;00m\n",
      "    net = get_model(name=model_name, nclass=nclass)\n",
      "    net.collect_params().reset_ctx(ctx)\n",
      "    \u001b[36mprint\u001b[39;49;00m(net)\n",
      "    \u001b[34mreturn\u001b[39;49;00m net\n",
      "\n",
      "\n",
      "\u001b[34mdef\u001b[39;49;00m \u001b[32mload_data\u001b[39;49;00m(data_dir, batch_size,num_workers,segments,train):\n",
      "\n",
      "    \u001b[37m#The transformation function does three things: center crop the image to 224x224 in size, transpose it to num_channels,num_frames,height*width, and normalize with mean and standard deviation calculated across all ImageNet images.\u001b[39;49;00m\n",
      "\n",
      "    \u001b[37m#Use the general gluoncv dataloader VideoClsCustom to load the data with num_frames = 32 as the length. For another  dataset, you can just replace the value of root and setting to your data directory and your prepared text file.\u001b[39;49;00m\n",
      "    \n",
      "    transform_train = video.VideoGroupTrainTransform(size=(\u001b[34m224\u001b[39;49;00m, \u001b[34m224\u001b[39;49;00m), scale_ratios=[\u001b[34m1.0\u001b[39;49;00m, \u001b[34m0.8\u001b[39;49;00m], mean=[\u001b[34m0.485\u001b[39;49;00m, \u001b[34m0.456\u001b[39;49;00m, \u001b[34m0.406\u001b[39;49;00m], \n",
      "                                                          std=[\u001b[34m0.229\u001b[39;49;00m, \u001b[34m0.224\u001b[39;49;00m, \u001b[34m0.225\u001b[39;49;00m])\n",
      "    train_dataset = VideoClsCustom(root=data_dir + \u001b[33m'\u001b[39;49;00m\u001b[33m/\u001b[39;49;00m\u001b[33m'\u001b[39;49;00m + \n",
      "                                   segments,setting=data_dir + \u001b[33m'\u001b[39;49;00m\u001b[33m/\u001b[39;49;00m\u001b[33m'\u001b[39;49;00m + train,train=\u001b[34mTrue\u001b[39;49;00m,new_length=\u001b[34m32\u001b[39;49;00m,transform=transform_train)\n",
      "    \u001b[36mprint\u001b[39;49;00m(os.listdir(data_dir+ \u001b[33m'\u001b[39;49;00m\u001b[33m/\u001b[39;49;00m\u001b[33m'\u001b[39;49;00m + segments))\n",
      "    \u001b[36mprint\u001b[39;49;00m(\u001b[33m'\u001b[39;49;00m\u001b[33mLoad \u001b[39;49;00m\u001b[33m%d\u001b[39;49;00m\u001b[33m training samples.\u001b[39;49;00m\u001b[33m'\u001b[39;49;00m % \u001b[36mlen\u001b[39;49;00m(train_dataset))\n",
      "    \u001b[34mreturn\u001b[39;49;00m gluon.data.DataLoader(train_dataset, batch_size=batch_size,\n",
      "                                                   shuffle=\u001b[34mTrue\u001b[39;49;00m, num_workers=num_workers)\n",
      "\n",
      "\n",
      "\n",
      "\u001b[37m# ------------------------------------------------------------ #\u001b[39;49;00m\n",
      "\u001b[37m# Training execution                                           #\u001b[39;49;00m\n",
      "\u001b[37m# ------------------------------------------------------------ #\u001b[39;49;00m\n",
      "\n",
      "\u001b[34mdef\u001b[39;49;00m \u001b[32mparse_args\u001b[39;49;00m():\n",
      "    parser = argparse.ArgumentParser()\n",
      "\n",
      "    parser.add_argument(\u001b[33m'\u001b[39;49;00m\u001b[33m--task\u001b[39;49;00m\u001b[33m'\u001b[39;49;00m, \u001b[36mtype\u001b[39;49;00m=\u001b[36mstr\u001b[39;49;00m, default=\u001b[33m'\u001b[39;49;00m\u001b[33mgluoncv\u001b[39;49;00m\u001b[33m'\u001b[39;49;00m)\n",
      "    parser.add_argument(\u001b[33m'\u001b[39;49;00m\u001b[33m--network\u001b[39;49;00m\u001b[33m'\u001b[39;49;00m, \u001b[36mtype\u001b[39;49;00m=\u001b[36mstr\u001b[39;49;00m, default=\u001b[33m'\u001b[39;49;00m\u001b[33mi3d_resnet50_v1_hmdb51\u001b[39;49;00m\u001b[33m'\u001b[39;49;00m)\n",
      "    \n",
      "    parser.add_argument(\u001b[33m'\u001b[39;49;00m\u001b[33m--batch-size\u001b[39;49;00m\u001b[33m'\u001b[39;49;00m, \u001b[36mtype\u001b[39;49;00m=\u001b[36mint\u001b[39;49;00m, default=\u001b[34m8\u001b[39;49;00m)\n",
      "    parser.add_argument(\u001b[33m'\u001b[39;49;00m\u001b[33m--epochs\u001b[39;49;00m\u001b[33m'\u001b[39;49;00m, \u001b[36mtype\u001b[39;49;00m=\u001b[36mint\u001b[39;49;00m, default=\u001b[34m20\u001b[39;49;00m)\n",
      "    parser.add_argument(\u001b[33m'\u001b[39;49;00m\u001b[33m--learning-rate\u001b[39;49;00m\u001b[33m'\u001b[39;49;00m, \u001b[36mtype\u001b[39;49;00m=\u001b[36mfloat\u001b[39;49;00m, default=\u001b[34m0.001\u001b[39;49;00m)\n",
      "    parser.add_argument(\u001b[33m'\u001b[39;49;00m\u001b[33m--momentum\u001b[39;49;00m\u001b[33m'\u001b[39;49;00m, \u001b[36mtype\u001b[39;49;00m=\u001b[36mfloat\u001b[39;49;00m, default=\u001b[34m0.9\u001b[39;49;00m)\n",
      "    parser.add_argument(\u001b[33m'\u001b[39;49;00m\u001b[33m--wd\u001b[39;49;00m\u001b[33m'\u001b[39;49;00m, \u001b[36mtype\u001b[39;49;00m=\u001b[36mfloat\u001b[39;49;00m, default=\u001b[34m0.0001\u001b[39;49;00m)\n",
      "    parser.add_argument(\u001b[33m'\u001b[39;49;00m\u001b[33m--log-interval\u001b[39;49;00m\u001b[33m'\u001b[39;49;00m, \u001b[36mtype\u001b[39;49;00m=\u001b[36mfloat\u001b[39;49;00m, default=\u001b[34m100\u001b[39;49;00m)\n",
      "\n",
      "    parser.add_argument(\u001b[33m'\u001b[39;49;00m\u001b[33m--optimizer\u001b[39;49;00m\u001b[33m'\u001b[39;49;00m, \u001b[36mtype\u001b[39;49;00m=\u001b[36mstr\u001b[39;49;00m, default=\u001b[33m'\u001b[39;49;00m\u001b[33msgd\u001b[39;49;00m\u001b[33m'\u001b[39;49;00m)\n",
      "    parser.add_argument(\u001b[33m'\u001b[39;49;00m\u001b[33m--model-dir\u001b[39;49;00m\u001b[33m'\u001b[39;49;00m, \u001b[36mtype\u001b[39;49;00m=\u001b[36mstr\u001b[39;49;00m, default=os.environ[\u001b[33m'\u001b[39;49;00m\u001b[33mSM_MODEL_DIR\u001b[39;49;00m\u001b[33m'\u001b[39;49;00m])\n",
      "    parser.add_argument(\u001b[33m'\u001b[39;49;00m\u001b[33m--train\u001b[39;49;00m\u001b[33m'\u001b[39;49;00m, \u001b[36mtype\u001b[39;49;00m=\u001b[36mstr\u001b[39;49;00m, default=os.environ[\u001b[33m'\u001b[39;49;00m\u001b[33mSM_CHANNEL_TRAINING\u001b[39;49;00m\u001b[33m'\u001b[39;49;00m])\n",
      "\n",
      "    parser.add_argument(\u001b[33m'\u001b[39;49;00m\u001b[33m--current-host\u001b[39;49;00m\u001b[33m'\u001b[39;49;00m, \u001b[36mtype\u001b[39;49;00m=\u001b[36mstr\u001b[39;49;00m, default=os.environ[\u001b[33m'\u001b[39;49;00m\u001b[33mSM_CURRENT_HOST\u001b[39;49;00m\u001b[33m'\u001b[39;49;00m])\n",
      "    parser.add_argument(\u001b[33m'\u001b[39;49;00m\u001b[33m--hosts\u001b[39;49;00m\u001b[33m'\u001b[39;49;00m, \u001b[36mtype\u001b[39;49;00m=\u001b[36mlist\u001b[39;49;00m, default=json.loads(os.environ[\u001b[33m'\u001b[39;49;00m\u001b[33mSM_HOSTS\u001b[39;49;00m\u001b[33m'\u001b[39;49;00m]))\n",
      "\n",
      "    \u001b[34mreturn\u001b[39;49;00m parser.parse_args()\n",
      "\n",
      "\n",
      "\u001b[34mif\u001b[39;49;00m \u001b[31m__name__\u001b[39;49;00m == \u001b[33m'\u001b[39;49;00m\u001b[33m__main__\u001b[39;49;00m\u001b[33m'\u001b[39;49;00m:\n",
      "    args = parse_args()\n",
      "\n",
      "    train(args)\n"
     ]
    }
   ],
   "source": [
    "!pygmentize entry_point_training/gluoncv_detection_i3d.py"
   ]
  },
  {
   "cell_type": "code",
   "execution_count": 123,
   "metadata": {},
   "outputs": [],
   "source": [
    "mxnet_estimator = MXNet(entry_point='gluoncv_detection_i3d.py',\n",
    "                        source_dir='entry_point_training/',\n",
    "                        output_path='s3://{}/{}/output/'.format(bucket, videos_prefix),\n",
    "                        debugger_hook_config=False,\n",
    "                        role=role,\n",
    "                        instance_count=1,\n",
    "                        instance_type='ml.p3.2xlarge',\n",
    "                        framework_version='1.8.0',\n",
    "                        container_log_level = 40,\n",
    "                        volume_size = 60,\n",
    "                        py_version='py37',\n",
    "                        hyperparameters={'task': 'football4',\n",
    "                                         'network': 'i3d_resnet50_v1_hmdb51',\n",
    "                                         'batch-size': 8,\n",
    "                                         'epochs': 20,\n",
    "                                         'learning-rate': 0.001,\n",
    "                                         'wd': 0.0001,\n",
    "                                         'momentum': 0.9, \n",
    "                                         'log-interval': 50})"
   ]
  },
  {
   "cell_type": "markdown",
   "metadata": {},
   "source": [
    "#### Fit model"
   ]
  },
  {
   "cell_type": "code",
   "execution_count": 124,
   "metadata": {},
   "outputs": [],
   "source": [
    "job_name = '{}-{}'.format(task,str(uuid.uuid4()))\n",
    "mxnet_estimator.fit(train_data, job_name=job_name, wait=False)"
   ]
  },
  {
   "cell_type": "markdown",
   "metadata": {},
   "source": [
    "Note the training is happening in the background as we have set the parameter \"wait\" to False. You can check the status of the SageMaker Training Job until completion.\n",
    "\n",
    "`- Note: This model takes around 40 minutes to complete the training when using all the training videos. -`"
   ]
  },
  {
   "cell_type": "code",
   "execution_count": null,
   "metadata": {
    "scrolled": true
   },
   "outputs": [
    {
     "name": "stdout",
     "output_type": "stream",
     "text": [
      "18:28:47 UTC - InProgress\n",
      "18:29:17 UTC - InProgress\n",
      "18:29:47 UTC - InProgress\n",
      "18:30:17 UTC - InProgress\n",
      "18:30:47 UTC - InProgress\n",
      "18:31:18 UTC - InProgress\n",
      "18:31:48 UTC - InProgress\n",
      "18:32:18 UTC - InProgress\n",
      "18:32:48 UTC - InProgress\n",
      "18:33:18 UTC - InProgress\n",
      "18:33:48 UTC - InProgress\n",
      "18:34:18 UTC - InProgress\n",
      "18:34:48 UTC - InProgress\n",
      "18:35:18 UTC - InProgress\n",
      "18:35:48 UTC - InProgress\n",
      "18:36:18 UTC - InProgress\n",
      "18:36:48 UTC - InProgress\n",
      "18:37:18 UTC - InProgress\n",
      "18:37:48 UTC - InProgress\n",
      "18:38:18 UTC - InProgress\n",
      "18:38:48 UTC - InProgress\n",
      "18:39:19 UTC - InProgress\n",
      "18:39:49 UTC - InProgress\n",
      "18:40:19 UTC - InProgress\n",
      "18:40:49 UTC - InProgress\n",
      "18:41:19 UTC - InProgress\n",
      "18:41:49 UTC - InProgress\n",
      "18:42:19 UTC - InProgress\n",
      "18:42:49 UTC - InProgress\n",
      "18:43:19 UTC - InProgress\n",
      "18:43:49 UTC - InProgress\n",
      "18:44:19 UTC - InProgress\n",
      "18:44:49 UTC - InProgress\n",
      "18:45:19 UTC - InProgress\n",
      "18:45:49 UTC - InProgress\n",
      "18:46:19 UTC - InProgress\n",
      "18:46:49 UTC - InProgress\n",
      "18:47:20 UTC - InProgress\n",
      "18:47:50 UTC - InProgress\n",
      "18:48:20 UTC - InProgress\n",
      "18:48:50 UTC - InProgress\n",
      "18:49:20 UTC - InProgress\n",
      "18:49:50 UTC - InProgress\n",
      "18:50:20 UTC - InProgress\n",
      "18:50:50 UTC - InProgress\n",
      "18:51:20 UTC - InProgress\n",
      "18:51:50 UTC - InProgress\n",
      "18:52:20 UTC - InProgress\n",
      "18:52:50 UTC - InProgress\n",
      "18:53:20 UTC - InProgress\n",
      "18:53:50 UTC - InProgress\n",
      "18:54:20 UTC - InProgress\n",
      "18:54:50 UTC - InProgress\n",
      "18:55:20 UTC - InProgress\n",
      "18:55:51 UTC - InProgress\n",
      "18:56:21 UTC - InProgress\n",
      "18:56:51 UTC - InProgress\n",
      "18:57:21 UTC - InProgress\n",
      "18:57:51 UTC - InProgress\n",
      "18:58:21 UTC - InProgress\n",
      "18:58:51 UTC - InProgress\n",
      "18:59:21 UTC - InProgress\n",
      "18:59:51 UTC - InProgress\n",
      "19:00:21 UTC - InProgress\n",
      "19:00:51 UTC - InProgress\n",
      "19:01:21 UTC - InProgress\n",
      "19:01:51 UTC - InProgress\n",
      "19:02:21 UTC - InProgress\n",
      "19:02:51 UTC - InProgress\n",
      "19:03:22 UTC - InProgress\n",
      "19:03:52 UTC - InProgress\n",
      "19:04:22 UTC - InProgress\n",
      "19:04:52 UTC - InProgress\n",
      "19:05:22 UTC - InProgress\n",
      "19:05:52 UTC - InProgress\n",
      "19:06:22 UTC - InProgress\n",
      "19:06:52 UTC - InProgress\n",
      "19:07:22 UTC - InProgress\n",
      "19:07:52 UTC - InProgress\n",
      "19:08:22 UTC - InProgress\n",
      "19:08:52 UTC - InProgress\n",
      "19:09:22 UTC - InProgress\n",
      "19:09:52 UTC - InProgress\n",
      "19:10:22 UTC - InProgress\n",
      "19:10:52 UTC - InProgress\n",
      "19:11:22 UTC - InProgress\n",
      "19:11:52 UTC - InProgress\n",
      "19:12:23 UTC - InProgress\n",
      "19:12:53 UTC - InProgress\n",
      "19:13:23 UTC - InProgress\n",
      "19:13:53 UTC - InProgress\n",
      "19:14:23 UTC - InProgress\n"
     ]
    }
   ],
   "source": [
    "sm_client = boto3.client('sagemaker')\n",
    "\n",
    "while True:\n",
    "    status = sm_client.describe_training_job(TrainingJobName=job_name)['TrainingJobStatus']\n",
    "    if status in ['Completed', 'Failed']:\n",
    "        print(time.strftime('%X %Z'),'-',status)\n",
    "        break\n",
    "    print(time.strftime('%X %Z'),'-',status)\n",
    "    time.sleep(30)"
   ]
  },
  {
   "cell_type": "markdown",
   "metadata": {},
   "source": [
    "## Deployment and inference"
   ]
  },
  {
   "cell_type": "markdown",
   "metadata": {},
   "source": [
    "Here we deploy our model as a SageMaker endpoint for generating predictions on new sample videos, pointing to our inference script located at: `entry_point_inference/gluoncv_inference_i3d.py`\n",
    "\n",
    "For this, we will create a MXNet model that can be deployed to a SageMaker Endpoint. By default, this will use the SageMaker MXNet Inference toolkit for serving MXNet models on Amazon SageMaker. This will use a default framework image for MXNet version specified, provide the S3 location of the SageMaker model data .tar.gz file, provide the path to the Python inference file which should be executed as the entry point to model hosting, with the number of model server workers set to 10 to process parallel invocation requests."
   ]
  },
  {
   "cell_type": "code",
   "execution_count": 110,
   "metadata": {
    "scrolled": true
   },
   "outputs": [
    {
     "name": "stdout",
     "output_type": "stream",
     "text": [
      "\u001b[37m# Copyright Amazon.com, Inc. or its affiliates. All Rights Reserved.\u001b[39;49;00m\n",
      "\u001b[37m# SPDX-License-Identifier: MIT-0\u001b[39;49;00m\n",
      "\n",
      "\u001b[34mfrom\u001b[39;49;00m \u001b[04m\u001b[36m__future__\u001b[39;49;00m \u001b[34mimport\u001b[39;49;00m absolute_import\n",
      "\n",
      "\u001b[34mimport\u001b[39;49;00m \u001b[04m\u001b[36msubprocess\u001b[39;49;00m\n",
      "\u001b[34mimport\u001b[39;49;00m \u001b[04m\u001b[36msys\u001b[39;49;00m\n",
      "\u001b[34mimport\u001b[39;49;00m \u001b[04m\u001b[36mio\u001b[39;49;00m\n",
      "\u001b[34mimport\u001b[39;49;00m \u001b[04m\u001b[36mos\u001b[39;49;00m\n",
      "\u001b[34mimport\u001b[39;49;00m \u001b[04m\u001b[36mboto3\u001b[39;49;00m\n",
      "\u001b[34mimport\u001b[39;49;00m \u001b[04m\u001b[36mtime\u001b[39;49;00m\n",
      "\u001b[34mimport\u001b[39;49;00m \u001b[04m\u001b[36mjson\u001b[39;49;00m\n",
      "\u001b[34mimport\u001b[39;49;00m \u001b[04m\u001b[36muuid\u001b[39;49;00m\n",
      "\n",
      "\u001b[34mimport\u001b[39;49;00m \u001b[04m\u001b[36mmxnet\u001b[39;49;00m \u001b[34mas\u001b[39;49;00m \u001b[04m\u001b[36mmx\u001b[39;49;00m\n",
      "\u001b[34mimport\u001b[39;49;00m \u001b[04m\u001b[36mnumpy\u001b[39;49;00m \u001b[34mas\u001b[39;49;00m \u001b[04m\u001b[36mnp\u001b[39;49;00m\n",
      "\u001b[34mfrom\u001b[39;49;00m \u001b[04m\u001b[36mmxnet\u001b[39;49;00m \u001b[34mimport\u001b[39;49;00m gluon,nd\n",
      "\u001b[34mfrom\u001b[39;49;00m \u001b[04m\u001b[36msagemaker_inference\u001b[39;49;00m \u001b[34mimport\u001b[39;49;00m content_types, default_inference_handler, errors\n",
      "\u001b[34mfrom\u001b[39;49;00m \u001b[04m\u001b[36mio\u001b[39;49;00m \u001b[34mimport\u001b[39;49;00m BytesIO\n",
      "\u001b[34mfrom\u001b[39;49;00m \u001b[04m\u001b[36mdatetime\u001b[39;49;00m \u001b[34mimport\u001b[39;49;00m datetime\n",
      "\n",
      "\u001b[34mimport\u001b[39;49;00m \u001b[04m\u001b[36mgluoncv\u001b[39;49;00m\n",
      "\u001b[34mfrom\u001b[39;49;00m \u001b[04m\u001b[36mgluoncv\u001b[39;49;00m\u001b[04m\u001b[36m.\u001b[39;49;00m\u001b[04m\u001b[36mdata\u001b[39;49;00m\u001b[04m\u001b[36m.\u001b[39;49;00m\u001b[04m\u001b[36mtransforms\u001b[39;49;00m \u001b[34mimport\u001b[39;49;00m video\n",
      "\u001b[34mfrom\u001b[39;49;00m \u001b[04m\u001b[36mgluoncv\u001b[39;49;00m\u001b[04m\u001b[36m.\u001b[39;49;00m\u001b[04m\u001b[36mdata\u001b[39;49;00m \u001b[34mimport\u001b[39;49;00m VideoClsCustom\n",
      "\u001b[34mfrom\u001b[39;49;00m \u001b[04m\u001b[36mgluoncv\u001b[39;49;00m\u001b[04m\u001b[36m.\u001b[39;49;00m\u001b[04m\u001b[36mutils\u001b[39;49;00m\u001b[04m\u001b[36m.\u001b[39;49;00m\u001b[04m\u001b[36mfilesystem\u001b[39;49;00m \u001b[34mimport\u001b[39;49;00m try_import_decord\n",
      "\n",
      "ctx = mx.gpu(\u001b[34m0\u001b[39;49;00m) \u001b[34mif\u001b[39;49;00m mx.context.num_gpus() > \u001b[34m0\u001b[39;49;00m \u001b[34melse\u001b[39;49;00m mx.cpu()\n",
      "\u001b[37m#HMDB51 classes\u001b[39;49;00m\n",
      "classes = [\u001b[33m'\u001b[39;49;00m\u001b[33mhighlight\u001b[39;49;00m\u001b[33m'\u001b[39;49;00m, \u001b[33m'\u001b[39;49;00m\u001b[33mno_highlight\u001b[39;49;00m\u001b[33m'\u001b[39;49;00m]\n",
      "dict_classes = \u001b[36mdict\u001b[39;49;00m(\u001b[36mzip\u001b[39;49;00m(\u001b[36mrange\u001b[39;49;00m(\u001b[36mlen\u001b[39;49;00m(classes)), classes))\n",
      "\u001b[37m# ------------------------------------------------------------ #\u001b[39;49;00m\n",
      "\u001b[37m# Hosting methods                                              #\u001b[39;49;00m\n",
      "\u001b[37m# ------------------------------------------------------------ #\u001b[39;49;00m\n",
      "\n",
      "\u001b[34mdef\u001b[39;49;00m \u001b[32mmodel_fn\u001b[39;49;00m(model_dir):\n",
      "    \u001b[36mprint\u001b[39;49;00m(\u001b[33m'\u001b[39;49;00m\u001b[33mhere\u001b[39;49;00m\u001b[33m'\u001b[39;49;00m)\n",
      "    \u001b[36mprint\u001b[39;49;00m(ctx)\n",
      "    symbol = mx.sym.load(\u001b[33m'\u001b[39;49;00m\u001b[33m%s\u001b[39;49;00m\u001b[33m/model-symbol.json\u001b[39;49;00m\u001b[33m'\u001b[39;49;00m % model_dir)\n",
      "    outputs = mx.symbol.softmax(data=symbol, name=\u001b[33m'\u001b[39;49;00m\u001b[33msoftmax_label\u001b[39;49;00m\u001b[33m'\u001b[39;49;00m)\n",
      "    inputs = mx.sym.var(\u001b[33m'\u001b[39;49;00m\u001b[33mdata\u001b[39;49;00m\u001b[33m'\u001b[39;49;00m)\n",
      "    net = gluon.SymbolBlock(outputs, inputs)\n",
      "    net.load_parameters(\u001b[33m'\u001b[39;49;00m\u001b[33m%s\u001b[39;49;00m\u001b[33m/model-0000.params\u001b[39;49;00m\u001b[33m'\u001b[39;49;00m % model_dir, ctx=ctx)\n",
      "    \u001b[34mreturn\u001b[39;49;00m net\n",
      "\n",
      "\u001b[37m#transform function that uses json (s3 path) as input and output\u001b[39;49;00m\n",
      "\u001b[34mdef\u001b[39;49;00m \u001b[32mtransform_fn\u001b[39;49;00m(net, data, input_content_type, output_content_type):\n",
      "    \u001b[36mprint\u001b[39;49;00m(\u001b[33m'\u001b[39;49;00m\u001b[33mtransform_fn here\u001b[39;49;00m\u001b[33m'\u001b[39;49;00m)\n",
      "    start = time.time()\n",
      "    data = json.loads(data)\n",
      "    video_data = read_video_data(data[\u001b[33m'\u001b[39;49;00m\u001b[33mS3_VIDEO_PATH\u001b[39;49;00m\u001b[33m'\u001b[39;49;00m])\n",
      "    \u001b[36mprint\u001b[39;49;00m(time.time(),\u001b[33m'\u001b[39;49;00m\u001b[33mctx:\u001b[39;49;00m\u001b[33m'\u001b[39;49;00m,ctx)\n",
      "    video_input = video_data.as_in_context(ctx)\n",
      "    probs = net(video_input.astype(\u001b[33m'\u001b[39;49;00m\u001b[33mfloat32\u001b[39;49;00m\u001b[33m'\u001b[39;49;00m, copy=\u001b[34mFalse\u001b[39;49;00m))\n",
      "    \u001b[36mprint\u001b[39;49;00m(time.time(), \u001b[33m'\u001b[39;49;00m\u001b[33mprobs:\u001b[39;49;00m\u001b[33m'\u001b[39;49;00m, probs)\n",
      "    predicted = mx.nd.argmax(probs, axis=\u001b[34m1\u001b[39;49;00m).asnumpy().tolist()[\u001b[34m0\u001b[39;49;00m]\n",
      "    probability = mx.nd.max(probs, axis=\u001b[34m1\u001b[39;49;00m).asnumpy().tolist()[\u001b[34m0\u001b[39;49;00m]\n",
      "    \n",
      "    probability = \u001b[33m'\u001b[39;49;00m\u001b[33m{:.4f}\u001b[39;49;00m\u001b[33m'\u001b[39;49;00m.format(probability)\n",
      "    predicted_name = dict_classes[\u001b[36mint\u001b[39;49;00m(predicted)]\n",
      "    total_prediction = time.time()-start\n",
      "    total_prediction = \u001b[33m'\u001b[39;49;00m\u001b[33m{:.4f}\u001b[39;49;00m\u001b[33m'\u001b[39;49;00m.format(total_prediction)\n",
      "    \u001b[36mprint\u001b[39;49;00m(\u001b[33m'\u001b[39;49;00m\u001b[33mModel prediction probability: \u001b[39;49;00m\u001b[33m'\u001b[39;49;00m,probability)\n",
      "    \u001b[36mprint\u001b[39;49;00m(\u001b[33m'\u001b[39;49;00m\u001b[33mModel prediction label: \u001b[39;49;00m\u001b[33m'\u001b[39;49;00m,predicted_name)\n",
      "    \u001b[36mprint\u001b[39;49;00m(\u001b[33m'\u001b[39;49;00m\u001b[33mModel prediction time: \u001b[39;49;00m\u001b[33m'\u001b[39;49;00m, total_prediction)\n",
      "    \n",
      "    now = datetime.utcnow()\n",
      "    time_format = \u001b[33m'\u001b[39;49;00m\u001b[33m%\u001b[39;49;00m\u001b[33mY-\u001b[39;49;00m\u001b[33m%\u001b[39;49;00m\u001b[33mm-\u001b[39;49;00m\u001b[33m%d\u001b[39;49;00m\u001b[33m \u001b[39;49;00m\u001b[33m%\u001b[39;49;00m\u001b[33mH:\u001b[39;49;00m\u001b[33m%\u001b[39;49;00m\u001b[33mM:\u001b[39;49;00m\u001b[33m%\u001b[39;49;00m\u001b[33mS \u001b[39;49;00m\u001b[33m%\u001b[39;49;00m\u001b[33mZ\u001b[39;49;00m\u001b[33m%\u001b[39;49;00m\u001b[33mz\u001b[39;49;00m\u001b[33m'\u001b[39;49;00m\n",
      "    now = now.strftime(time_format)\n",
      "\n",
      "    response = {\n",
      "        \u001b[33m'\u001b[39;49;00m\u001b[33mS3Path\u001b[39;49;00m\u001b[33m'\u001b[39;49;00m: {\u001b[33m'\u001b[39;49;00m\u001b[33mS\u001b[39;49;00m\u001b[33m'\u001b[39;49;00m: data[\u001b[33m'\u001b[39;49;00m\u001b[33mS3_VIDEO_PATH\u001b[39;49;00m\u001b[33m'\u001b[39;49;00m]},\n",
      "        \u001b[33m'\u001b[39;49;00m\u001b[33mPredicted\u001b[39;49;00m\u001b[33m'\u001b[39;49;00m: {\u001b[33m'\u001b[39;49;00m\u001b[33mS\u001b[39;49;00m\u001b[33m'\u001b[39;49;00m: predicted_name},\n",
      "        \u001b[33m'\u001b[39;49;00m\u001b[33mProbability\u001b[39;49;00m\u001b[33m'\u001b[39;49;00m: {\u001b[33m'\u001b[39;49;00m\u001b[33mS\u001b[39;49;00m\u001b[33m'\u001b[39;49;00m: probability},\n",
      "        \u001b[33m'\u001b[39;49;00m\u001b[33mDateCreatedUTC\u001b[39;49;00m\u001b[33m'\u001b[39;49;00m: {\u001b[33m'\u001b[39;49;00m\u001b[33mS\u001b[39;49;00m\u001b[33m'\u001b[39;49;00m: now}\n",
      "    }\n",
      "\n",
      "    \u001b[34mreturn\u001b[39;49;00m json.dumps(response), output_content_type\n",
      "\n",
      "\u001b[34mdef\u001b[39;49;00m \u001b[32mget_bucket_and_key\u001b[39;49;00m(s3_path):\n",
      "    \u001b[33m\"\"\"Get the bucket name and key from the given path.\u001b[39;49;00m\n",
      "\u001b[33m    Args:\u001b[39;49;00m\n",
      "\u001b[33m        s3_path(str): Input S3 path\u001b[39;49;00m\n",
      "\u001b[33m    \"\"\"\u001b[39;49;00m\n",
      "    s3_path = s3_path.replace(\u001b[33m'\u001b[39;49;00m\u001b[33ms3://\u001b[39;49;00m\u001b[33m'\u001b[39;49;00m, \u001b[33m'\u001b[39;49;00m\u001b[33m'\u001b[39;49;00m)\n",
      "    s3_path = s3_path.replace(\u001b[33m'\u001b[39;49;00m\u001b[33mS3://\u001b[39;49;00m\u001b[33m'\u001b[39;49;00m, \u001b[33m'\u001b[39;49;00m\u001b[33m'\u001b[39;49;00m) \u001b[37m#Both cases\u001b[39;49;00m\n",
      "    bucket, key = s3_path.split(\u001b[33m'\u001b[39;49;00m\u001b[33m/\u001b[39;49;00m\u001b[33m'\u001b[39;49;00m, \u001b[34m1\u001b[39;49;00m)\n",
      "    \u001b[34mreturn\u001b[39;49;00m bucket, key\n",
      "\n",
      "\n",
      "\n",
      "\u001b[34mdef\u001b[39;49;00m \u001b[32mread_video_data\u001b[39;49;00m(s3_video_path, num_frames=\u001b[34m32\u001b[39;49;00m):\n",
      "    \u001b[33m\"\"\"Read and preprocess video data from the S3 bucket.\"\"\"\u001b[39;49;00m\n",
      "    \u001b[36mprint\u001b[39;49;00m(\u001b[33m'\u001b[39;49;00m\u001b[33mread and preprocess video data here \u001b[39;49;00m\u001b[33m'\u001b[39;49;00m)\n",
      "    s3_client = boto3.client(\u001b[33m'\u001b[39;49;00m\u001b[33ms3\u001b[39;49;00m\u001b[33m'\u001b[39;49;00m)\n",
      "    \u001b[37m#print(uuid.uuid4())\u001b[39;49;00m\n",
      "    fname = s3_video_path.replace(\u001b[33m'\u001b[39;49;00m\u001b[33ms3://\u001b[39;49;00m\u001b[33m'\u001b[39;49;00m, \u001b[33m'\u001b[39;49;00m\u001b[33m'\u001b[39;49;00m)\n",
      "    fname = fname.replace(\u001b[33m'\u001b[39;49;00m\u001b[33mS3://\u001b[39;49;00m\u001b[33m'\u001b[39;49;00m, \u001b[33m'\u001b[39;49;00m\u001b[33m'\u001b[39;49;00m)\n",
      "    fname = fname.replace(\u001b[33m'\u001b[39;49;00m\u001b[33m/\u001b[39;49;00m\u001b[33m'\u001b[39;49;00m, \u001b[33m'\u001b[39;49;00m\u001b[33m'\u001b[39;49;00m)\n",
      "    \u001b[37m#download_path = '/tmp/{}-{}'.format(uuid.uuid4(), fname)\u001b[39;49;00m\n",
      "    \u001b[37m#video_list_path = '/tmp/{}-{}'.format(uuid.uuid4(), 'video_list.txt')\u001b[39;49;00m\n",
      "    download_path = \u001b[33m'\u001b[39;49;00m\u001b[33m/tmp/\u001b[39;49;00m\u001b[33m'\u001b[39;49;00m + fname\n",
      "    video_list_path = \u001b[33m'\u001b[39;49;00m\u001b[33m/tmp/video_list\u001b[39;49;00m\u001b[33m'\u001b[39;49;00m + \u001b[36mstr\u001b[39;49;00m(uuid.uuid4()) + \u001b[33m'\u001b[39;49;00m\u001b[33m.txt\u001b[39;49;00m\u001b[33m'\u001b[39;49;00m \n",
      "    bucket, key = get_bucket_and_key(s3_video_path)\n",
      "    s3_client.download_file(bucket, key, download_path)\n",
      "    \n",
      "    \u001b[37m#update download_path filename to be unique\u001b[39;49;00m\n",
      "    filename,ext = os.path.splitext(download_path)    \u001b[37m# save the file extension\u001b[39;49;00m\n",
      "    filename = filename + \u001b[36mstr\u001b[39;49;00m(uuid.uuid4())\n",
      "    os.rename(download_path, filename+ext)\n",
      "    download_path = filename+ext\n",
      "    \n",
      "    \u001b[37m#Dummy duration and label with each video path\u001b[39;49;00m\n",
      "    video_list = \u001b[33m'\u001b[39;49;00m\u001b[33m{}\u001b[39;49;00m\u001b[33m \u001b[39;49;00m\u001b[33m{}\u001b[39;49;00m\u001b[33m \u001b[39;49;00m\u001b[33m{}\u001b[39;49;00m\u001b[33m'\u001b[39;49;00m.format(download_path, \u001b[34m10\u001b[39;49;00m, \u001b[34m1\u001b[39;49;00m)\n",
      "    \u001b[34mwith\u001b[39;49;00m \u001b[36mopen\u001b[39;49;00m(video_list_path, \u001b[33m'\u001b[39;49;00m\u001b[33mw\u001b[39;49;00m\u001b[33m'\u001b[39;49;00m) \u001b[34mas\u001b[39;49;00m fopen:\n",
      "        fopen.write(video_list)\n",
      "\n",
      "    \u001b[37m#Constants\u001b[39;49;00m\n",
      "    data_dir = \u001b[33m'\u001b[39;49;00m\u001b[33m/tmp/\u001b[39;49;00m\u001b[33m'\u001b[39;49;00m\n",
      "    num_segments = \u001b[34m1\u001b[39;49;00m\n",
      "    new_length = num_frames\n",
      "    new_step =\u001b[34m1\u001b[39;49;00m\n",
      "    use_decord = \u001b[34mTrue\u001b[39;49;00m\n",
      "    video_loader = \u001b[34mTrue\u001b[39;49;00m\n",
      "    slowfast = \u001b[34mFalse\u001b[39;49;00m\n",
      "    \u001b[37m#Preprocessing params \u001b[39;49;00m\n",
      "        \n",
      "    \u001b[37m#The transformation function does three things: center crop the image to 224x224 in size, transpose it to num_channels,num_frames,height*width, and normalize with mean and standard deviation calculated across all ImageNet images.\u001b[39;49;00m\n",
      "\n",
      "    \u001b[37m#Use the general gluoncv dataloader VideoClsCustom to load the data with num_frames = 32 as the length.\u001b[39;49;00m\n",
      "    input_size = \u001b[34m224\u001b[39;49;00m\n",
      "    mean = [\u001b[34m0.485\u001b[39;49;00m, \u001b[34m0.456\u001b[39;49;00m, \u001b[34m0.406\u001b[39;49;00m]\n",
      "    std=[\u001b[34m0.229\u001b[39;49;00m, \u001b[34m0.224\u001b[39;49;00m, \u001b[34m0.225\u001b[39;49;00m]\n",
      "\n",
      "    transform = video.VideoGroupValTransform(size=input_size, mean=mean, std=std)\n",
      "    video_utils = VideoClsCustom(root=data_dir,\n",
      "                                 setting=video_list_path,\n",
      "                                 num_segments=num_segments,\n",
      "                                 new_length=new_length,\n",
      "                                 new_step=new_step,\n",
      "                                 video_loader=video_loader,\n",
      "                                 use_decord=use_decord,\n",
      "                                 slowfast=slowfast)\n",
      "    \n",
      "    \u001b[37m#Read for the video list\u001b[39;49;00m\n",
      "    video_name = video_list.split()[\u001b[34m0\u001b[39;49;00m]\n",
      "\n",
      "    decord = try_import_decord()\n",
      "    decord_vr = decord.VideoReader(video_name)\n",
      "    duration = \u001b[36mlen\u001b[39;49;00m(decord_vr)\n",
      "\n",
      "    skip_length = new_length * new_step\n",
      "    segment_indices, skip_offsets = video_utils._sample_test_indices(duration)\n",
      "\n",
      "    \u001b[34mif\u001b[39;49;00m video_loader:\n",
      "        \u001b[34mif\u001b[39;49;00m slowfast:\n",
      "            clip_input = video_utils._video_TSN_decord_slowfast_loader(video_name, decord_vr, \n",
      "                                                                       duration, segment_indices, skip_offsets)\n",
      "        \u001b[34melse\u001b[39;49;00m:\n",
      "            clip_input = video_utils._video_TSN_decord_batch_loader(video_name, decord_vr, \n",
      "                                                                    duration, segment_indices, skip_offsets)\n",
      "    \u001b[34melse\u001b[39;49;00m:\n",
      "        \u001b[34mraise\u001b[39;49;00m \u001b[36mRuntimeError\u001b[39;49;00m(\u001b[33m'\u001b[39;49;00m\u001b[33mWe only support video-based inference.\u001b[39;49;00m\u001b[33m'\u001b[39;49;00m)\n",
      "\n",
      "    clip_input = transform(clip_input)\n",
      "\n",
      "    \u001b[34mif\u001b[39;49;00m slowfast:\n",
      "        sparse_sampels = \u001b[36mlen\u001b[39;49;00m(clip_input) // (num_segments * num_crop)\n",
      "        clip_input = np.stack(clip_input, axis=\u001b[34m0\u001b[39;49;00m)\n",
      "        clip_input = clip_input.reshape((-\u001b[34m1\u001b[39;49;00m,) + (sparse_sampels, \u001b[34m3\u001b[39;49;00m, input_size, input_size))\n",
      "        clip_input = np.transpose(clip_input, (\u001b[34m0\u001b[39;49;00m, \u001b[34m2\u001b[39;49;00m, \u001b[34m1\u001b[39;49;00m, \u001b[34m3\u001b[39;49;00m, \u001b[34m4\u001b[39;49;00m))\n",
      "    \u001b[34melse\u001b[39;49;00m:\n",
      "        clip_input = np.stack(clip_input, axis=\u001b[34m0\u001b[39;49;00m)\n",
      "        clip_input = clip_input.reshape((-\u001b[34m1\u001b[39;49;00m,) + (new_length, \u001b[34m3\u001b[39;49;00m, input_size, input_size))\n",
      "        clip_input = np.transpose(clip_input, (\u001b[34m0\u001b[39;49;00m, \u001b[34m2\u001b[39;49;00m, \u001b[34m1\u001b[39;49;00m, \u001b[34m3\u001b[39;49;00m, \u001b[34m4\u001b[39;49;00m))\n",
      "\n",
      "    \u001b[34mif\u001b[39;49;00m new_length == \u001b[34m1\u001b[39;49;00m:\n",
      "        clip_input = np.squeeze(clip_input, axis=\u001b[34m2\u001b[39;49;00m)    \u001b[37m# this is for 2D input case\u001b[39;49;00m\n",
      "\n",
      "    clip_input = nd.array(clip_input)\n",
      "    \n",
      "    \u001b[37m#Cleanup temp files\u001b[39;49;00m\n",
      "    os.remove(download_path)\n",
      "    os.remove(video_list_path)\n",
      "    \u001b[37m#os.system('rm {}'.format(download_path))\u001b[39;49;00m\n",
      "    \u001b[37m#os.system('rm {}'.format(video_list_path))\u001b[39;49;00m\n",
      "\n",
      "    \u001b[34mreturn\u001b[39;49;00m clip_input\n"
     ]
    }
   ],
   "source": [
    "!pygmentize entry_point_inference/gluoncv_inference_i3d.py"
   ]
  },
  {
   "cell_type": "code",
   "execution_count": 119,
   "metadata": {},
   "outputs": [
    {
     "name": "stdout",
     "output_type": "stream",
     "text": [
      "football4-1612721590\n"
     ]
    }
   ],
   "source": [
    "model_name = task+'-{0}'.format(str(int(time.time())))\n",
    "from sagemaker.mxnet.model import MXNetModel\n",
    "sagemaker_model = MXNetModel(model_data = 's3://{}/{}/output/{}/output/model.tar.gz'.format(bucket, videos_prefix, job_name),\n",
    "                             source_dir='entry_point_inference/',\n",
    "                             entry_point='gluoncv_inference_i3d.py',\n",
    "                             role = role,\n",
    "                             framework_version='1.8.0',\n",
    "                             container_log_level = 40,\n",
    "                             py_version='py37',\n",
    "                             model_server_workers=10,\n",
    "                             name=model_name)\n",
    "print(sagemaker_model.name)"
   ]
  },
  {
   "cell_type": "code",
   "execution_count": 120,
   "metadata": {},
   "outputs": [
    {
     "name": "stdout",
     "output_type": "stream",
     "text": [
      "---------------!"
     ]
    }
   ],
   "source": [
    "logging.getLogger().setLevel(logging.WARNING)\n",
    "predictor = sagemaker_model.deploy(initial_instance_count=1,\n",
    "                                   instance_type='ml.g4dn.8xlarge',\n",
    "                                   endpoint_name=task )"
   ]
  },
  {
   "cell_type": "markdown",
   "metadata": {},
   "source": [
    "`- Note: This step takes around 6-7 minutes to complete. -`"
   ]
  },
  {
   "cell_type": "markdown",
   "metadata": {},
   "source": [
    "We have now deployed our GluonCV activity detection model in SageMaker, let's retrieve this endpoint."
   ]
  },
  {
   "cell_type": "code",
   "execution_count": 121,
   "metadata": {},
   "outputs": [
    {
     "data": {
      "text/plain": [
       "'arn:aws:sagemaker:eu-west-1:889960878219:endpoint/football4'"
      ]
     },
     "execution_count": 121,
     "metadata": {},
     "output_type": "execute_result"
    }
   ],
   "source": [
    "sm_client = boto3.client('sagemaker')\n",
    "sm_client.describe_endpoint(EndpointName=task)['EndpointArn']"
   ]
  },
  {
   "cell_type": "markdown",
   "metadata": {},
   "source": [
    "Finally, let's upload some sample videos to S3 and pass these to the endpoint. Some sample videos are available in `sample_media/`."
   ]
  },
  {
   "cell_type": "code",
   "execution_count": 122,
   "metadata": {},
   "outputs": [
    {
     "name": "stdout",
     "output_type": "stream",
     "text": [
      "Sample videos found: ['../sample_media/Football2_5s_224p.mp4']\n",
      "1612722169.4012666 Running inference for video s3://sagemaker-eu-west-1-889960878219/sports/football4/validation_sample/Football2_5s_224p.mp4 on SageMaker endpoint football4\n"
     ]
    },
    {
     "ename": "ReadTimeoutError",
     "evalue": "Read timeout on endpoint URL: \"https://runtime.sagemaker.eu-west-1.amazonaws.com/endpoints/football4/invocations\"",
     "output_type": "error",
     "traceback": [
      "\u001b[0;31m---------------------------------------------------------------------------\u001b[0m",
      "\u001b[0;31mtimeout\u001b[0m                                   Traceback (most recent call last)",
      "\u001b[0;32m/usr/local/lib/python3.7/site-packages/urllib3/connectionpool.py\u001b[0m in \u001b[0;36m_make_request\u001b[0;34m(self, conn, method, url, timeout, chunked, **httplib_request_kw)\u001b[0m\n\u001b[1;32m    425\u001b[0m                     \u001b[0;31m# Otherwise it looks like a bug in the code.\u001b[0m\u001b[0;34m\u001b[0m\u001b[0;34m\u001b[0m\u001b[0;34m\u001b[0m\u001b[0m\n\u001b[0;32m--> 426\u001b[0;31m                     \u001b[0msix\u001b[0m\u001b[0;34m.\u001b[0m\u001b[0mraise_from\u001b[0m\u001b[0;34m(\u001b[0m\u001b[0me\u001b[0m\u001b[0;34m,\u001b[0m \u001b[0;32mNone\u001b[0m\u001b[0;34m)\u001b[0m\u001b[0;34m\u001b[0m\u001b[0;34m\u001b[0m\u001b[0m\n\u001b[0m\u001b[1;32m    427\u001b[0m         \u001b[0;32mexcept\u001b[0m \u001b[0;34m(\u001b[0m\u001b[0mSocketTimeout\u001b[0m\u001b[0;34m,\u001b[0m \u001b[0mBaseSSLError\u001b[0m\u001b[0;34m,\u001b[0m \u001b[0mSocketError\u001b[0m\u001b[0;34m)\u001b[0m \u001b[0;32mas\u001b[0m \u001b[0me\u001b[0m\u001b[0;34m:\u001b[0m\u001b[0;34m\u001b[0m\u001b[0;34m\u001b[0m\u001b[0m\n",
      "\u001b[0;32m/usr/local/lib/python3.7/site-packages/urllib3/packages/six.py\u001b[0m in \u001b[0;36mraise_from\u001b[0;34m(value, from_value)\u001b[0m\n",
      "\u001b[0;32m/usr/local/lib/python3.7/site-packages/urllib3/connectionpool.py\u001b[0m in \u001b[0;36m_make_request\u001b[0;34m(self, conn, method, url, timeout, chunked, **httplib_request_kw)\u001b[0m\n\u001b[1;32m    420\u001b[0m                 \u001b[0;32mtry\u001b[0m\u001b[0;34m:\u001b[0m\u001b[0;34m\u001b[0m\u001b[0;34m\u001b[0m\u001b[0m\n\u001b[0;32m--> 421\u001b[0;31m                     \u001b[0mhttplib_response\u001b[0m \u001b[0;34m=\u001b[0m \u001b[0mconn\u001b[0m\u001b[0;34m.\u001b[0m\u001b[0mgetresponse\u001b[0m\u001b[0;34m(\u001b[0m\u001b[0;34m)\u001b[0m\u001b[0;34m\u001b[0m\u001b[0;34m\u001b[0m\u001b[0m\n\u001b[0m\u001b[1;32m    422\u001b[0m                 \u001b[0;32mexcept\u001b[0m \u001b[0mBaseException\u001b[0m \u001b[0;32mas\u001b[0m \u001b[0me\u001b[0m\u001b[0;34m:\u001b[0m\u001b[0;34m\u001b[0m\u001b[0;34m\u001b[0m\u001b[0m\n",
      "\u001b[0;32m/usr/local/lib/python3.7/http/client.py\u001b[0m in \u001b[0;36mgetresponse\u001b[0;34m(self)\u001b[0m\n\u001b[1;32m   1368\u001b[0m             \u001b[0;32mtry\u001b[0m\u001b[0;34m:\u001b[0m\u001b[0;34m\u001b[0m\u001b[0;34m\u001b[0m\u001b[0m\n\u001b[0;32m-> 1369\u001b[0;31m                 \u001b[0mresponse\u001b[0m\u001b[0;34m.\u001b[0m\u001b[0mbegin\u001b[0m\u001b[0;34m(\u001b[0m\u001b[0;34m)\u001b[0m\u001b[0;34m\u001b[0m\u001b[0;34m\u001b[0m\u001b[0m\n\u001b[0m\u001b[1;32m   1370\u001b[0m             \u001b[0;32mexcept\u001b[0m \u001b[0mConnectionError\u001b[0m\u001b[0;34m:\u001b[0m\u001b[0;34m\u001b[0m\u001b[0;34m\u001b[0m\u001b[0m\n",
      "\u001b[0;32m/usr/local/lib/python3.7/http/client.py\u001b[0m in \u001b[0;36mbegin\u001b[0;34m(self)\u001b[0m\n\u001b[1;32m    309\u001b[0m         \u001b[0;32mwhile\u001b[0m \u001b[0;32mTrue\u001b[0m\u001b[0;34m:\u001b[0m\u001b[0;34m\u001b[0m\u001b[0;34m\u001b[0m\u001b[0m\n\u001b[0;32m--> 310\u001b[0;31m             \u001b[0mversion\u001b[0m\u001b[0;34m,\u001b[0m \u001b[0mstatus\u001b[0m\u001b[0;34m,\u001b[0m \u001b[0mreason\u001b[0m \u001b[0;34m=\u001b[0m \u001b[0mself\u001b[0m\u001b[0;34m.\u001b[0m\u001b[0m_read_status\u001b[0m\u001b[0;34m(\u001b[0m\u001b[0;34m)\u001b[0m\u001b[0;34m\u001b[0m\u001b[0;34m\u001b[0m\u001b[0m\n\u001b[0m\u001b[1;32m    311\u001b[0m             \u001b[0;32mif\u001b[0m \u001b[0mstatus\u001b[0m \u001b[0;34m!=\u001b[0m \u001b[0mCONTINUE\u001b[0m\u001b[0;34m:\u001b[0m\u001b[0;34m\u001b[0m\u001b[0;34m\u001b[0m\u001b[0m\n",
      "\u001b[0;32m/usr/local/lib/python3.7/http/client.py\u001b[0m in \u001b[0;36m_read_status\u001b[0;34m(self)\u001b[0m\n\u001b[1;32m    270\u001b[0m     \u001b[0;32mdef\u001b[0m \u001b[0m_read_status\u001b[0m\u001b[0;34m(\u001b[0m\u001b[0mself\u001b[0m\u001b[0;34m)\u001b[0m\u001b[0;34m:\u001b[0m\u001b[0;34m\u001b[0m\u001b[0;34m\u001b[0m\u001b[0m\n\u001b[0;32m--> 271\u001b[0;31m         \u001b[0mline\u001b[0m \u001b[0;34m=\u001b[0m \u001b[0mstr\u001b[0m\u001b[0;34m(\u001b[0m\u001b[0mself\u001b[0m\u001b[0;34m.\u001b[0m\u001b[0mfp\u001b[0m\u001b[0;34m.\u001b[0m\u001b[0mreadline\u001b[0m\u001b[0;34m(\u001b[0m\u001b[0m_MAXLINE\u001b[0m \u001b[0;34m+\u001b[0m \u001b[0;36m1\u001b[0m\u001b[0;34m)\u001b[0m\u001b[0;34m,\u001b[0m \u001b[0;34m\"iso-8859-1\"\u001b[0m\u001b[0;34m)\u001b[0m\u001b[0;34m\u001b[0m\u001b[0;34m\u001b[0m\u001b[0m\n\u001b[0m\u001b[1;32m    272\u001b[0m         \u001b[0;32mif\u001b[0m \u001b[0mlen\u001b[0m\u001b[0;34m(\u001b[0m\u001b[0mline\u001b[0m\u001b[0;34m)\u001b[0m \u001b[0;34m>\u001b[0m \u001b[0m_MAXLINE\u001b[0m\u001b[0;34m:\u001b[0m\u001b[0;34m\u001b[0m\u001b[0;34m\u001b[0m\u001b[0m\n",
      "\u001b[0;32m/usr/local/lib/python3.7/socket.py\u001b[0m in \u001b[0;36mreadinto\u001b[0;34m(self, b)\u001b[0m\n\u001b[1;32m    588\u001b[0m             \u001b[0;32mtry\u001b[0m\u001b[0;34m:\u001b[0m\u001b[0;34m\u001b[0m\u001b[0;34m\u001b[0m\u001b[0m\n\u001b[0;32m--> 589\u001b[0;31m                 \u001b[0;32mreturn\u001b[0m \u001b[0mself\u001b[0m\u001b[0;34m.\u001b[0m\u001b[0m_sock\u001b[0m\u001b[0;34m.\u001b[0m\u001b[0mrecv_into\u001b[0m\u001b[0;34m(\u001b[0m\u001b[0mb\u001b[0m\u001b[0;34m)\u001b[0m\u001b[0;34m\u001b[0m\u001b[0;34m\u001b[0m\u001b[0m\n\u001b[0m\u001b[1;32m    590\u001b[0m             \u001b[0;32mexcept\u001b[0m \u001b[0mtimeout\u001b[0m\u001b[0;34m:\u001b[0m\u001b[0;34m\u001b[0m\u001b[0;34m\u001b[0m\u001b[0m\n",
      "\u001b[0;32m/usr/local/lib/python3.7/ssl.py\u001b[0m in \u001b[0;36mrecv_into\u001b[0;34m(self, buffer, nbytes, flags)\u001b[0m\n\u001b[1;32m   1070\u001b[0m                   self.__class__)\n\u001b[0;32m-> 1071\u001b[0;31m             \u001b[0;32mreturn\u001b[0m \u001b[0mself\u001b[0m\u001b[0;34m.\u001b[0m\u001b[0mread\u001b[0m\u001b[0;34m(\u001b[0m\u001b[0mnbytes\u001b[0m\u001b[0;34m,\u001b[0m \u001b[0mbuffer\u001b[0m\u001b[0;34m)\u001b[0m\u001b[0;34m\u001b[0m\u001b[0;34m\u001b[0m\u001b[0m\n\u001b[0m\u001b[1;32m   1072\u001b[0m         \u001b[0;32melse\u001b[0m\u001b[0;34m:\u001b[0m\u001b[0;34m\u001b[0m\u001b[0;34m\u001b[0m\u001b[0m\n",
      "\u001b[0;32m/usr/local/lib/python3.7/ssl.py\u001b[0m in \u001b[0;36mread\u001b[0;34m(self, len, buffer)\u001b[0m\n\u001b[1;32m    928\u001b[0m             \u001b[0;32mif\u001b[0m \u001b[0mbuffer\u001b[0m \u001b[0;32mis\u001b[0m \u001b[0;32mnot\u001b[0m \u001b[0;32mNone\u001b[0m\u001b[0;34m:\u001b[0m\u001b[0;34m\u001b[0m\u001b[0;34m\u001b[0m\u001b[0m\n\u001b[0;32m--> 929\u001b[0;31m                 \u001b[0;32mreturn\u001b[0m \u001b[0mself\u001b[0m\u001b[0;34m.\u001b[0m\u001b[0m_sslobj\u001b[0m\u001b[0;34m.\u001b[0m\u001b[0mread\u001b[0m\u001b[0;34m(\u001b[0m\u001b[0mlen\u001b[0m\u001b[0;34m,\u001b[0m \u001b[0mbuffer\u001b[0m\u001b[0;34m)\u001b[0m\u001b[0;34m\u001b[0m\u001b[0;34m\u001b[0m\u001b[0m\n\u001b[0m\u001b[1;32m    930\u001b[0m             \u001b[0;32melse\u001b[0m\u001b[0;34m:\u001b[0m\u001b[0;34m\u001b[0m\u001b[0;34m\u001b[0m\u001b[0m\n",
      "\u001b[0;31mtimeout\u001b[0m: The read operation timed out",
      "\nDuring handling of the above exception, another exception occurred:\n",
      "\u001b[0;31mReadTimeoutError\u001b[0m                          Traceback (most recent call last)",
      "\u001b[0;32m/usr/local/lib/python3.7/site-packages/botocore/httpsession.py\u001b[0m in \u001b[0;36msend\u001b[0;34m(self, request)\u001b[0m\n\u001b[1;32m    262\u001b[0m                 \u001b[0mdecode_content\u001b[0m\u001b[0;34m=\u001b[0m\u001b[0;32mFalse\u001b[0m\u001b[0;34m,\u001b[0m\u001b[0;34m\u001b[0m\u001b[0;34m\u001b[0m\u001b[0m\n\u001b[0;32m--> 263\u001b[0;31m                 \u001b[0mchunked\u001b[0m\u001b[0;34m=\u001b[0m\u001b[0mself\u001b[0m\u001b[0;34m.\u001b[0m\u001b[0m_chunked\u001b[0m\u001b[0;34m(\u001b[0m\u001b[0mrequest\u001b[0m\u001b[0;34m.\u001b[0m\u001b[0mheaders\u001b[0m\u001b[0;34m)\u001b[0m\u001b[0;34m,\u001b[0m\u001b[0;34m\u001b[0m\u001b[0;34m\u001b[0m\u001b[0m\n\u001b[0m\u001b[1;32m    264\u001b[0m             )\n",
      "\u001b[0;32m/usr/local/lib/python3.7/site-packages/urllib3/connectionpool.py\u001b[0m in \u001b[0;36murlopen\u001b[0;34m(self, method, url, body, headers, retries, redirect, assert_same_host, timeout, pool_timeout, release_conn, chunked, body_pos, **response_kw)\u001b[0m\n\u001b[1;32m    726\u001b[0m             retries = retries.increment(\n\u001b[0;32m--> 727\u001b[0;31m                 \u001b[0mmethod\u001b[0m\u001b[0;34m,\u001b[0m \u001b[0murl\u001b[0m\u001b[0;34m,\u001b[0m \u001b[0merror\u001b[0m\u001b[0;34m=\u001b[0m\u001b[0me\u001b[0m\u001b[0;34m,\u001b[0m \u001b[0m_pool\u001b[0m\u001b[0;34m=\u001b[0m\u001b[0mself\u001b[0m\u001b[0;34m,\u001b[0m \u001b[0m_stacktrace\u001b[0m\u001b[0;34m=\u001b[0m\u001b[0msys\u001b[0m\u001b[0;34m.\u001b[0m\u001b[0mexc_info\u001b[0m\u001b[0;34m(\u001b[0m\u001b[0;34m)\u001b[0m\u001b[0;34m[\u001b[0m\u001b[0;36m2\u001b[0m\u001b[0;34m]\u001b[0m\u001b[0;34m\u001b[0m\u001b[0;34m\u001b[0m\u001b[0m\n\u001b[0m\u001b[1;32m    728\u001b[0m             )\n",
      "\u001b[0;32m/usr/local/lib/python3.7/site-packages/urllib3/util/retry.py\u001b[0m in \u001b[0;36mincrement\u001b[0;34m(self, method, url, response, error, _pool, _stacktrace)\u001b[0m\n\u001b[1;32m    385\u001b[0m             \u001b[0;31m# Disabled, indicate to re-raise the error.\u001b[0m\u001b[0;34m\u001b[0m\u001b[0;34m\u001b[0m\u001b[0;34m\u001b[0m\u001b[0m\n\u001b[0;32m--> 386\u001b[0;31m             \u001b[0;32mraise\u001b[0m \u001b[0msix\u001b[0m\u001b[0;34m.\u001b[0m\u001b[0mreraise\u001b[0m\u001b[0;34m(\u001b[0m\u001b[0mtype\u001b[0m\u001b[0;34m(\u001b[0m\u001b[0merror\u001b[0m\u001b[0;34m)\u001b[0m\u001b[0;34m,\u001b[0m \u001b[0merror\u001b[0m\u001b[0;34m,\u001b[0m \u001b[0m_stacktrace\u001b[0m\u001b[0;34m)\u001b[0m\u001b[0;34m\u001b[0m\u001b[0;34m\u001b[0m\u001b[0m\n\u001b[0m\u001b[1;32m    387\u001b[0m \u001b[0;34m\u001b[0m\u001b[0m\n",
      "\u001b[0;32m/usr/local/lib/python3.7/site-packages/urllib3/packages/six.py\u001b[0m in \u001b[0;36mreraise\u001b[0;34m(tp, value, tb)\u001b[0m\n\u001b[1;32m    734\u001b[0m                 \u001b[0;32mraise\u001b[0m \u001b[0mvalue\u001b[0m\u001b[0;34m.\u001b[0m\u001b[0mwith_traceback\u001b[0m\u001b[0;34m(\u001b[0m\u001b[0mtb\u001b[0m\u001b[0;34m)\u001b[0m\u001b[0;34m\u001b[0m\u001b[0;34m\u001b[0m\u001b[0m\n\u001b[0;32m--> 735\u001b[0;31m             \u001b[0;32mraise\u001b[0m \u001b[0mvalue\u001b[0m\u001b[0;34m\u001b[0m\u001b[0;34m\u001b[0m\u001b[0m\n\u001b[0m\u001b[1;32m    736\u001b[0m         \u001b[0;32mfinally\u001b[0m\u001b[0;34m:\u001b[0m\u001b[0;34m\u001b[0m\u001b[0;34m\u001b[0m\u001b[0m\n",
      "\u001b[0;32m/usr/local/lib/python3.7/site-packages/urllib3/connectionpool.py\u001b[0m in \u001b[0;36murlopen\u001b[0;34m(self, method, url, body, headers, retries, redirect, assert_same_host, timeout, pool_timeout, release_conn, chunked, body_pos, **response_kw)\u001b[0m\n\u001b[1;32m    676\u001b[0m                 \u001b[0mheaders\u001b[0m\u001b[0;34m=\u001b[0m\u001b[0mheaders\u001b[0m\u001b[0;34m,\u001b[0m\u001b[0;34m\u001b[0m\u001b[0;34m\u001b[0m\u001b[0m\n\u001b[0;32m--> 677\u001b[0;31m                 \u001b[0mchunked\u001b[0m\u001b[0;34m=\u001b[0m\u001b[0mchunked\u001b[0m\u001b[0;34m,\u001b[0m\u001b[0;34m\u001b[0m\u001b[0;34m\u001b[0m\u001b[0m\n\u001b[0m\u001b[1;32m    678\u001b[0m             )\n",
      "\u001b[0;32m/usr/local/lib/python3.7/site-packages/urllib3/connectionpool.py\u001b[0m in \u001b[0;36m_make_request\u001b[0;34m(self, conn, method, url, timeout, chunked, **httplib_request_kw)\u001b[0m\n\u001b[1;32m    427\u001b[0m         \u001b[0;32mexcept\u001b[0m \u001b[0;34m(\u001b[0m\u001b[0mSocketTimeout\u001b[0m\u001b[0;34m,\u001b[0m \u001b[0mBaseSSLError\u001b[0m\u001b[0;34m,\u001b[0m \u001b[0mSocketError\u001b[0m\u001b[0;34m)\u001b[0m \u001b[0;32mas\u001b[0m \u001b[0me\u001b[0m\u001b[0;34m:\u001b[0m\u001b[0;34m\u001b[0m\u001b[0;34m\u001b[0m\u001b[0m\n\u001b[0;32m--> 428\u001b[0;31m             \u001b[0mself\u001b[0m\u001b[0;34m.\u001b[0m\u001b[0m_raise_timeout\u001b[0m\u001b[0;34m(\u001b[0m\u001b[0merr\u001b[0m\u001b[0;34m=\u001b[0m\u001b[0me\u001b[0m\u001b[0;34m,\u001b[0m \u001b[0murl\u001b[0m\u001b[0;34m=\u001b[0m\u001b[0murl\u001b[0m\u001b[0;34m,\u001b[0m \u001b[0mtimeout_value\u001b[0m\u001b[0;34m=\u001b[0m\u001b[0mread_timeout\u001b[0m\u001b[0;34m)\u001b[0m\u001b[0;34m\u001b[0m\u001b[0;34m\u001b[0m\u001b[0m\n\u001b[0m\u001b[1;32m    429\u001b[0m             \u001b[0;32mraise\u001b[0m\u001b[0;34m\u001b[0m\u001b[0;34m\u001b[0m\u001b[0m\n",
      "\u001b[0;32m/usr/local/lib/python3.7/site-packages/urllib3/connectionpool.py\u001b[0m in \u001b[0;36m_raise_timeout\u001b[0;34m(self, err, url, timeout_value)\u001b[0m\n\u001b[1;32m    335\u001b[0m             raise ReadTimeoutError(\n\u001b[0;32m--> 336\u001b[0;31m                 \u001b[0mself\u001b[0m\u001b[0;34m,\u001b[0m \u001b[0murl\u001b[0m\u001b[0;34m,\u001b[0m \u001b[0;34m\"Read timed out. (read timeout=%s)\"\u001b[0m \u001b[0;34m%\u001b[0m \u001b[0mtimeout_value\u001b[0m\u001b[0;34m\u001b[0m\u001b[0;34m\u001b[0m\u001b[0m\n\u001b[0m\u001b[1;32m    337\u001b[0m             )\n",
      "\u001b[0;31mReadTimeoutError\u001b[0m: AWSHTTPSConnectionPool(host='runtime.sagemaker.eu-west-1.amazonaws.com', port=443): Read timed out. (read timeout=60)",
      "\nDuring handling of the above exception, another exception occurred:\n",
      "\u001b[0;31mReadTimeoutError\u001b[0m                          Traceback (most recent call last)",
      "\u001b[0;32m<ipython-input-122-fda59b6456b0>\u001b[0m in \u001b[0;36m<module>\u001b[0;34m\u001b[0m\n\u001b[1;32m      9\u001b[0m     \u001b[0mprint\u001b[0m\u001b[0;34m(\u001b[0m\u001b[0mtime\u001b[0m\u001b[0;34m.\u001b[0m\u001b[0mtime\u001b[0m\u001b[0;34m(\u001b[0m\u001b[0;34m)\u001b[0m\u001b[0;34m,\u001b[0m\u001b[0;34m'Running inference for video'\u001b[0m\u001b[0;34m,\u001b[0m\u001b[0mpayload\u001b[0m\u001b[0;34m,\u001b[0m\u001b[0;34m'on SageMaker endpoint'\u001b[0m\u001b[0;34m,\u001b[0m\u001b[0mtask\u001b[0m\u001b[0;34m)\u001b[0m\u001b[0;34m\u001b[0m\u001b[0;34m\u001b[0m\u001b[0m\n\u001b[1;32m     10\u001b[0m     \u001b[0msm_runtime\u001b[0m \u001b[0;34m=\u001b[0m \u001b[0mboto3\u001b[0m\u001b[0;34m.\u001b[0m\u001b[0mSession\u001b[0m\u001b[0;34m(\u001b[0m\u001b[0;34m)\u001b[0m\u001b[0;34m.\u001b[0m\u001b[0mclient\u001b[0m\u001b[0;34m(\u001b[0m\u001b[0;34m'sagemaker-runtime'\u001b[0m\u001b[0;34m)\u001b[0m\u001b[0;34m\u001b[0m\u001b[0;34m\u001b[0m\u001b[0m\n\u001b[0;32m---> 11\u001b[0;31m     \u001b[0mresponse\u001b[0m \u001b[0;34m=\u001b[0m \u001b[0msm_runtime\u001b[0m\u001b[0;34m.\u001b[0m\u001b[0minvoke_endpoint\u001b[0m\u001b[0;34m(\u001b[0m\u001b[0mEndpointName\u001b[0m\u001b[0;34m=\u001b[0m\u001b[0mtask\u001b[0m\u001b[0;34m,\u001b[0m \u001b[0mContentType\u001b[0m\u001b[0;34m=\u001b[0m\u001b[0;34m'application/json'\u001b[0m\u001b[0;34m,\u001b[0m\u001b[0mAccept\u001b[0m\u001b[0;34m=\u001b[0m\u001b[0;34m'application/json'\u001b[0m\u001b[0;34m,\u001b[0m\u001b[0mBody\u001b[0m\u001b[0;34m=\u001b[0m\u001b[0mjson\u001b[0m\u001b[0;34m.\u001b[0m\u001b[0mdumps\u001b[0m\u001b[0;34m(\u001b[0m\u001b[0mdata\u001b[0m\u001b[0;34m)\u001b[0m\u001b[0;34m)\u001b[0m\u001b[0;34m\u001b[0m\u001b[0;34m\u001b[0m\u001b[0m\n\u001b[0m\u001b[1;32m     12\u001b[0m     \u001b[0mresponse_body\u001b[0m \u001b[0;34m=\u001b[0m \u001b[0mjson\u001b[0m\u001b[0;34m.\u001b[0m\u001b[0mloads\u001b[0m\u001b[0;34m(\u001b[0m\u001b[0mresponse\u001b[0m\u001b[0;34m[\u001b[0m\u001b[0;34m'Body'\u001b[0m\u001b[0;34m]\u001b[0m\u001b[0;34m.\u001b[0m\u001b[0mread\u001b[0m\u001b[0;34m(\u001b[0m\u001b[0;34m)\u001b[0m\u001b[0;34m.\u001b[0m\u001b[0mdecode\u001b[0m\u001b[0;34m(\u001b[0m\u001b[0;34m'utf-8'\u001b[0m\u001b[0;34m)\u001b[0m\u001b[0;34m)\u001b[0m\u001b[0;34m\u001b[0m\u001b[0;34m\u001b[0m\u001b[0m\n\u001b[1;32m     13\u001b[0m     \u001b[0mprint\u001b[0m\u001b[0;34m(\u001b[0m\u001b[0mtime\u001b[0m\u001b[0;34m.\u001b[0m\u001b[0mtime\u001b[0m\u001b[0;34m(\u001b[0m\u001b[0;34m)\u001b[0m\u001b[0;34m,\u001b[0m\u001b[0mresponse_body\u001b[0m\u001b[0;34m)\u001b[0m\u001b[0;34m\u001b[0m\u001b[0;34m\u001b[0m\u001b[0m\n",
      "\u001b[0;32m/usr/local/lib/python3.7/site-packages/botocore/client.py\u001b[0m in \u001b[0;36m_api_call\u001b[0;34m(self, *args, **kwargs)\u001b[0m\n\u001b[1;32m    355\u001b[0m                     \"%s() only accepts keyword arguments.\" % py_operation_name)\n\u001b[1;32m    356\u001b[0m             \u001b[0;31m# The \"self\" in this scope is referring to the BaseClient.\u001b[0m\u001b[0;34m\u001b[0m\u001b[0;34m\u001b[0m\u001b[0;34m\u001b[0m\u001b[0m\n\u001b[0;32m--> 357\u001b[0;31m             \u001b[0;32mreturn\u001b[0m \u001b[0mself\u001b[0m\u001b[0;34m.\u001b[0m\u001b[0m_make_api_call\u001b[0m\u001b[0;34m(\u001b[0m\u001b[0moperation_name\u001b[0m\u001b[0;34m,\u001b[0m \u001b[0mkwargs\u001b[0m\u001b[0;34m)\u001b[0m\u001b[0;34m\u001b[0m\u001b[0;34m\u001b[0m\u001b[0m\n\u001b[0m\u001b[1;32m    358\u001b[0m \u001b[0;34m\u001b[0m\u001b[0m\n\u001b[1;32m    359\u001b[0m         \u001b[0m_api_call\u001b[0m\u001b[0;34m.\u001b[0m\u001b[0m__name__\u001b[0m \u001b[0;34m=\u001b[0m \u001b[0mstr\u001b[0m\u001b[0;34m(\u001b[0m\u001b[0mpy_operation_name\u001b[0m\u001b[0;34m)\u001b[0m\u001b[0;34m\u001b[0m\u001b[0;34m\u001b[0m\u001b[0m\n",
      "\u001b[0;32m/usr/local/lib/python3.7/site-packages/botocore/client.py\u001b[0m in \u001b[0;36m_make_api_call\u001b[0;34m(self, operation_name, api_params)\u001b[0m\n\u001b[1;32m    661\u001b[0m         \u001b[0;32melse\u001b[0m\u001b[0;34m:\u001b[0m\u001b[0;34m\u001b[0m\u001b[0;34m\u001b[0m\u001b[0m\n\u001b[1;32m    662\u001b[0m             http, parsed_response = self._make_request(\n\u001b[0;32m--> 663\u001b[0;31m                 operation_model, request_dict, request_context)\n\u001b[0m\u001b[1;32m    664\u001b[0m \u001b[0;34m\u001b[0m\u001b[0m\n\u001b[1;32m    665\u001b[0m         self.meta.events.emit(\n",
      "\u001b[0;32m/usr/local/lib/python3.7/site-packages/botocore/client.py\u001b[0m in \u001b[0;36m_make_request\u001b[0;34m(self, operation_model, request_dict, request_context)\u001b[0m\n\u001b[1;32m    680\u001b[0m     \u001b[0;32mdef\u001b[0m \u001b[0m_make_request\u001b[0m\u001b[0;34m(\u001b[0m\u001b[0mself\u001b[0m\u001b[0;34m,\u001b[0m \u001b[0moperation_model\u001b[0m\u001b[0;34m,\u001b[0m \u001b[0mrequest_dict\u001b[0m\u001b[0;34m,\u001b[0m \u001b[0mrequest_context\u001b[0m\u001b[0;34m)\u001b[0m\u001b[0;34m:\u001b[0m\u001b[0;34m\u001b[0m\u001b[0;34m\u001b[0m\u001b[0m\n\u001b[1;32m    681\u001b[0m         \u001b[0;32mtry\u001b[0m\u001b[0;34m:\u001b[0m\u001b[0;34m\u001b[0m\u001b[0;34m\u001b[0m\u001b[0m\n\u001b[0;32m--> 682\u001b[0;31m             \u001b[0;32mreturn\u001b[0m \u001b[0mself\u001b[0m\u001b[0;34m.\u001b[0m\u001b[0m_endpoint\u001b[0m\u001b[0;34m.\u001b[0m\u001b[0mmake_request\u001b[0m\u001b[0;34m(\u001b[0m\u001b[0moperation_model\u001b[0m\u001b[0;34m,\u001b[0m \u001b[0mrequest_dict\u001b[0m\u001b[0;34m)\u001b[0m\u001b[0;34m\u001b[0m\u001b[0;34m\u001b[0m\u001b[0m\n\u001b[0m\u001b[1;32m    683\u001b[0m         \u001b[0;32mexcept\u001b[0m \u001b[0mException\u001b[0m \u001b[0;32mas\u001b[0m \u001b[0me\u001b[0m\u001b[0;34m:\u001b[0m\u001b[0;34m\u001b[0m\u001b[0;34m\u001b[0m\u001b[0m\n\u001b[1;32m    684\u001b[0m             self.meta.events.emit(\n",
      "\u001b[0;32m/usr/local/lib/python3.7/site-packages/botocore/endpoint.py\u001b[0m in \u001b[0;36mmake_request\u001b[0;34m(self, operation_model, request_dict)\u001b[0m\n\u001b[1;32m    100\u001b[0m         logger.debug(\"Making request for %s with params: %s\",\n\u001b[1;32m    101\u001b[0m                      operation_model, request_dict)\n\u001b[0;32m--> 102\u001b[0;31m         \u001b[0;32mreturn\u001b[0m \u001b[0mself\u001b[0m\u001b[0;34m.\u001b[0m\u001b[0m_send_request\u001b[0m\u001b[0;34m(\u001b[0m\u001b[0mrequest_dict\u001b[0m\u001b[0;34m,\u001b[0m \u001b[0moperation_model\u001b[0m\u001b[0;34m)\u001b[0m\u001b[0;34m\u001b[0m\u001b[0;34m\u001b[0m\u001b[0m\n\u001b[0m\u001b[1;32m    103\u001b[0m \u001b[0;34m\u001b[0m\u001b[0m\n\u001b[1;32m    104\u001b[0m     \u001b[0;32mdef\u001b[0m \u001b[0mcreate_request\u001b[0m\u001b[0;34m(\u001b[0m\u001b[0mself\u001b[0m\u001b[0;34m,\u001b[0m \u001b[0mparams\u001b[0m\u001b[0;34m,\u001b[0m \u001b[0moperation_model\u001b[0m\u001b[0;34m=\u001b[0m\u001b[0;32mNone\u001b[0m\u001b[0;34m)\u001b[0m\u001b[0;34m:\u001b[0m\u001b[0;34m\u001b[0m\u001b[0;34m\u001b[0m\u001b[0m\n",
      "\u001b[0;32m/usr/local/lib/python3.7/site-packages/botocore/endpoint.py\u001b[0m in \u001b[0;36m_send_request\u001b[0;34m(self, request_dict, operation_model)\u001b[0m\n\u001b[1;32m    135\u001b[0m             request, operation_model, context)\n\u001b[1;32m    136\u001b[0m         while self._needs_retry(attempts, operation_model, request_dict,\n\u001b[0;32m--> 137\u001b[0;31m                                 success_response, exception):\n\u001b[0m\u001b[1;32m    138\u001b[0m             \u001b[0mattempts\u001b[0m \u001b[0;34m+=\u001b[0m \u001b[0;36m1\u001b[0m\u001b[0;34m\u001b[0m\u001b[0;34m\u001b[0m\u001b[0m\n\u001b[1;32m    139\u001b[0m             \u001b[0;31m# If there is a stream associated with the request, we need\u001b[0m\u001b[0;34m\u001b[0m\u001b[0;34m\u001b[0m\u001b[0;34m\u001b[0m\u001b[0m\n",
      "\u001b[0;32m/usr/local/lib/python3.7/site-packages/botocore/endpoint.py\u001b[0m in \u001b[0;36m_needs_retry\u001b[0;34m(self, attempts, operation_model, request_dict, response, caught_exception)\u001b[0m\n\u001b[1;32m    254\u001b[0m             \u001b[0mevent_name\u001b[0m\u001b[0;34m,\u001b[0m \u001b[0mresponse\u001b[0m\u001b[0;34m=\u001b[0m\u001b[0mresponse\u001b[0m\u001b[0;34m,\u001b[0m \u001b[0mendpoint\u001b[0m\u001b[0;34m=\u001b[0m\u001b[0mself\u001b[0m\u001b[0;34m,\u001b[0m\u001b[0;34m\u001b[0m\u001b[0;34m\u001b[0m\u001b[0m\n\u001b[1;32m    255\u001b[0m             \u001b[0moperation\u001b[0m\u001b[0;34m=\u001b[0m\u001b[0moperation_model\u001b[0m\u001b[0;34m,\u001b[0m \u001b[0mattempts\u001b[0m\u001b[0;34m=\u001b[0m\u001b[0mattempts\u001b[0m\u001b[0;34m,\u001b[0m\u001b[0;34m\u001b[0m\u001b[0;34m\u001b[0m\u001b[0m\n\u001b[0;32m--> 256\u001b[0;31m             caught_exception=caught_exception, request_dict=request_dict)\n\u001b[0m\u001b[1;32m    257\u001b[0m         \u001b[0mhandler_response\u001b[0m \u001b[0;34m=\u001b[0m \u001b[0mfirst_non_none_response\u001b[0m\u001b[0;34m(\u001b[0m\u001b[0mresponses\u001b[0m\u001b[0;34m)\u001b[0m\u001b[0;34m\u001b[0m\u001b[0;34m\u001b[0m\u001b[0m\n\u001b[1;32m    258\u001b[0m         \u001b[0;32mif\u001b[0m \u001b[0mhandler_response\u001b[0m \u001b[0;32mis\u001b[0m \u001b[0;32mNone\u001b[0m\u001b[0;34m:\u001b[0m\u001b[0;34m\u001b[0m\u001b[0;34m\u001b[0m\u001b[0m\n",
      "\u001b[0;32m/usr/local/lib/python3.7/site-packages/botocore/hooks.py\u001b[0m in \u001b[0;36memit\u001b[0;34m(self, event_name, **kwargs)\u001b[0m\n\u001b[1;32m    354\u001b[0m     \u001b[0;32mdef\u001b[0m \u001b[0memit\u001b[0m\u001b[0;34m(\u001b[0m\u001b[0mself\u001b[0m\u001b[0;34m,\u001b[0m \u001b[0mevent_name\u001b[0m\u001b[0;34m,\u001b[0m \u001b[0;34m**\u001b[0m\u001b[0mkwargs\u001b[0m\u001b[0;34m)\u001b[0m\u001b[0;34m:\u001b[0m\u001b[0;34m\u001b[0m\u001b[0;34m\u001b[0m\u001b[0m\n\u001b[1;32m    355\u001b[0m         \u001b[0maliased_event_name\u001b[0m \u001b[0;34m=\u001b[0m \u001b[0mself\u001b[0m\u001b[0;34m.\u001b[0m\u001b[0m_alias_event_name\u001b[0m\u001b[0;34m(\u001b[0m\u001b[0mevent_name\u001b[0m\u001b[0;34m)\u001b[0m\u001b[0;34m\u001b[0m\u001b[0;34m\u001b[0m\u001b[0m\n\u001b[0;32m--> 356\u001b[0;31m         \u001b[0;32mreturn\u001b[0m \u001b[0mself\u001b[0m\u001b[0;34m.\u001b[0m\u001b[0m_emitter\u001b[0m\u001b[0;34m.\u001b[0m\u001b[0memit\u001b[0m\u001b[0;34m(\u001b[0m\u001b[0maliased_event_name\u001b[0m\u001b[0;34m,\u001b[0m \u001b[0;34m**\u001b[0m\u001b[0mkwargs\u001b[0m\u001b[0;34m)\u001b[0m\u001b[0;34m\u001b[0m\u001b[0;34m\u001b[0m\u001b[0m\n\u001b[0m\u001b[1;32m    357\u001b[0m \u001b[0;34m\u001b[0m\u001b[0m\n\u001b[1;32m    358\u001b[0m     \u001b[0;32mdef\u001b[0m \u001b[0memit_until_response\u001b[0m\u001b[0;34m(\u001b[0m\u001b[0mself\u001b[0m\u001b[0;34m,\u001b[0m \u001b[0mevent_name\u001b[0m\u001b[0;34m,\u001b[0m \u001b[0;34m**\u001b[0m\u001b[0mkwargs\u001b[0m\u001b[0;34m)\u001b[0m\u001b[0;34m:\u001b[0m\u001b[0;34m\u001b[0m\u001b[0;34m\u001b[0m\u001b[0m\n",
      "\u001b[0;32m/usr/local/lib/python3.7/site-packages/botocore/hooks.py\u001b[0m in \u001b[0;36memit\u001b[0;34m(self, event_name, **kwargs)\u001b[0m\n\u001b[1;32m    226\u001b[0m                  \u001b[0mhandlers\u001b[0m\u001b[0;34m.\u001b[0m\u001b[0;34m\u001b[0m\u001b[0;34m\u001b[0m\u001b[0m\n\u001b[1;32m    227\u001b[0m         \"\"\"\n\u001b[0;32m--> 228\u001b[0;31m         \u001b[0;32mreturn\u001b[0m \u001b[0mself\u001b[0m\u001b[0;34m.\u001b[0m\u001b[0m_emit\u001b[0m\u001b[0;34m(\u001b[0m\u001b[0mevent_name\u001b[0m\u001b[0;34m,\u001b[0m \u001b[0mkwargs\u001b[0m\u001b[0;34m)\u001b[0m\u001b[0;34m\u001b[0m\u001b[0;34m\u001b[0m\u001b[0m\n\u001b[0m\u001b[1;32m    229\u001b[0m \u001b[0;34m\u001b[0m\u001b[0m\n\u001b[1;32m    230\u001b[0m     \u001b[0;32mdef\u001b[0m \u001b[0memit_until_response\u001b[0m\u001b[0;34m(\u001b[0m\u001b[0mself\u001b[0m\u001b[0;34m,\u001b[0m \u001b[0mevent_name\u001b[0m\u001b[0;34m,\u001b[0m \u001b[0;34m**\u001b[0m\u001b[0mkwargs\u001b[0m\u001b[0;34m)\u001b[0m\u001b[0;34m:\u001b[0m\u001b[0;34m\u001b[0m\u001b[0;34m\u001b[0m\u001b[0m\n",
      "\u001b[0;32m/usr/local/lib/python3.7/site-packages/botocore/hooks.py\u001b[0m in \u001b[0;36m_emit\u001b[0;34m(self, event_name, kwargs, stop_on_response)\u001b[0m\n\u001b[1;32m    209\u001b[0m         \u001b[0;32mfor\u001b[0m \u001b[0mhandler\u001b[0m \u001b[0;32min\u001b[0m \u001b[0mhandlers_to_call\u001b[0m\u001b[0;34m:\u001b[0m\u001b[0;34m\u001b[0m\u001b[0;34m\u001b[0m\u001b[0m\n\u001b[1;32m    210\u001b[0m             \u001b[0mlogger\u001b[0m\u001b[0;34m.\u001b[0m\u001b[0mdebug\u001b[0m\u001b[0;34m(\u001b[0m\u001b[0;34m'Event %s: calling handler %s'\u001b[0m\u001b[0;34m,\u001b[0m \u001b[0mevent_name\u001b[0m\u001b[0;34m,\u001b[0m \u001b[0mhandler\u001b[0m\u001b[0;34m)\u001b[0m\u001b[0;34m\u001b[0m\u001b[0;34m\u001b[0m\u001b[0m\n\u001b[0;32m--> 211\u001b[0;31m             \u001b[0mresponse\u001b[0m \u001b[0;34m=\u001b[0m \u001b[0mhandler\u001b[0m\u001b[0;34m(\u001b[0m\u001b[0;34m**\u001b[0m\u001b[0mkwargs\u001b[0m\u001b[0;34m)\u001b[0m\u001b[0;34m\u001b[0m\u001b[0;34m\u001b[0m\u001b[0m\n\u001b[0m\u001b[1;32m    212\u001b[0m             \u001b[0mresponses\u001b[0m\u001b[0;34m.\u001b[0m\u001b[0mappend\u001b[0m\u001b[0;34m(\u001b[0m\u001b[0;34m(\u001b[0m\u001b[0mhandler\u001b[0m\u001b[0;34m,\u001b[0m \u001b[0mresponse\u001b[0m\u001b[0;34m)\u001b[0m\u001b[0;34m)\u001b[0m\u001b[0;34m\u001b[0m\u001b[0;34m\u001b[0m\u001b[0m\n\u001b[1;32m    213\u001b[0m             \u001b[0;32mif\u001b[0m \u001b[0mstop_on_response\u001b[0m \u001b[0;32mand\u001b[0m \u001b[0mresponse\u001b[0m \u001b[0;32mis\u001b[0m \u001b[0;32mnot\u001b[0m \u001b[0;32mNone\u001b[0m\u001b[0;34m:\u001b[0m\u001b[0;34m\u001b[0m\u001b[0;34m\u001b[0m\u001b[0m\n",
      "\u001b[0;32m/usr/local/lib/python3.7/site-packages/botocore/retryhandler.py\u001b[0m in \u001b[0;36m__call__\u001b[0;34m(self, attempts, response, caught_exception, **kwargs)\u001b[0m\n\u001b[1;32m    181\u001b[0m \u001b[0;34m\u001b[0m\u001b[0m\n\u001b[1;32m    182\u001b[0m         \"\"\"\n\u001b[0;32m--> 183\u001b[0;31m         \u001b[0;32mif\u001b[0m \u001b[0mself\u001b[0m\u001b[0;34m.\u001b[0m\u001b[0m_checker\u001b[0m\u001b[0;34m(\u001b[0m\u001b[0mattempts\u001b[0m\u001b[0;34m,\u001b[0m \u001b[0mresponse\u001b[0m\u001b[0;34m,\u001b[0m \u001b[0mcaught_exception\u001b[0m\u001b[0;34m)\u001b[0m\u001b[0;34m:\u001b[0m\u001b[0;34m\u001b[0m\u001b[0;34m\u001b[0m\u001b[0m\n\u001b[0m\u001b[1;32m    184\u001b[0m             \u001b[0mresult\u001b[0m \u001b[0;34m=\u001b[0m \u001b[0mself\u001b[0m\u001b[0;34m.\u001b[0m\u001b[0m_action\u001b[0m\u001b[0;34m(\u001b[0m\u001b[0mattempts\u001b[0m\u001b[0;34m=\u001b[0m\u001b[0mattempts\u001b[0m\u001b[0;34m)\u001b[0m\u001b[0;34m\u001b[0m\u001b[0;34m\u001b[0m\u001b[0m\n\u001b[1;32m    185\u001b[0m             \u001b[0mlogger\u001b[0m\u001b[0;34m.\u001b[0m\u001b[0mdebug\u001b[0m\u001b[0;34m(\u001b[0m\u001b[0;34m\"Retry needed, action of: %s\"\u001b[0m\u001b[0;34m,\u001b[0m \u001b[0mresult\u001b[0m\u001b[0;34m)\u001b[0m\u001b[0;34m\u001b[0m\u001b[0;34m\u001b[0m\u001b[0m\n",
      "\u001b[0;32m/usr/local/lib/python3.7/site-packages/botocore/retryhandler.py\u001b[0m in \u001b[0;36m__call__\u001b[0;34m(self, attempt_number, response, caught_exception)\u001b[0m\n\u001b[1;32m    249\u001b[0m     \u001b[0;32mdef\u001b[0m \u001b[0m__call__\u001b[0m\u001b[0;34m(\u001b[0m\u001b[0mself\u001b[0m\u001b[0;34m,\u001b[0m \u001b[0mattempt_number\u001b[0m\u001b[0;34m,\u001b[0m \u001b[0mresponse\u001b[0m\u001b[0;34m,\u001b[0m \u001b[0mcaught_exception\u001b[0m\u001b[0;34m)\u001b[0m\u001b[0;34m:\u001b[0m\u001b[0;34m\u001b[0m\u001b[0;34m\u001b[0m\u001b[0m\n\u001b[1;32m    250\u001b[0m         should_retry = self._should_retry(attempt_number, response,\n\u001b[0;32m--> 251\u001b[0;31m                                           caught_exception)\n\u001b[0m\u001b[1;32m    252\u001b[0m         \u001b[0;32mif\u001b[0m \u001b[0mshould_retry\u001b[0m\u001b[0;34m:\u001b[0m\u001b[0;34m\u001b[0m\u001b[0;34m\u001b[0m\u001b[0m\n\u001b[1;32m    253\u001b[0m             \u001b[0;32mif\u001b[0m \u001b[0mattempt_number\u001b[0m \u001b[0;34m>=\u001b[0m \u001b[0mself\u001b[0m\u001b[0;34m.\u001b[0m\u001b[0m_max_attempts\u001b[0m\u001b[0;34m:\u001b[0m\u001b[0;34m\u001b[0m\u001b[0;34m\u001b[0m\u001b[0m\n",
      "\u001b[0;32m/usr/local/lib/python3.7/site-packages/botocore/retryhandler.py\u001b[0m in \u001b[0;36m_should_retry\u001b[0;34m(self, attempt_number, response, caught_exception)\u001b[0m\n\u001b[1;32m    275\u001b[0m             \u001b[0;31m# If we've exceeded the max attempts we just let the exception\u001b[0m\u001b[0;34m\u001b[0m\u001b[0;34m\u001b[0m\u001b[0;34m\u001b[0m\u001b[0m\n\u001b[1;32m    276\u001b[0m             \u001b[0;31m# propogate if one has occurred.\u001b[0m\u001b[0;34m\u001b[0m\u001b[0;34m\u001b[0m\u001b[0;34m\u001b[0m\u001b[0m\n\u001b[0;32m--> 277\u001b[0;31m             \u001b[0;32mreturn\u001b[0m \u001b[0mself\u001b[0m\u001b[0;34m.\u001b[0m\u001b[0m_checker\u001b[0m\u001b[0;34m(\u001b[0m\u001b[0mattempt_number\u001b[0m\u001b[0;34m,\u001b[0m \u001b[0mresponse\u001b[0m\u001b[0;34m,\u001b[0m \u001b[0mcaught_exception\u001b[0m\u001b[0;34m)\u001b[0m\u001b[0;34m\u001b[0m\u001b[0;34m\u001b[0m\u001b[0m\n\u001b[0m\u001b[1;32m    278\u001b[0m \u001b[0;34m\u001b[0m\u001b[0m\n\u001b[1;32m    279\u001b[0m \u001b[0;34m\u001b[0m\u001b[0m\n",
      "\u001b[0;32m/usr/local/lib/python3.7/site-packages/botocore/retryhandler.py\u001b[0m in \u001b[0;36m__call__\u001b[0;34m(self, attempt_number, response, caught_exception)\u001b[0m\n\u001b[1;32m    315\u001b[0m         \u001b[0;32mfor\u001b[0m \u001b[0mchecker\u001b[0m \u001b[0;32min\u001b[0m \u001b[0mself\u001b[0m\u001b[0;34m.\u001b[0m\u001b[0m_checkers\u001b[0m\u001b[0;34m:\u001b[0m\u001b[0;34m\u001b[0m\u001b[0;34m\u001b[0m\u001b[0m\n\u001b[1;32m    316\u001b[0m             checker_response = checker(attempt_number, response,\n\u001b[0;32m--> 317\u001b[0;31m                                        caught_exception)\n\u001b[0m\u001b[1;32m    318\u001b[0m             \u001b[0;32mif\u001b[0m \u001b[0mchecker_response\u001b[0m\u001b[0;34m:\u001b[0m\u001b[0;34m\u001b[0m\u001b[0;34m\u001b[0m\u001b[0m\n\u001b[1;32m    319\u001b[0m                 \u001b[0;32mreturn\u001b[0m \u001b[0mchecker_response\u001b[0m\u001b[0;34m\u001b[0m\u001b[0;34m\u001b[0m\u001b[0m\n",
      "\u001b[0;32m/usr/local/lib/python3.7/site-packages/botocore/retryhandler.py\u001b[0m in \u001b[0;36m__call__\u001b[0;34m(self, attempt_number, response, caught_exception)\u001b[0m\n\u001b[1;32m    221\u001b[0m         \u001b[0;32melif\u001b[0m \u001b[0mcaught_exception\u001b[0m \u001b[0;32mis\u001b[0m \u001b[0;32mnot\u001b[0m \u001b[0;32mNone\u001b[0m\u001b[0;34m:\u001b[0m\u001b[0;34m\u001b[0m\u001b[0;34m\u001b[0m\u001b[0m\n\u001b[1;32m    222\u001b[0m             return self._check_caught_exception(\n\u001b[0;32m--> 223\u001b[0;31m                 attempt_number, caught_exception)\n\u001b[0m\u001b[1;32m    224\u001b[0m         \u001b[0;32melse\u001b[0m\u001b[0;34m:\u001b[0m\u001b[0;34m\u001b[0m\u001b[0;34m\u001b[0m\u001b[0m\n\u001b[1;32m    225\u001b[0m             \u001b[0;32mraise\u001b[0m \u001b[0mValueError\u001b[0m\u001b[0;34m(\u001b[0m\u001b[0;34m\"Both response and caught_exception are None.\"\u001b[0m\u001b[0;34m)\u001b[0m\u001b[0;34m\u001b[0m\u001b[0;34m\u001b[0m\u001b[0m\n",
      "\u001b[0;32m/usr/local/lib/python3.7/site-packages/botocore/retryhandler.py\u001b[0m in \u001b[0;36m_check_caught_exception\u001b[0;34m(self, attempt_number, caught_exception)\u001b[0m\n\u001b[1;32m    357\u001b[0m         \u001b[0;31m# the MaxAttemptsDecorator is not interested in retrying the exception\u001b[0m\u001b[0;34m\u001b[0m\u001b[0;34m\u001b[0m\u001b[0;34m\u001b[0m\u001b[0m\n\u001b[1;32m    358\u001b[0m         \u001b[0;31m# then this exception just propogates out past the retry code.\u001b[0m\u001b[0;34m\u001b[0m\u001b[0;34m\u001b[0m\u001b[0;34m\u001b[0m\u001b[0m\n\u001b[0;32m--> 359\u001b[0;31m         \u001b[0;32mraise\u001b[0m \u001b[0mcaught_exception\u001b[0m\u001b[0;34m\u001b[0m\u001b[0;34m\u001b[0m\u001b[0m\n\u001b[0m",
      "\u001b[0;32m/usr/local/lib/python3.7/site-packages/botocore/endpoint.py\u001b[0m in \u001b[0;36m_do_get_response\u001b[0;34m(self, request, operation_model)\u001b[0m\n\u001b[1;32m    198\u001b[0m             \u001b[0mhttp_response\u001b[0m \u001b[0;34m=\u001b[0m \u001b[0mfirst_non_none_response\u001b[0m\u001b[0;34m(\u001b[0m\u001b[0mresponses\u001b[0m\u001b[0;34m)\u001b[0m\u001b[0;34m\u001b[0m\u001b[0;34m\u001b[0m\u001b[0m\n\u001b[1;32m    199\u001b[0m             \u001b[0;32mif\u001b[0m \u001b[0mhttp_response\u001b[0m \u001b[0;32mis\u001b[0m \u001b[0;32mNone\u001b[0m\u001b[0;34m:\u001b[0m\u001b[0;34m\u001b[0m\u001b[0;34m\u001b[0m\u001b[0m\n\u001b[0;32m--> 200\u001b[0;31m                 \u001b[0mhttp_response\u001b[0m \u001b[0;34m=\u001b[0m \u001b[0mself\u001b[0m\u001b[0;34m.\u001b[0m\u001b[0m_send\u001b[0m\u001b[0;34m(\u001b[0m\u001b[0mrequest\u001b[0m\u001b[0;34m)\u001b[0m\u001b[0;34m\u001b[0m\u001b[0;34m\u001b[0m\u001b[0m\n\u001b[0m\u001b[1;32m    201\u001b[0m         \u001b[0;32mexcept\u001b[0m \u001b[0mHTTPClientError\u001b[0m \u001b[0;32mas\u001b[0m \u001b[0me\u001b[0m\u001b[0;34m:\u001b[0m\u001b[0;34m\u001b[0m\u001b[0;34m\u001b[0m\u001b[0m\n\u001b[1;32m    202\u001b[0m             \u001b[0;32mreturn\u001b[0m \u001b[0;34m(\u001b[0m\u001b[0;32mNone\u001b[0m\u001b[0;34m,\u001b[0m \u001b[0me\u001b[0m\u001b[0;34m)\u001b[0m\u001b[0;34m\u001b[0m\u001b[0;34m\u001b[0m\u001b[0m\n",
      "\u001b[0;32m/usr/local/lib/python3.7/site-packages/botocore/endpoint.py\u001b[0m in \u001b[0;36m_send\u001b[0;34m(self, request)\u001b[0m\n\u001b[1;32m    267\u001b[0m \u001b[0;34m\u001b[0m\u001b[0m\n\u001b[1;32m    268\u001b[0m     \u001b[0;32mdef\u001b[0m \u001b[0m_send\u001b[0m\u001b[0;34m(\u001b[0m\u001b[0mself\u001b[0m\u001b[0;34m,\u001b[0m \u001b[0mrequest\u001b[0m\u001b[0;34m)\u001b[0m\u001b[0;34m:\u001b[0m\u001b[0;34m\u001b[0m\u001b[0;34m\u001b[0m\u001b[0m\n\u001b[0;32m--> 269\u001b[0;31m         \u001b[0;32mreturn\u001b[0m \u001b[0mself\u001b[0m\u001b[0;34m.\u001b[0m\u001b[0mhttp_session\u001b[0m\u001b[0;34m.\u001b[0m\u001b[0msend\u001b[0m\u001b[0;34m(\u001b[0m\u001b[0mrequest\u001b[0m\u001b[0;34m)\u001b[0m\u001b[0;34m\u001b[0m\u001b[0;34m\u001b[0m\u001b[0m\n\u001b[0m\u001b[1;32m    270\u001b[0m \u001b[0;34m\u001b[0m\u001b[0m\n\u001b[1;32m    271\u001b[0m \u001b[0;34m\u001b[0m\u001b[0m\n",
      "\u001b[0;32m/usr/local/lib/python3.7/site-packages/botocore/httpsession.py\u001b[0m in \u001b[0;36msend\u001b[0;34m(self, request)\u001b[0m\n\u001b[1;32m    287\u001b[0m             \u001b[0;32mraise\u001b[0m \u001b[0mConnectTimeoutError\u001b[0m\u001b[0;34m(\u001b[0m\u001b[0mendpoint_url\u001b[0m\u001b[0;34m=\u001b[0m\u001b[0mrequest\u001b[0m\u001b[0;34m.\u001b[0m\u001b[0murl\u001b[0m\u001b[0;34m,\u001b[0m \u001b[0merror\u001b[0m\u001b[0;34m=\u001b[0m\u001b[0me\u001b[0m\u001b[0;34m)\u001b[0m\u001b[0;34m\u001b[0m\u001b[0;34m\u001b[0m\u001b[0m\n\u001b[1;32m    288\u001b[0m         \u001b[0;32mexcept\u001b[0m \u001b[0mURLLib3ReadTimeoutError\u001b[0m \u001b[0;32mas\u001b[0m \u001b[0me\u001b[0m\u001b[0;34m:\u001b[0m\u001b[0;34m\u001b[0m\u001b[0;34m\u001b[0m\u001b[0m\n\u001b[0;32m--> 289\u001b[0;31m             \u001b[0;32mraise\u001b[0m \u001b[0mReadTimeoutError\u001b[0m\u001b[0;34m(\u001b[0m\u001b[0mendpoint_url\u001b[0m\u001b[0;34m=\u001b[0m\u001b[0mrequest\u001b[0m\u001b[0;34m.\u001b[0m\u001b[0murl\u001b[0m\u001b[0;34m,\u001b[0m \u001b[0merror\u001b[0m\u001b[0;34m=\u001b[0m\u001b[0me\u001b[0m\u001b[0;34m)\u001b[0m\u001b[0;34m\u001b[0m\u001b[0;34m\u001b[0m\u001b[0m\n\u001b[0m\u001b[1;32m    290\u001b[0m         \u001b[0;32mexcept\u001b[0m \u001b[0mProtocolError\u001b[0m \u001b[0;32mas\u001b[0m \u001b[0me\u001b[0m\u001b[0;34m:\u001b[0m\u001b[0;34m\u001b[0m\u001b[0;34m\u001b[0m\u001b[0m\n\u001b[1;32m    291\u001b[0m             raise ConnectionClosedError(\n",
      "\u001b[0;31mReadTimeoutError\u001b[0m: Read timeout on endpoint URL: \"https://runtime.sagemaker.eu-west-1.amazonaws.com/endpoints/football4/invocations\""
     ]
    }
   ],
   "source": [
    "#Evaluate local videos:\n",
    "eval_videos = glob.glob(\"../sample_media/Football2_5s_224p.mp4\")\n",
    "print('Sample videos found:',eval_videos)\n",
    "    \n",
    "for i in eval_videos:\n",
    "    payload = sagemaker_session.upload_data(path=i, key_prefix=inf_prefix)\n",
    "    S3_VIDEO_PATH = payload\n",
    "    data = {'S3_VIDEO_PATH': S3_VIDEO_PATH,}\n",
    "    print(time.time(),'Running inference for video',payload,'on SageMaker endpoint',task)\n",
    "    sm_runtime = boto3.Session().client('sagemaker-runtime')\n",
    "    response = sm_runtime.invoke_endpoint(EndpointName=task, ContentType='application/json',Accept='application/json',Body=json.dumps(data))\n",
    "    response_body = json.loads(response['Body'].read().decode('utf-8'))\n",
    "    print(time.time(),response_body)"
   ]
  },
  {
   "cell_type": "code",
   "execution_count": 87,
   "metadata": {},
   "outputs": [
    {
     "name": "stdout",
     "output_type": "stream",
     "text": [
      "1612640870.5028923 Running inference for video Football4_321.mp4 on SageMaker endpoint football4\n"
     ]
    },
    {
     "ename": "ModelError",
     "evalue": "An error occurred (ModelError) when calling the InvokeEndpoint operation: Received server error (500) from model with message \"Traceback (most recent call last):\n  File \"../src/operator/nn/./cudnn/cudnn_convolution-inl.h\", line 507\ncuDNN: Check failed: e == CUDNN_STATUS_SUCCESS (2 vs. 0) : CUDNN_STATUS_ALLOC_FAILED\nTraceback (most recent call last):\n  File \"/usr/local/lib/python3.7/site-packages/sagemaker_inference/transformer.py\", line 126, in transform\n    result = self._transform_fn(self._model, input_data, content_type, accept)\n  File \"/opt/ml/model/code/gluoncv_inference_i3d.py\", line 56, in transform_fn\n    predicted = mx.nd.argmax(probs, axis=1).asnumpy().tolist()[0]\n  File \"/usr/local/lib/python3.7/site-packages/mxnet/ndarray/ndarray.py\", line 2566, in asnumpy\n    ctypes.c_size_t(data.size)))\n  File \"/usr/local/lib/python3.7/site-packages/mxnet/base.py\", line 246, in check_call\n    raise get_last_ffi_error()\nmxnet.base.MXNetError: Traceback (most recent call last):\n  File \"../src/operator/nn/./cudnn/cudnn_convolution-inl.h\", line 507\ncuDNN: Check failed: e == CUDNN_STATUS_SUCCESS (2 vs. 0) : CUDNN_STATUS_ALLOC_FAILED\n\". See https://eu-west-1.console.aws.amazon.com/cloudwatch/home?region=eu-west-1#logEventViewer:group=/aws/sagemaker/Endpoints/football4 in account 889960878219 for more information.",
     "output_type": "error",
     "traceback": [
      "\u001b[0;31m---------------------------------------------------------------------------\u001b[0m",
      "\u001b[0;31mModelError\u001b[0m                                Traceback (most recent call last)",
      "\u001b[0;32m<ipython-input-87-961c4bdc87be>\u001b[0m in \u001b[0;36m<module>\u001b[0;34m\u001b[0m\n\u001b[1;32m     17\u001b[0m     \u001b[0mprint\u001b[0m\u001b[0;34m(\u001b[0m\u001b[0mtime\u001b[0m\u001b[0;34m.\u001b[0m\u001b[0mtime\u001b[0m\u001b[0;34m(\u001b[0m\u001b[0;34m)\u001b[0m\u001b[0;34m,\u001b[0m\u001b[0;34m'Running inference for video'\u001b[0m\u001b[0;34m,\u001b[0m\u001b[0mi\u001b[0m\u001b[0;34m,\u001b[0m\u001b[0;34m'on SageMaker endpoint'\u001b[0m\u001b[0;34m,\u001b[0m\u001b[0mtask\u001b[0m\u001b[0;34m)\u001b[0m\u001b[0;34m\u001b[0m\u001b[0;34m\u001b[0m\u001b[0m\n\u001b[1;32m     18\u001b[0m     \u001b[0msm_runtime\u001b[0m \u001b[0;34m=\u001b[0m \u001b[0mboto3\u001b[0m\u001b[0;34m.\u001b[0m\u001b[0mSession\u001b[0m\u001b[0;34m(\u001b[0m\u001b[0;34m)\u001b[0m\u001b[0;34m.\u001b[0m\u001b[0mclient\u001b[0m\u001b[0;34m(\u001b[0m\u001b[0;34m'sagemaker-runtime'\u001b[0m\u001b[0;34m)\u001b[0m\u001b[0;34m\u001b[0m\u001b[0;34m\u001b[0m\u001b[0m\n\u001b[0;32m---> 19\u001b[0;31m     \u001b[0mresponse\u001b[0m \u001b[0;34m=\u001b[0m \u001b[0msm_runtime\u001b[0m\u001b[0;34m.\u001b[0m\u001b[0minvoke_endpoint\u001b[0m\u001b[0;34m(\u001b[0m\u001b[0mEndpointName\u001b[0m\u001b[0;34m=\u001b[0m\u001b[0mtask\u001b[0m\u001b[0;34m,\u001b[0m \u001b[0mContentType\u001b[0m\u001b[0;34m=\u001b[0m\u001b[0;34m'application/json'\u001b[0m\u001b[0;34m,\u001b[0m\u001b[0mAccept\u001b[0m\u001b[0;34m=\u001b[0m\u001b[0;34m'application/json'\u001b[0m\u001b[0;34m,\u001b[0m\u001b[0mBody\u001b[0m\u001b[0;34m=\u001b[0m\u001b[0mjson\u001b[0m\u001b[0;34m.\u001b[0m\u001b[0mdumps\u001b[0m\u001b[0;34m(\u001b[0m\u001b[0mdata\u001b[0m\u001b[0;34m)\u001b[0m\u001b[0;34m)\u001b[0m\u001b[0;34m\u001b[0m\u001b[0;34m\u001b[0m\u001b[0m\n\u001b[0m\u001b[1;32m     20\u001b[0m     \u001b[0mresponse_body\u001b[0m \u001b[0;34m=\u001b[0m \u001b[0mjson\u001b[0m\u001b[0;34m.\u001b[0m\u001b[0mloads\u001b[0m\u001b[0;34m(\u001b[0m\u001b[0mresponse\u001b[0m\u001b[0;34m[\u001b[0m\u001b[0;34m'Body'\u001b[0m\u001b[0;34m]\u001b[0m\u001b[0;34m.\u001b[0m\u001b[0mread\u001b[0m\u001b[0;34m(\u001b[0m\u001b[0;34m)\u001b[0m\u001b[0;34m.\u001b[0m\u001b[0mdecode\u001b[0m\u001b[0;34m(\u001b[0m\u001b[0;34m'utf-8'\u001b[0m\u001b[0;34m)\u001b[0m\u001b[0;34m)\u001b[0m\u001b[0;34m\u001b[0m\u001b[0;34m\u001b[0m\u001b[0m\n\u001b[1;32m     21\u001b[0m     \u001b[0mprint\u001b[0m\u001b[0;34m(\u001b[0m\u001b[0mtime\u001b[0m\u001b[0;34m.\u001b[0m\u001b[0mtime\u001b[0m\u001b[0;34m(\u001b[0m\u001b[0;34m)\u001b[0m\u001b[0;34m,\u001b[0m\u001b[0mresponse_body\u001b[0m\u001b[0;34m)\u001b[0m\u001b[0;34m\u001b[0m\u001b[0;34m\u001b[0m\u001b[0m\n",
      "\u001b[0;32m/usr/local/lib/python3.7/site-packages/botocore/client.py\u001b[0m in \u001b[0;36m_api_call\u001b[0;34m(self, *args, **kwargs)\u001b[0m\n\u001b[1;32m    355\u001b[0m                     \"%s() only accepts keyword arguments.\" % py_operation_name)\n\u001b[1;32m    356\u001b[0m             \u001b[0;31m# The \"self\" in this scope is referring to the BaseClient.\u001b[0m\u001b[0;34m\u001b[0m\u001b[0;34m\u001b[0m\u001b[0;34m\u001b[0m\u001b[0m\n\u001b[0;32m--> 357\u001b[0;31m             \u001b[0;32mreturn\u001b[0m \u001b[0mself\u001b[0m\u001b[0;34m.\u001b[0m\u001b[0m_make_api_call\u001b[0m\u001b[0;34m(\u001b[0m\u001b[0moperation_name\u001b[0m\u001b[0;34m,\u001b[0m \u001b[0mkwargs\u001b[0m\u001b[0;34m)\u001b[0m\u001b[0;34m\u001b[0m\u001b[0;34m\u001b[0m\u001b[0m\n\u001b[0m\u001b[1;32m    358\u001b[0m \u001b[0;34m\u001b[0m\u001b[0m\n\u001b[1;32m    359\u001b[0m         \u001b[0m_api_call\u001b[0m\u001b[0;34m.\u001b[0m\u001b[0m__name__\u001b[0m \u001b[0;34m=\u001b[0m \u001b[0mstr\u001b[0m\u001b[0;34m(\u001b[0m\u001b[0mpy_operation_name\u001b[0m\u001b[0;34m)\u001b[0m\u001b[0;34m\u001b[0m\u001b[0;34m\u001b[0m\u001b[0m\n",
      "\u001b[0;32m/usr/local/lib/python3.7/site-packages/botocore/client.py\u001b[0m in \u001b[0;36m_make_api_call\u001b[0;34m(self, operation_name, api_params)\u001b[0m\n\u001b[1;32m    674\u001b[0m             \u001b[0merror_code\u001b[0m \u001b[0;34m=\u001b[0m \u001b[0mparsed_response\u001b[0m\u001b[0;34m.\u001b[0m\u001b[0mget\u001b[0m\u001b[0;34m(\u001b[0m\u001b[0;34m\"Error\"\u001b[0m\u001b[0;34m,\u001b[0m \u001b[0;34m{\u001b[0m\u001b[0;34m}\u001b[0m\u001b[0;34m)\u001b[0m\u001b[0;34m.\u001b[0m\u001b[0mget\u001b[0m\u001b[0;34m(\u001b[0m\u001b[0;34m\"Code\"\u001b[0m\u001b[0;34m)\u001b[0m\u001b[0;34m\u001b[0m\u001b[0;34m\u001b[0m\u001b[0m\n\u001b[1;32m    675\u001b[0m             \u001b[0merror_class\u001b[0m \u001b[0;34m=\u001b[0m \u001b[0mself\u001b[0m\u001b[0;34m.\u001b[0m\u001b[0mexceptions\u001b[0m\u001b[0;34m.\u001b[0m\u001b[0mfrom_code\u001b[0m\u001b[0;34m(\u001b[0m\u001b[0merror_code\u001b[0m\u001b[0;34m)\u001b[0m\u001b[0;34m\u001b[0m\u001b[0;34m\u001b[0m\u001b[0m\n\u001b[0;32m--> 676\u001b[0;31m             \u001b[0;32mraise\u001b[0m \u001b[0merror_class\u001b[0m\u001b[0;34m(\u001b[0m\u001b[0mparsed_response\u001b[0m\u001b[0;34m,\u001b[0m \u001b[0moperation_name\u001b[0m\u001b[0;34m)\u001b[0m\u001b[0;34m\u001b[0m\u001b[0;34m\u001b[0m\u001b[0m\n\u001b[0m\u001b[1;32m    677\u001b[0m         \u001b[0;32melse\u001b[0m\u001b[0;34m:\u001b[0m\u001b[0;34m\u001b[0m\u001b[0;34m\u001b[0m\u001b[0m\n\u001b[1;32m    678\u001b[0m             \u001b[0;32mreturn\u001b[0m \u001b[0mparsed_response\u001b[0m\u001b[0;34m\u001b[0m\u001b[0;34m\u001b[0m\u001b[0m\n",
      "\u001b[0;31mModelError\u001b[0m: An error occurred (ModelError) when calling the InvokeEndpoint operation: Received server error (500) from model with message \"Traceback (most recent call last):\n  File \"../src/operator/nn/./cudnn/cudnn_convolution-inl.h\", line 507\ncuDNN: Check failed: e == CUDNN_STATUS_SUCCESS (2 vs. 0) : CUDNN_STATUS_ALLOC_FAILED\nTraceback (most recent call last):\n  File \"/usr/local/lib/python3.7/site-packages/sagemaker_inference/transformer.py\", line 126, in transform\n    result = self._transform_fn(self._model, input_data, content_type, accept)\n  File \"/opt/ml/model/code/gluoncv_inference_i3d.py\", line 56, in transform_fn\n    predicted = mx.nd.argmax(probs, axis=1).asnumpy().tolist()[0]\n  File \"/usr/local/lib/python3.7/site-packages/mxnet/ndarray/ndarray.py\", line 2566, in asnumpy\n    ctypes.c_size_t(data.size)))\n  File \"/usr/local/lib/python3.7/site-packages/mxnet/base.py\", line 246, in check_call\n    raise get_last_ffi_error()\nmxnet.base.MXNetError: Traceback (most recent call last):\n  File \"../src/operator/nn/./cudnn/cudnn_convolution-inl.h\", line 507\ncuDNN: Check failed: e == CUDNN_STATUS_SUCCESS (2 vs. 0) : CUDNN_STATUS_ALLOC_FAILED\n\". See https://eu-west-1.console.aws.amazon.com/cloudwatch/home?region=eu-west-1#logEventViewer:group=/aws/sagemaker/Endpoints/football4 in account 889960878219 for more information."
     ]
    }
   ],
   "source": [
    "#Evaluate test videos on S3:\n",
    "eval_videos = ['Football4_321.mp4',\n",
    "               'Football4_099.mp4',\n",
    "               'Football4_208.mp4',\n",
    "               'Football4_280.mp4',\n",
    "               'Football4_307.mp4',\n",
    "               'Football4_136.mp4',\n",
    "               'Football4_217.mp4',\n",
    "               'Football4_172.mp4',\n",
    "               'Football4_235.mp4',\n",
    "               'Football4_271.mp4',\n",
    "               'Football4_118.mp4']\n",
    "\n",
    "for i in eval_videos:\n",
    "    S3_VIDEO_PATH = 's3://{}/{}/{}'.format(bucket, videos_prefix, i)\n",
    "    data = {'S3_VIDEO_PATH': S3_VIDEO_PATH,}\n",
    "    print(time.time(),'Running inference for video',i,'on SageMaker endpoint',task)\n",
    "    sm_runtime = boto3.Session().client('sagemaker-runtime')\n",
    "    response = sm_runtime.invoke_endpoint(EndpointName=task, ContentType='application/json',Accept='application/json',Body=json.dumps(data))\n",
    "    response_body = json.loads(response['Body'].read().decode('utf-8'))\n",
    "    print(time.time(),response_body)\n"
   ]
  },
  {
   "cell_type": "markdown",
   "metadata": {},
   "source": [
    "(Optional) Remember to delete the SageMaker endpoint after you are done with the testing inferences, for avoiding unnecessary costs."
   ]
  },
  {
   "cell_type": "code",
   "execution_count": null,
   "metadata": {},
   "outputs": [],
   "source": [
    "print(\"Endpoint name: \" + predictor.endpoint)\n",
    "predictor.delete_endpoint()"
   ]
  },
  {
   "cell_type": "code",
   "execution_count": null,
   "metadata": {},
   "outputs": [],
   "source": []
  }
 ],
 "metadata": {
  "instance_type": "ml.g4dn.xlarge",
  "kernelspec": {
   "display_name": "Python 3 (MXNet 1.8 Python 3.7 GPU Optimized)",
   "language": "python",
   "name": "python3__SAGEMAKER_INTERNAL__arn:aws:sagemaker:eu-west-1:470317259841:image/mxnet-1.8-gpu-py37-cu110-ubuntu16.04-v1"
  },
  "language_info": {
   "codemirror_mode": {
    "name": "ipython",
    "version": 3
   },
   "file_extension": ".py",
   "mimetype": "text/x-python",
   "name": "python",
   "nbconvert_exporter": "python",
   "pygments_lexer": "ipython3",
   "version": "3.7.9"
  }
 },
 "nbformat": 4,
 "nbformat_minor": 4
}
